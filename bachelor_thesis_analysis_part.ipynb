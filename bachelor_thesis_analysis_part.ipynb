{
 "cells": [
  {
   "cell_type": "markdown",
   "id": "bd2900fa",
   "metadata": {},
   "source": [
    "<h1 style=\"color: blue; text-align:center\">Evaluating the Role of Chunk Size in Retrieval-Augmented Generation (RAG)</h1>\n"
   ]
  },
  {
   "cell_type": "markdown",
   "id": "58160494",
   "metadata": {},
   "source": [
    "<h2 style=\"text-align:center;color:green\">Methodology<h2>"
   ]
  },
  {
   "cell_type": "markdown",
   "id": "3bae347d",
   "metadata": {},
   "source": [
    "### import required libraries"
   ]
  },
  {
   "cell_type": "code",
   "execution_count": 3,
   "id": "70e3d3a4",
   "metadata": {},
   "outputs": [],
   "source": [
    "from datasets import load_dataset\n",
    "import pandas as pd\n",
    "import numpy as np\n",
    "from langchain.text_splitter import RecursiveCharacterTextSplitter\n",
    "import requests\n",
    "import matplotlib.pyplot as plt"
   ]
  },
  {
   "cell_type": "markdown",
   "id": "9309f48b",
   "metadata": {},
   "source": [
    "## Select Dataset"
   ]
  },
  {
   "cell_type": "markdown",
   "id": "36e2d234",
   "metadata": {},
   "source": [
    "The **\"christti/squad-augmented-v2\"** dataset builds on the Stanford Question Answering Dataset (SQuAD) and includes diverse, human-curated passages with associated questions and answers. It provides rich, semantically coherent contexts spanning various topics, making it ideal for tasks like question answering and retrieval-based systems."
   ]
  },
  {
   "cell_type": "markdown",
   "id": "0ea54b24",
   "metadata": {},
   "source": [
    "## Why this Dataset\n",
    " + **Diverse Topics:** The dataset covers a wide range of subjects, ensuring a comprehensive and heterogeneous knowledge base.\n",
    " + **Rich Contexts:** High-quality passages are well-suited for chunking experiments without losing semantic integrity.\n",
    " + **Real-World Relevance:** Designed around real-world use cases, it aligns closely with typical RAG applications.\n",
    " + **Benchmark Quality:** Widely recognized in NLP research, it ensures credibility and comparability of results.\n",
    " + **Ease of Use:** Its structured format simplifies preprocessing and knowledge base construction."
   ]
  },
  {
   "cell_type": "markdown",
   "id": "90e59e53",
   "metadata": {},
   "source": [
    "### load the dataset"
   ]
  },
  {
   "cell_type": "code",
   "execution_count": 6,
   "id": "143012ed",
   "metadata": {},
   "outputs": [],
   "source": [
    "ds = load_dataset(\"christti/squad-augmented-v2\")\n",
    "df = pd.DataFrame(ds[\"train\"])"
   ]
  },
  {
   "cell_type": "code",
   "execution_count": 7,
   "id": "471fdbd3",
   "metadata": {},
   "outputs": [
    {
     "data": {
      "text/plain": [
       "(169211, 5)"
      ]
     },
     "execution_count": 7,
     "metadata": {},
     "output_type": "execute_result"
    }
   ],
   "source": [
    "df.shape"
   ]
  },
  {
   "cell_type": "markdown",
   "id": "b4f6c750",
   "metadata": {},
   "source": [
    "the dataset contains huge number of rows. for the limitation of computational power we use only first **5000** rows from the dataset."
   ]
  },
  {
   "cell_type": "code",
   "execution_count": 8,
   "id": "dd8bbd69",
   "metadata": {
    "scrolled": false
   },
   "outputs": [
    {
     "data": {
      "text/html": [
       "<div>\n",
       "<style scoped>\n",
       "    .dataframe tbody tr th:only-of-type {\n",
       "        vertical-align: middle;\n",
       "    }\n",
       "\n",
       "    .dataframe tbody tr th {\n",
       "        vertical-align: top;\n",
       "    }\n",
       "\n",
       "    .dataframe thead th {\n",
       "        text-align: right;\n",
       "    }\n",
       "</style>\n",
       "<table border=\"1\" class=\"dataframe\">\n",
       "  <thead>\n",
       "    <tr style=\"text-align: right;\">\n",
       "      <th></th>\n",
       "      <th>id</th>\n",
       "      <th>title</th>\n",
       "      <th>context</th>\n",
       "      <th>question</th>\n",
       "      <th>answers</th>\n",
       "    </tr>\n",
       "  </thead>\n",
       "  <tbody>\n",
       "    <tr>\n",
       "      <th>0</th>\n",
       "      <td>5733be284776f41900661182</td>\n",
       "      <td>University_of_Notre_Dame</td>\n",
       "      <td>Architecturally, the school has a Catholic cha...</td>\n",
       "      <td>To whom did the Virgin Mary allegedly appear i...</td>\n",
       "      <td>{'text': ['Saint Bernadette Soubirous'], 'answ...</td>\n",
       "    </tr>\n",
       "    <tr>\n",
       "      <th>1</th>\n",
       "      <td>5733be284776f4190066117f</td>\n",
       "      <td>University_of_Notre_Dame</td>\n",
       "      <td>Architecturally, the school has a Catholic cha...</td>\n",
       "      <td>What is in front of the Notre Dame Main Building?</td>\n",
       "      <td>{'text': ['a copper statue of Christ'], 'answe...</td>\n",
       "    </tr>\n",
       "    <tr>\n",
       "      <th>2</th>\n",
       "      <td>5733be284776f41900661180</td>\n",
       "      <td>University_of_Notre_Dame</td>\n",
       "      <td>Architecturally, the school has a Catholic cha...</td>\n",
       "      <td>The Basilica of the Sacred heart at Notre Dame...</td>\n",
       "      <td>{'text': ['the Main Building'], 'answer_start'...</td>\n",
       "    </tr>\n",
       "  </tbody>\n",
       "</table>\n",
       "</div>"
      ],
      "text/plain": [
       "                         id                     title  \\\n",
       "0  5733be284776f41900661182  University_of_Notre_Dame   \n",
       "1  5733be284776f4190066117f  University_of_Notre_Dame   \n",
       "2  5733be284776f41900661180  University_of_Notre_Dame   \n",
       "\n",
       "                                             context  \\\n",
       "0  Architecturally, the school has a Catholic cha...   \n",
       "1  Architecturally, the school has a Catholic cha...   \n",
       "2  Architecturally, the school has a Catholic cha...   \n",
       "\n",
       "                                            question  \\\n",
       "0  To whom did the Virgin Mary allegedly appear i...   \n",
       "1  What is in front of the Notre Dame Main Building?   \n",
       "2  The Basilica of the Sacred heart at Notre Dame...   \n",
       "\n",
       "                                             answers  \n",
       "0  {'text': ['Saint Bernadette Soubirous'], 'answ...  \n",
       "1  {'text': ['a copper statue of Christ'], 'answe...  \n",
       "2  {'text': ['the Main Building'], 'answer_start'...  "
      ]
     },
     "execution_count": 8,
     "metadata": {},
     "output_type": "execute_result"
    }
   ],
   "source": [
    "df = pd.DataFrame(ds[\"train\"][:5000])\n",
    "df.head(3)"
   ]
  },
  {
   "cell_type": "markdown",
   "id": "68d46171",
   "metadata": {},
   "source": [
    "Each row contains  **context**, **question** and **answer**"
   ]
  },
  {
   "cell_type": "code",
   "execution_count": 9,
   "id": "bc33fc63",
   "metadata": {},
   "outputs": [],
   "source": [
    "contexts = df['context'].unique()"
   ]
  },
  {
   "cell_type": "code",
   "execution_count": 10,
   "id": "c5d0994a",
   "metadata": {},
   "outputs": [
    {
     "data": {
      "text/plain": [
       "(820,)"
      ]
     },
     "execution_count": 10,
     "metadata": {},
     "output_type": "execute_result"
    }
   ],
   "source": [
    "contexts.shape"
   ]
  },
  {
   "cell_type": "markdown",
   "id": "f6fb0cef",
   "metadata": {},
   "source": [
    "there are 820 different contexts"
   ]
  },
  {
   "cell_type": "markdown",
   "id": "7f9afc71",
   "metadata": {},
   "source": [
    "### Concatenate all the contexts to create a unified knowledge base or corpus."
   ]
  },
  {
   "cell_type": "code",
   "execution_count": 12,
   "id": "db0f6849",
   "metadata": {},
   "outputs": [],
   "source": [
    "corpus = ' '.join([context for context in contexts])"
   ]
  },
  {
   "cell_type": "code",
   "execution_count": 14,
   "id": "ca690f9e",
   "metadata": {},
   "outputs": [
    {
     "data": {
      "text/plain": [
       "600535"
      ]
     },
     "execution_count": 14,
     "metadata": {},
     "output_type": "execute_result"
    }
   ],
   "source": [
    "len(corpus)"
   ]
  },
  {
   "cell_type": "code",
   "execution_count": 15,
   "id": "c57bf815",
   "metadata": {},
   "outputs": [
    {
     "data": {
      "text/plain": [
       "96449"
      ]
     },
     "execution_count": 15,
     "metadata": {},
     "output_type": "execute_result"
    }
   ],
   "source": [
    "len(corpus.split(\" \"))"
   ]
  },
  {
   "cell_type": "markdown",
   "id": "d2b161e0",
   "metadata": {},
   "source": [
    "96449 words"
   ]
  },
  {
   "cell_type": "markdown",
   "id": "b8262890",
   "metadata": {},
   "source": [
    "## Select Chunk Size"
   ]
  },
  {
   "cell_type": "markdown",
   "id": "d40800c1",
   "metadata": {},
   "source": [
    "Now the corpus will be divided into different chunk size. We will consider 4 type of chunk type.\n",
    "   + page\n",
    "   + small \n",
    "   + medium \n",
    "   + large "
   ]
  },
  {
   "cell_type": "markdown",
   "id": "177911e8",
   "metadata": {},
   "source": [
    "in the dataset we have seen each row has a context. so we will consider each context as a page. this is also one of the popular chunking strategy. for getting optimal chunk size for **small, medium and large** let analyse the length of each context.  "
   ]
  },
  {
   "cell_type": "markdown",
   "id": "cbaf0660",
   "metadata": {},
   "source": [
    "### Analyze length of contexts"
   ]
  },
  {
   "cell_type": "code",
   "execution_count": 22,
   "id": "3e743297",
   "metadata": {
    "scrolled": true
   },
   "outputs": [
    {
     "data": {
      "text/plain": [
       "count     820.000000\n",
       "mean      731.360976\n",
       "std       358.499497\n",
       "min       154.000000\n",
       "25%       468.750000\n",
       "50%       667.000000\n",
       "75%       912.500000\n",
       "max      3076.000000\n",
       "dtype: float64"
      ]
     },
     "execution_count": 22,
     "metadata": {},
     "output_type": "execute_result"
    }
   ],
   "source": [
    "pd.Series(df['context'].unique()).str.len().describe()"
   ]
  },
  {
   "cell_type": "markdown",
   "id": "8808013c",
   "metadata": {},
   "source": [
    "**Small Chunk:** ~250–500 characters. This covers short passages, ideally capturing documents around the 25th percentile.<br>\n",
    "**Medium Chunk:** ~500–800 characters. This aligns with documents near the mean and median length.<br>\n",
    "**Large Chunk:** ~800–1,200 characters or even up to 1,500 characters. This range would cover longer documents that approach the 75th percentile or exceed the mean.<br>\n",
    "**Set Chunk Overlaps:** Since we may need overlapping text for context (e.g., sentence continuity), we use overlaps of around 10–20% of each chunk size:<br>\n",
    "**Small chunks:** ~50–100 characters overlap<br>\n",
    "**Medium chunks:** ~100–150 characters overlap<br>\n",
    "**Large chunks:** ~150–200 characters overlap<br>"
   ]
  },
  {
   "cell_type": "markdown",
   "id": "271d773c",
   "metadata": {},
   "source": [
    "## Store all the chunks of each chunk type in a table in Database"
   ]
  },
  {
   "cell_type": "markdown",
   "id": "49040e95",
   "metadata": {},
   "source": [
    "### create chunks for each chunk size"
   ]
  },
  {
   "cell_type": "markdown",
   "id": "bb4f7cf4",
   "metadata": {},
   "source": [
    "<code>get_chunks_by_size()</code> function is used to devide the **knowledge base or corpus** into chunks of given chunk size and  overlap."
   ]
  },
  {
   "cell_type": "code",
   "execution_count": null,
   "id": "04756a14",
   "metadata": {},
   "outputs": [],
   "source": [
    "def get_chunks_by_size(chunk_size: int, overlap: int, corpus: str):\n",
    "    chunk_splitter = RecursiveCharacterTextSplitter(\n",
    "        chunk_size=chunk_size, chunk_overlap=overlap\n",
    "    )\n",
    "    return chunk_splitter.split_text(corpus)"
   ]
  },
  {
   "cell_type": "markdown",
   "id": "c7acae7c",
   "metadata": {},
   "source": [
    "## Table for storing chunks in DB\n",
    "I have created a table in my local Database for storing all the chunks of each chunk type and their corresponding embeddings. The database table looks like, "
   ]
  },
  {
   "cell_type": "markdown",
   "id": "58130057",
   "metadata": {},
   "source": [
    "### Table: text_vectors\n",
    "\n",
    "| Field      | Type                                  | Null | Key | Default | Extra          |\n",
    "|------------|---------------------------------------|------|-----|---------|----------------|\n",
    "| id         | int                                   | NO   | PRI | NULL    | auto_increment |\n",
    "| chunk_text | text                                  | YES  |     | NULL    |                |\n",
    "| chunk_type | enum('PAGE','SMALL','MEDIUM','LARGE') | NO   |     | NULL    |                |\n",
    "| embedding  | blob                                  | YES  |     | NULL    |                |\n"
   ]
  },
  {
   "cell_type": "markdown",
   "id": "26f564f3",
   "metadata": {},
   "source": [
    "## Calculate embeddings for each chunk\n",
    "After getting chunks from <code>get_chunks_by_size()</code> function, we can calculate their embeddings. But before calculating embeddings one of the most important step is **Text Preprocessing**. The following steps are included in **Text Preprocessing**."
   ]
  },
  {
   "cell_type": "markdown",
   "id": "39830761",
   "metadata": {},
   "source": [
    "### Text Preprocessing"
   ]
  },
  {
   "cell_type": "code",
   "execution_count": 25,
   "id": "f5138d85",
   "metadata": {},
   "outputs": [],
   "source": [
    "def text_preprocessing(text):\n",
    "    \"\"\"\n",
    "    Apply all preprocessing functions to the input text.\n",
    "    \"\"\"\n",
    "    # Step 1: Remove HTML tags\n",
    "    text = removeHTMLTags(text)\n",
    "    \n",
    "    # Step 2: Remove URLs\n",
    "    text = removeURL(text)\n",
    "    \n",
    "    # Step 3: Remove punctuation\n",
    "    text = remove_punctuation(text)\n",
    "    \n",
    "    # Step 4: Remove stopwords\n",
    "    text = remove_stopwords(text)\n",
    "    \n",
    "    # Step 5: stemming\n",
    "    text = stem_word(text)\n",
    "    \n",
    "    # Step 6: lemmatization\n",
    "    text = lemmatize_text(text)\n",
    "    return text"
   ]
  },
  {
   "cell_type": "markdown",
   "id": "668900d2",
   "metadata": {},
   "source": [
    "After text preprocessing the chunks are ready to be converted into vector. <code>get_embeddings()</code> function is used to calculate embeddings for each chunk."
   ]
  },
  {
   "cell_type": "code",
   "execution_count": null,
   "id": "57a353fc",
   "metadata": {},
   "outputs": [],
   "source": [
    "def get_embeddings(text):\n",
    "    model = SentenceTransformer(\"all-MiniLM-L6-v2\")\n",
    "    vector = model.encode(text)\n",
    "    pickled_vector = pickle.dumps(vector)\n",
    "    return pickled_vector"
   ]
  },
  {
   "cell_type": "markdown",
   "id": "4921d9ae",
   "metadata": {},
   "source": [
    "After calculating embeddings all the chunks are stored in <code>text_vectors</code> table in local database."
   ]
  },
  {
   "cell_type": "markdown",
   "id": "017ebea5",
   "metadata": {},
   "source": [
    "## Analyze Stored chunks in Database"
   ]
  },
  {
   "cell_type": "markdown",
   "id": "7d309b1c",
   "metadata": {},
   "source": [
    "### Get all the chunks from the Database and convert them into pandas Dataframe"
   ]
  },
  {
   "cell_type": "code",
   "execution_count": 32,
   "id": "42189d2b",
   "metadata": {},
   "outputs": [],
   "source": [
    "url = \"http://172.24.0.127:8080/app/get/chunks\"\n",
    "response = requests.get(url)\n",
    "response.raise_for_status() \n",
    "data = response.json() \n",
    "chunks = pd.DataFrame(data) \n"
   ]
  },
  {
   "cell_type": "code",
   "execution_count": 33,
   "id": "3a38f5f3",
   "metadata": {
    "scrolled": true
   },
   "outputs": [
    {
     "data": {
      "text/html": [
       "<div>\n",
       "<style scoped>\n",
       "    .dataframe tbody tr th:only-of-type {\n",
       "        vertical-align: middle;\n",
       "    }\n",
       "\n",
       "    .dataframe tbody tr th {\n",
       "        vertical-align: top;\n",
       "    }\n",
       "\n",
       "    .dataframe thead th {\n",
       "        text-align: right;\n",
       "    }\n",
       "</style>\n",
       "<table border=\"1\" class=\"dataframe\">\n",
       "  <thead>\n",
       "    <tr style=\"text-align: right;\">\n",
       "      <th></th>\n",
       "      <th>chunk_text</th>\n",
       "      <th>chunk_type</th>\n",
       "      <th>embedding</th>\n",
       "      <th>id</th>\n",
       "    </tr>\n",
       "  </thead>\n",
       "  <tbody>\n",
       "    <tr>\n",
       "      <th>0</th>\n",
       "      <td>Architecturally, the school has a Catholic cha...</td>\n",
       "      <td>PAGE</td>\n",
       "      <td>8004958c060000000000008c156e756d70792e636f7265...</td>\n",
       "      <td>1</td>\n",
       "    </tr>\n",
       "    <tr>\n",
       "      <th>1</th>\n",
       "      <td>As at most other universities, Notre Dame's st...</td>\n",
       "      <td>PAGE</td>\n",
       "      <td>8004958c060000000000008c156e756d70792e636f7265...</td>\n",
       "      <td>2</td>\n",
       "    </tr>\n",
       "    <tr>\n",
       "      <th>2</th>\n",
       "      <td>The university is the major seat of the Congre...</td>\n",
       "      <td>PAGE</td>\n",
       "      <td>8004958c060000000000008c156e756d70792e636f7265...</td>\n",
       "      <td>3</td>\n",
       "    </tr>\n",
       "  </tbody>\n",
       "</table>\n",
       "</div>"
      ],
      "text/plain": [
       "                                          chunk_text chunk_type  \\\n",
       "0  Architecturally, the school has a Catholic cha...       PAGE   \n",
       "1  As at most other universities, Notre Dame's st...       PAGE   \n",
       "2  The university is the major seat of the Congre...       PAGE   \n",
       "\n",
       "                                           embedding  id  \n",
       "0  8004958c060000000000008c156e756d70792e636f7265...   1  \n",
       "1  8004958c060000000000008c156e756d70792e636f7265...   2  \n",
       "2  8004958c060000000000008c156e756d70792e636f7265...   3  "
      ]
     },
     "execution_count": 33,
     "metadata": {},
     "output_type": "execute_result"
    }
   ],
   "source": [
    "chunks.head(3)"
   ]
  },
  {
   "cell_type": "code",
   "execution_count": 34,
   "id": "86a930d6",
   "metadata": {},
   "outputs": [
    {
     "data": {
      "text/plain": [
       "(3705, 4)"
      ]
     },
     "execution_count": 34,
     "metadata": {},
     "output_type": "execute_result"
    }
   ],
   "source": [
    "chunks.shape"
   ]
  },
  {
   "cell_type": "markdown",
   "id": "69a7a01a",
   "metadata": {},
   "source": [
    "### Analyze chunk types"
   ]
  },
  {
   "cell_type": "code",
   "execution_count": 44,
   "id": "778367be",
   "metadata": {
    "scrolled": true
   },
   "outputs": [
    {
     "data": {
      "text/plain": [
       "chunk_type\n",
       "LARGE      589\n",
       "MEDIUM     883\n",
       "PAGE       820\n",
       "SMALL     1413\n",
       "Name: chunk_type, dtype: int64"
      ]
     },
     "execution_count": 44,
     "metadata": {},
     "output_type": "execute_result"
    }
   ],
   "source": [
    "chunk_type=chunks.groupby(\"chunk_type\")['chunk_type'].count()\n",
    "chunk_type"
   ]
  },
  {
   "cell_type": "code",
   "execution_count": 43,
   "id": "5e524817",
   "metadata": {
    "scrolled": true
   },
   "outputs": [
    {
     "data": {
      "image/png": "[encoded data removed]",
      "text/plain": [
       "<Figure size 640x480 with 1 Axes>"
      ]
     },
     "metadata": {},
     "output_type": "display_data"
    }
   ],
   "source": [
    "plt.bar(chunk_type.index, chunk_type.values)\n",
    "plt.xlabel(\"Chunk Type\")\n",
    "plt.ylabel(\"Count\")\n",
    "plt.title(\"Counts of Each Chunk Type\")\n",
    "plt.show()\n"
   ]
  },
  {
   "cell_type": "markdown",
   "id": "ad9f1196",
   "metadata": {},
   "source": [
    "## Get similar chunks from DB for a given query.\n",
    "Now we have stored all the chunks in our db. If we have an user query, we can get the most relevant chunks to answer this query. For this we also need to perform the above steps, which we did for each chunks. \n",
    "  + preprocess the query \n",
    "  + calculate embeddings of the query "
   ]
  },
  {
   "cell_type": "markdown",
   "id": "7f0d6249",
   "metadata": {},
   "source": [
    "After calculating the embeddings of the user query, we can perform a **Vector Search** to find the most relevant chunks. for this the function <code>get_context_by_chunk_type()</code> is used. This function performes the followin steps,\n",
    "   + get all the chunks from the database \n",
    "   + convert the user query into embeddings \n",
    "   + calculate **cosine similarity** of each chunk with the user query.\n",
    "   + store the chunks in a list\n",
    "   + sort the list based on similarity score\n",
    "   + return top 3 relevant chunks as a string"
   ]
  },
  {
   "cell_type": "code",
   "execution_count": 1,
   "id": "25b02da4",
   "metadata": {},
   "outputs": [],
   "source": [
    "def get_context_by_chunk_type(chunk_type, query_text):\n",
    "        start_time = time.time()\n",
    "        \n",
    "        # get db connection\n",
    "        connection = create_connection()\n",
    "        cursor = connection.cursor()\n",
    "        cursor.execute(\n",
    "            \"SELECT * FROM text_vectors WHERE chunk_type=%s\", (chunk_type,)\n",
    "        ) \n",
    "        \n",
    "        # get all the chunks\n",
    "        rows = cursor.fetchall()\n",
    "        \n",
    "        # convert user query into vector\n",
    "        clean_query = preprocess_text(query_text.lower())\n",
    "        model = SentenceTransformer(\"all-MiniLM-L6-v2\")\n",
    "        query_vector = model.encode(clean_query)\n",
    "        \n",
    "        # calculate cosine similarity \n",
    "        similar: list[Similar_Text] = []\n",
    "        for row in rows:\n",
    "            sim_score = cosine_similarity(pickle.loads(row[3]), query_vector)\n",
    "            similar.append(Similar_Text(row[1], sim_score=sim_score))\n",
    "            \n",
    "        # sort all the chunks based on similarity score with the user query    \n",
    "        similar.sort(key=lambda similar: similar.sim_score, reverse=True)\n",
    "        text = \"/n\".join([sm.text for sm in similar[:3]])\n",
    "        end_time = time.time()\n",
    "        return {\"retrieval_time\": end_time - start_time, \"text\": text}"
   ]
  },
  {
   "cell_type": "markdown",
   "id": "22fa3f63",
   "metadata": {},
   "source": [
    "## Generate response by LLM\n",
    "After getting the relevant chunks from the **Vector Database***, we can send this context + user query as a prompt to the LLM to generate a response. the function <code>chat_with_ai()</code> generate response for a given user query. Additionally, the response time is also calculated. "
   ]
  },
  {
   "cell_type": "code",
   "execution_count": null,
   "id": "f3380a2f",
   "metadata": {},
   "outputs": [],
   "source": [
    "def chat_with_ai(user_query: str, chunk_type, ref_ans):\n",
    "    # get openai key\n",
    "    openai_api_key = os.environ[\"OPENAI_API_KEY\"]  \n",
    "    \n",
    "    # get relevant chunks\n",
    "    result = get_context_by_chunk_type(chunk_type, user_query)\n",
    "    \n",
    "    # format prompt \n",
    "    prompt_template = ChatPromptTemplate.from_template(PROMPT_TEMPLATE)\n",
    "    prompt = prompt_template.format(context=result[\"text\"], question=user_query)\n",
    "    \n",
    "    # generate response\n",
    "    model = ChatOpenAI(openai_api_key=openai_api_key, model_name=\"gpt-4o\")\n",
    "    start_time = time.time()\n",
    "    response_text = model.invoke(prompt)\n",
    "    end_time = time.time()\n",
    "    delta = end_time - start_time\n",
    "    return {\"response_time\":delta,\"response\":response_text.content}"
   ]
  },
  {
   "cell_type": "markdown",
   "id": "bf8747fd",
   "metadata": {},
   "source": [
    "## Used Prompt template"
   ]
  },
  {
   "cell_type": "code",
   "execution_count": null,
   "id": "1d210871",
   "metadata": {},
   "outputs": [],
   "source": [
    "PROMPT_TEMPLATE = \"\"\"\n",
    "            Provide an answer to the question below based exclusively on the Context provided. \n",
    "            Do not include information outside of this Context in your response.\n",
    "\n",
    "\n",
    "            **Context:**\n",
    "            {context}\n",
    "\n",
    "            ---------\n",
    "            **Question:** {question}\n",
    " \n",
    "        \"\"\""
   ]
  },
  {
   "cell_type": "markdown",
   "id": "6597df87",
   "metadata": {},
   "source": [
    "## Generate Response for 90 user Queries\n",
    "for analysing the impact of chunk size on the response of LLM I have randomly choosen 90 questions from the dataset. For each question, 4 responses are generated.\n",
    " + response for page chunking\n",
    " + response for small chunking\n",
    " + response for medium chunking\n",
    " + response for large chunking"
   ]
  },
  {
   "cell_type": "markdown",
   "id": "bed0edd8",
   "metadata": {},
   "source": [
    "in client the function <code>chat_with_ai()</code> is used to generate a response for a user query."
   ]
  },
  {
   "cell_type": "code",
   "execution_count": 1,
   "id": "34afe2b0",
   "metadata": {},
   "outputs": [],
   "source": [
    "def chat_with_ai(question, chunk_type,ref_ans):\n",
    "    # Properly encode parameters separately\n",
    "    question = requests.utils.quote(question)\n",
    "    chunk_type = requests.utils.quote(chunk_type)\n",
    "\n",
    "    # Construct the URL\n",
    "    url = f\"http://127.0.0.1:8080/app/chat/{question}/{chunk_type}/{ref_ans}\"\n",
    "\n",
    "    # Make the request\n",
    "    response = requests.get(url)\n",
    "    \n",
    "    # Return the response as JSON\n",
    "    if response.status_code == 200:\n",
    "        return response\n",
    "    else:\n",
    "        print(\"Error:\", response.status_code)\n",
    "        return {\"error\": \"Something went wrong\"}"
   ]
  },
  {
   "cell_type": "markdown",
   "id": "2a4c84a6",
   "metadata": {},
   "source": [
    "## Generate responses for 90 questions\n",
    "I have stored all the responses in another Table in my Database. "
   ]
  },
  {
   "cell_type": "code",
   "execution_count": 2,
   "id": "6215aa35",
   "metadata": {},
   "outputs": [
    {
     "ename": "NameError",
     "evalue": "name 'questions' is not defined",
     "output_type": "error",
     "traceback": [
      "\u001b[0;31m---------------------------------------------------------------------------\u001b[0m",
      "\u001b[0;31mNameError\u001b[0m                                 Traceback (most recent call last)",
      "\u001b[0;32m/tmp/ipykernel_32740/2839335674.py\u001b[0m in \u001b[0;36m<module>\u001b[0;34m\u001b[0m\n\u001b[0;32m----> 1\u001b[0;31m \u001b[0;32mfor\u001b[0m \u001b[0mq\u001b[0m\u001b[0;34m,\u001b[0m\u001b[0mans\u001b[0m \u001b[0;32min\u001b[0m \u001b[0mzip\u001b[0m\u001b[0;34m(\u001b[0m\u001b[0mquestions\u001b[0m\u001b[0;34m,\u001b[0m\u001b[0manswers\u001b[0m\u001b[0;34m)\u001b[0m\u001b[0;34m:\u001b[0m\u001b[0;34m\u001b[0m\u001b[0;34m\u001b[0m\u001b[0m\n\u001b[0m\u001b[1;32m      2\u001b[0m     \u001b[0mchunk_type\u001b[0m\u001b[0;34m=\u001b[0m\u001b[0;34m[\u001b[0m\u001b[0;34m'PAGE'\u001b[0m\u001b[0;34m,\u001b[0m\u001b[0;34m'SMALL'\u001b[0m\u001b[0;34m,\u001b[0m\u001b[0;34m'MEDIUM'\u001b[0m\u001b[0;34m,\u001b[0m\u001b[0;34m'LARGE'\u001b[0m\u001b[0;34m]\u001b[0m\u001b[0;34m\u001b[0m\u001b[0;34m\u001b[0m\u001b[0m\n\u001b[1;32m      3\u001b[0m     \u001b[0;32mfor\u001b[0m \u001b[0mc\u001b[0m \u001b[0;32min\u001b[0m \u001b[0mchunk_type\u001b[0m\u001b[0;34m:\u001b[0m\u001b[0;34m\u001b[0m\u001b[0;34m\u001b[0m\u001b[0m\n\u001b[1;32m      4\u001b[0m       \u001b[0mchat_with_ai\u001b[0m\u001b[0;34m(\u001b[0m\u001b[0mq\u001b[0m\u001b[0;34m,\u001b[0m\u001b[0mc\u001b[0m\u001b[0;34m,\u001b[0m\u001b[0mans\u001b[0m\u001b[0;34m)\u001b[0m\u001b[0;34m\u001b[0m\u001b[0;34m\u001b[0m\u001b[0m\n\u001b[1;32m      5\u001b[0m \u001b[0;34m\u001b[0m\u001b[0m\n",
      "\u001b[0;31mNameError\u001b[0m: name 'questions' is not defined"
     ]
    }
   ],
   "source": [
    "for q,ans in zip(questions,answers):\n",
    "    chunk_type=['PAGE','SMALL','MEDIUM','LARGE'] \n",
    "    for c in chunk_type: \n",
    "      chat_with_ai(q,c,ans)\n",
    "   "
   ]
  },
  {
   "cell_type": "markdown",
   "id": "7fcc7873",
   "metadata": {},
   "source": [
    "### Table: evaluate_answer\n",
    "\n",
    "| Field          | Type                                  | Null | Key | Default | Extra          |\n",
    "|----------------|---------------------------------------|------|-----|---------|----------------|\n",
    "| id             | int                                   | NO   | PRI | NULL    | auto_increment |\n",
    "| ref_answer     | text                                  | YES  |     | NULL    |                |\n",
    "| chunk_type     | enum('PAGE','SMALL','MEDIUM','LARGE') | NO   |     | NULL    |                |\n",
    "| llm_response   | text                                  | YES  |     | NULL    |                |\n",
    "| response_time  | double                                | YES  |     | NULL    |                |\n",
    "| retrieval_time | double                                | YES  |     | NULL    |                |\n"
   ]
  },
  {
   "cell_type": "markdown",
   "id": "e6496c5b",
   "metadata": {},
   "source": [
    "## Analyze generated responses"
   ]
  },
  {
   "cell_type": "code",
   "execution_count": 4,
   "id": "73ec38dc",
   "metadata": {},
   "outputs": [],
   "source": [
    "url = \"http://172.24.0.127:8080/app/get/responses\"\n",
    "response = requests.get(url)\n",
    "response.raise_for_status() \n",
    "data = response.json() \n",
    "responses = pd.DataFrame(data) "
   ]
  },
  {
   "cell_type": "code",
   "execution_count": 5,
   "id": "af0a9d14",
   "metadata": {},
   "outputs": [
    {
     "data": {
      "text/html": [
       "<div>\n",
       "<style scoped>\n",
       "    .dataframe tbody tr th:only-of-type {\n",
       "        vertical-align: middle;\n",
       "    }\n",
       "\n",
       "    .dataframe tbody tr th {\n",
       "        vertical-align: top;\n",
       "    }\n",
       "\n",
       "    .dataframe thead th {\n",
       "        text-align: right;\n",
       "    }\n",
       "</style>\n",
       "<table border=\"1\" class=\"dataframe\">\n",
       "  <thead>\n",
       "    <tr style=\"text-align: right;\">\n",
       "      <th></th>\n",
       "      <th>chunk_type</th>\n",
       "      <th>id</th>\n",
       "      <th>llm_response</th>\n",
       "      <th>ref_answer</th>\n",
       "      <th>response_time</th>\n",
       "      <th>retrieval_time</th>\n",
       "    </tr>\n",
       "  </thead>\n",
       "  <tbody>\n",
       "    <tr>\n",
       "      <th>0</th>\n",
       "      <td>PAGE</td>\n",
       "      <td>1</td>\n",
       "      <td>\"Formation\" was released by Beyoncé in Februar...</td>\n",
       "      <td>On February 6, 2016, one day before her Super ...</td>\n",
       "      <td>1.564220</td>\n",
       "      <td>2.501853</td>\n",
       "    </tr>\n",
       "    <tr>\n",
       "      <th>1</th>\n",
       "      <td>SMALL</td>\n",
       "      <td>2</td>\n",
       "      <td>\"Unknown based on the Context provided.\"</td>\n",
       "      <td>On February 6, 2016, one day before her Super ...</td>\n",
       "      <td>0.875026</td>\n",
       "      <td>1.900175</td>\n",
       "    </tr>\n",
       "    <tr>\n",
       "      <th>2</th>\n",
       "      <td>MEDIUM</td>\n",
       "      <td>3</td>\n",
       "      <td>\"The Context provided does not specify when Be...</td>\n",
       "      <td>On February 6, 2016, one day before her Super ...</td>\n",
       "      <td>0.888419</td>\n",
       "      <td>1.369914</td>\n",
       "    </tr>\n",
       "    <tr>\n",
       "      <th>3</th>\n",
       "      <td>LARGE</td>\n",
       "      <td>4</td>\n",
       "      <td>\"Based on the provided Context, there is no in...</td>\n",
       "      <td>On February 6, 2016, one day before her Super ...</td>\n",
       "      <td>1.163664</td>\n",
       "      <td>1.433956</td>\n",
       "    </tr>\n",
       "    <tr>\n",
       "      <th>4</th>\n",
       "      <td>PAGE</td>\n",
       "      <td>5</td>\n",
       "      <td>\"'03 Bonnie &amp; Clyde\"</td>\n",
       "      <td>The music video for '03 Bonnie &amp; Clyde' where ...</td>\n",
       "      <td>0.864547</td>\n",
       "      <td>1.388123</td>\n",
       "    </tr>\n",
       "  </tbody>\n",
       "</table>\n",
       "</div>"
      ],
      "text/plain": [
       "  chunk_type  id                                       llm_response  \\\n",
       "0       PAGE   1  \"Formation\" was released by Beyoncé in Februar...   \n",
       "1      SMALL   2           \"Unknown based on the Context provided.\"   \n",
       "2     MEDIUM   3  \"The Context provided does not specify when Be...   \n",
       "3      LARGE   4  \"Based on the provided Context, there is no in...   \n",
       "4       PAGE   5                               \"'03 Bonnie & Clyde\"   \n",
       "\n",
       "                                          ref_answer  response_time  \\\n",
       "0  On February 6, 2016, one day before her Super ...       1.564220   \n",
       "1  On February 6, 2016, one day before her Super ...       0.875026   \n",
       "2  On February 6, 2016, one day before her Super ...       0.888419   \n",
       "3  On February 6, 2016, one day before her Super ...       1.163664   \n",
       "4  The music video for '03 Bonnie & Clyde' where ...       0.864547   \n",
       "\n",
       "   retrieval_time  \n",
       "0        2.501853  \n",
       "1        1.900175  \n",
       "2        1.369914  \n",
       "3        1.433956  \n",
       "4        1.388123  "
      ]
     },
     "execution_count": 5,
     "metadata": {},
     "output_type": "execute_result"
    }
   ],
   "source": [
    "responses.head()"
   ]
  }
 ],
 "metadata": {
  "kernelspec": {
   "display_name": "Python 3 (ipykernel)",
   "language": "python",
   "name": "python3"
  },
  "language_info": {
   "codemirror_mode": {
    "name": "ipython",
    "version": 3
   },
   "file_extension": ".py",
   "mimetype": "text/x-python",
   "name": "python",
   "nbconvert_exporter": "python",
   "pygments_lexer": "ipython3",
   "version": "3.9.13"
  }
 },
 "nbformat": 4,
 "nbformat_minor": 5
}
