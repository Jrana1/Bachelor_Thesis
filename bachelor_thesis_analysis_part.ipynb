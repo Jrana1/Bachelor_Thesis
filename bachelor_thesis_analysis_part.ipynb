{
 "cells": [
  {
   "cell_type": "markdown",
   "id": "bd2900fa",
   "metadata": {},
   "source": [
    "<h1 style=\"color: blue; text-align:center\">Evaluating the Role of Chunk Size in Retrieval-Augmented Generation (RAG)</h1>\n"
   ]
  },
  {
   "cell_type": "markdown",
   "id": "0efc0120",
   "metadata": {},
   "source": [
    "<h2 style=\"text-align:center;color:green\">Objectives<h2>"
   ]
  },
  {
   "cell_type": "markdown",
   "id": "95a451d2",
   "metadata": {},
   "source": [
    "# Objectives of the Thesis\n",
    "\n",
    "The objectives of this thesis are systematically designed to investigate the role of chunk size on the performance of RAG-based systems. These objectives focus on evaluating accuracy, analyzing hallucination rates, assessing efficiency, and providing practical insights. Below are the key objectives:\n",
    "\n",
    "1. **Evaluate Chunk Size and Accuracy**  \n",
    "   Investigate the impact of different chunk sizes (short, medium, and long) on the quality and factual accuracy of RAG-generated responses. Metrics like Precision, Recall, F1-score, BLEU, BERT Score, and ROUGE will be employed for evaluation.\n",
    "\n",
    "2. **Analyze Hallucination Rates**  \n",
    "   Classify and assess hallucinations in RAG systems based on document length, categorizing them as:\n",
    "   - **Intrinsic hallucinations**: Errors stemming from model biases or insufficient contextual understanding.\n",
    "   - **Extrinsic hallucinations**: Errors caused by reliance on incomplete, irrelevant, or noisy retrieved information.\n",
    "\n",
    "3. **Assess Retrieval and Generation Speed**  \n",
    "   Measure retrieval times and response generation speeds across different chunk sizes to analyze the trade-offs between speed and quality, particularly for real-time applications.\n",
    "\n",
    "4. **Provide Practical Recommendations**  \n",
    "   Based on experimental results, deliver actionable guidelines for selecting appropriate chunk sizes in RAG-based QA systems. These recommendations will cater to use cases like customer support and real-time QA systems.\n",
    "\n",
    "5. **Explore Trade-offs Between Accuracy and Efficiency**  \n",
    "   Examine the relationship between chunk size, system accuracy, and operational efficiency to balance performance and practicality for various applications.\n"
   ]
  },
  {
   "cell_type": "markdown",
   "id": "29894b76",
   "metadata": {},
   "source": [
    "# Topics Cover\n",
    " + Vector Database\n",
    " + Vector Search \n",
    " + Cosine Similarity \n",
    " + Text Embeddings \n",
    " + Prompt Engineering \n",
    " + Using OpenAI by API Key\n",
    " + Building Q&A Chatbot\n",
    " + Evaluating the Retrieval Accuracy\n",
    " + Evaluating AI generated response by AI(Automation)\n",
    " + Text Cleaning\n",
    " + Evaluating contextuall similarty using ROUGE, BLEU, and BERTScore\n",
    " + Data Analysis using pandas and mathplotlib\n",
    " + Data Modeling\n",
    " + Chunking\n",
    " + Chunking Strategies"
   ]
  },
  {
   "cell_type": "markdown",
   "id": "410faa8f",
   "metadata": {},
   "source": [
    "# Tech Stack\n",
    "\n",
    "The table below summarizes the tools and frameworks used in the project, along with their specific purposes:\n",
    "\n",
    "| **Tool/Framework**           | **Usage in the Project**                                                                                     |\n",
    "|-------------------------------|-------------------------------------------------------------------------------------------------------------|\n",
    "| **Python**                    | Primary programming language used to develop and implement the project.                                     |\n",
    "| **datasets**                  | For loading the test dataset.                                                                               |\n",
    "| **pandas**                    | For data manipulation and data analysis.                                                                    |\n",
    "| **numpy**                     | For array manipulations and numerical computations.                                                         |\n",
    "| **langchain**                 | To interact with OpenAI models for response generation. <br>Used to format prompt templates and implement recursive chunking strategy. |\n",
    "| **flask**                     | For implementing REST APIs to make CRUD services available for other programs.                              |\n",
    "| **mysql.connector**           | For connecting and managing the MySQL database.                                                            |\n",
    "| **sentence\\_transformers**    | For generating vector embeddings from text.                                                                 |\n",
    "| **python-dotenv**             | For loading environment variables stored in `.env` files.                                                   |\n",
    "| **nltk**                      | For natural language processing tasks, such as BLEU score computation.                                      |\n",
    "| **rouge\\_score**              | For evaluating generated text using ROUGE metrics.                                                          |\n",
    "| **bert\\_score**               | For evaluating the semantic similarity of text using BERT embeddings.                                       |\n",
    "| **requests**                  | For making HTTP requests in various processes.                                                              |\n",
    "| **matplotlib**                | For visualizing data and analysis results.                                                                  |\n",
    "| **Ubuntu/Linux**              | Operating system with 8 GB storage capacity, used to run all tools and frameworks.                          |\n",
    "| **VS-Code**                   | IDE used for writing, debugging, and managing project code.                                                 |\n",
    "| **Jupyter Notebook**          | Interactive environment for running and visualizing Python code during development and experimentation.     |\n",
    "           |\n",
    "\n",
    "This table provides an overview of the technical stack utilized to develop and execute the project efficiently.\n"
   ]
  },
  {
   "cell_type": "markdown",
   "id": "58160494",
   "metadata": {},
   "source": [
    "<h2 style=\"text-align:center;color:green\">Methodology<h2>"
   ]
  },
  {
   "cell_type": "markdown",
   "id": "99782799",
   "metadata": {},
   "source": [
    "## RAG Architecture"
   ]
  },
  {
   "cell_type": "markdown",
   "id": "c4b49619",
   "metadata": {},
   "source": [
    "![](rag.png)"
   ]
  },
  {
   "cell_type": "markdown",
   "id": "e1c72597",
   "metadata": {},
   "source": [
    "# RAG (Retrieval-Augmented Generation)\n",
    "\n",
    "RAG expands the capabilities of Large Language Models (LLMs) by integrating a retrieval layer that enhances their ability to access real-world data and dynamic knowledge. Unlike traditional LLMs, which are constrained by their training data and limited context window, RAG retrieves relevant information from a knowledge base in real time. This allows the system to generate accurate, up-to-date, and contextually relevant responses without requiring the LLM to store all the information in its memory.\n",
    "\n",
    "The RAG architecture relies on vector databases to store knowledge as numerical embeddings, enabling efficient similarity searches. By retrieving only the most relevant chunks for a given query, RAG ensures the language model generates insights that are precise and focused. The architecture comprises two primary components: the **Retriever** and the **Generator**.\n",
    "\n",
    "---\n",
    "\n",
    "## Retriever\n",
    "\n",
    "The **Retriever** identifies the most relevant information for a query by performing similarity searches on a database of vector embeddings. The process includes:\n",
    "\n",
    "1. **Indexing**:\n",
    "   - Documents are divided into smaller chunks and converted into vector embeddings.\n",
    "   - These embeddings are stored in a vector database for quick retrieval.\n",
    "\n",
    "2. **Query Transformation**:\n",
    "   - Queries are also converted into vector representations to match the vectorized documents.\n",
    "\n",
    "3. **Similarity Search**:\n",
    "   - Techniques like sparse vector methods (e.g., TF-IDF) and dense embedding models (e.g., BERT) are used to find the most relevant chunks based on vector similarity.\n",
    "\n",
    "The retriever ensures the system retrieves the most relevant information efficiently, forming the foundation for accurate responses.\n",
    "\n",
    "---\n",
    "\n",
    "## Generator\n",
    "\n",
    "The **Generator** synthesizes the retrieved chunks into a coherent and natural language response. Key features of the generator include:\n",
    "\n",
    "- **Dependence on LLMs**:\n",
    "  - Models like GPT or BART process both the query and the retrieved chunks to generate human-like text.\n",
    "\n",
    "- **Prompt Engineering**:\n",
    "  - Carefully designed prompts guide the generator to focus on the relevant context, ensuring precise and contextually aligned outputs.\n",
    "  \n",
    "By combining the retriever and generator, RAG provides an efficient and powerful system capable of handling complex and dynamic queries while maintaining accuracy and relevance.\n"
   ]
  },
  {
   "cell_type": "markdown",
   "id": "3bae347d",
   "metadata": {},
   "source": [
    "### import required libraries"
   ]
  },
  {
   "cell_type": "code",
   "execution_count": 4,
   "id": "70e3d3a4",
   "metadata": {},
   "outputs": [],
   "source": [
    "from datasets import load_dataset\n",
    "import pandas as pd\n",
    "import numpy as np\n",
    "from langchain.text_splitter import RecursiveCharacterTextSplitter\n",
    "import requests\n",
    "import matplotlib.pyplot as plt\n",
    "from langchain_openai import ChatOpenAI\n",
    "import os\n",
    "from langchain.prompts import ChatPromptTemplate, HumanMessagePromptTemplate\n",
    "import json\n",
    "import time\n",
    "from nltk.translate.bleu_score import sentence_bleu, SmoothingFunction\n",
    "from rouge_score import rouge_scorer\n",
    "import re\n",
    "from bert_score import score\n",
    "from matplotlib import cm"
   ]
  },
  {
   "cell_type": "code",
   "execution_count": 2,
   "id": "e0db7cfb",
   "metadata": {},
   "outputs": [],
   "source": [
    "\n",
    "custom_palette = ['#1f77b4', '#ff7f0e', '#2ca02c', '#d62728', '#9467bd', '#8c564b']\n",
    "\n",
    "# Set the default color cycle for matplotlib\n",
    "plt.rcParams['axes.prop_cycle'] = plt.cycler(color=custom_palette)"
   ]
  },
  {
   "cell_type": "markdown",
   "id": "76e344ba",
   "metadata": {},
   "source": [
    "# Preparing the Knowledge Base"
   ]
  },
  {
   "cell_type": "markdown",
   "id": "9309f48b",
   "metadata": {},
   "source": [
    "## Select Dataset"
   ]
  },
  {
   "cell_type": "markdown",
   "id": "36e2d234",
   "metadata": {},
   "source": [
    "The **\"christti/squad-augmented-v2\"** dataset builds on the Stanford Question Answering Dataset (SQuAD) and includes diverse, human-curated passages with associated questions and answers. It provides rich, semantically coherent contexts spanning various topics, making it ideal for tasks like question answering and retrieval-based systems."
   ]
  },
  {
   "cell_type": "markdown",
   "id": "0ea54b24",
   "metadata": {},
   "source": [
    "## Why this Dataset\n",
    " + **Diverse Topics:** The dataset covers a wide range of subjects, ensuring a comprehensive and heterogeneous knowledge base.\n",
    " + **Rich Contexts:** High-quality passages are well-suited for chunking experiments without losing semantic integrity.\n",
    " + **Real-World Relevance:** Designed around real-world use cases, it aligns closely with typical RAG applications.\n",
    " + **Benchmark Quality:** Widely recognized in NLP research, it ensures credibility and comparability of results.\n",
    " + **Ease of Use:** Its structured format simplifies preprocessing and knowledge base construction."
   ]
  },
  {
   "cell_type": "markdown",
   "id": "90e59e53",
   "metadata": {},
   "source": [
    "## Construct the corpus"
   ]
  },
  {
   "cell_type": "markdown",
   "id": "32199783",
   "metadata": {},
   "source": [
    "### import the dataset"
   ]
  },
  {
   "cell_type": "code",
   "execution_count": 3,
   "id": "143012ed",
   "metadata": {},
   "outputs": [],
   "source": [
    "ds = load_dataset(\"christti/squad-augmented-v2\")\n",
    "df = pd.DataFrame(ds[\"train\"])"
   ]
  },
  {
   "cell_type": "code",
   "execution_count": 7,
   "id": "471fdbd3",
   "metadata": {},
   "outputs": [
    {
     "data": {
      "text/plain": [
       "(169211, 5)"
      ]
     },
     "execution_count": 7,
     "metadata": {},
     "output_type": "execute_result"
    }
   ],
   "source": [
    "df.shape"
   ]
  },
  {
   "cell_type": "code",
   "execution_count": 7,
   "id": "d49a3fef",
   "metadata": {},
   "outputs": [
    {
     "data": {
      "text/plain": [
       "(100132,)"
      ]
     },
     "execution_count": 7,
     "metadata": {},
     "output_type": "execute_result"
    }
   ],
   "source": [
    "df['context'].unique().shape"
   ]
  },
  {
   "cell_type": "markdown",
   "id": "b4f6c750",
   "metadata": {},
   "source": [
    "the dataset contains huge number of rows. for the limitation of computational power we use only first **5000** rows from the dataset."
   ]
  },
  {
   "cell_type": "code",
   "execution_count": 8,
   "id": "dd8bbd69",
   "metadata": {
    "scrolled": false
   },
   "outputs": [
    {
     "data": {
      "text/html": [
       "<div>\n",
       "<style scoped>\n",
       "    .dataframe tbody tr th:only-of-type {\n",
       "        vertical-align: middle;\n",
       "    }\n",
       "\n",
       "    .dataframe tbody tr th {\n",
       "        vertical-align: top;\n",
       "    }\n",
       "\n",
       "    .dataframe thead th {\n",
       "        text-align: right;\n",
       "    }\n",
       "</style>\n",
       "<table border=\"1\" class=\"dataframe\">\n",
       "  <thead>\n",
       "    <tr style=\"text-align: right;\">\n",
       "      <th></th>\n",
       "      <th>id</th>\n",
       "      <th>title</th>\n",
       "      <th>context</th>\n",
       "      <th>question</th>\n",
       "      <th>answers</th>\n",
       "    </tr>\n",
       "  </thead>\n",
       "  <tbody>\n",
       "    <tr>\n",
       "      <th>0</th>\n",
       "      <td>5733be284776f41900661182</td>\n",
       "      <td>University_of_Notre_Dame</td>\n",
       "      <td>Architecturally, the school has a Catholic cha...</td>\n",
       "      <td>To whom did the Virgin Mary allegedly appear i...</td>\n",
       "      <td>{'text': ['Saint Bernadette Soubirous'], 'answ...</td>\n",
       "    </tr>\n",
       "    <tr>\n",
       "      <th>1</th>\n",
       "      <td>5733be284776f4190066117f</td>\n",
       "      <td>University_of_Notre_Dame</td>\n",
       "      <td>Architecturally, the school has a Catholic cha...</td>\n",
       "      <td>What is in front of the Notre Dame Main Building?</td>\n",
       "      <td>{'text': ['a copper statue of Christ'], 'answe...</td>\n",
       "    </tr>\n",
       "    <tr>\n",
       "      <th>2</th>\n",
       "      <td>5733be284776f41900661180</td>\n",
       "      <td>University_of_Notre_Dame</td>\n",
       "      <td>Architecturally, the school has a Catholic cha...</td>\n",
       "      <td>The Basilica of the Sacred heart at Notre Dame...</td>\n",
       "      <td>{'text': ['the Main Building'], 'answer_start'...</td>\n",
       "    </tr>\n",
       "  </tbody>\n",
       "</table>\n",
       "</div>"
      ],
      "text/plain": [
       "                         id                     title  \\\n",
       "0  5733be284776f41900661182  University_of_Notre_Dame   \n",
       "1  5733be284776f4190066117f  University_of_Notre_Dame   \n",
       "2  5733be284776f41900661180  University_of_Notre_Dame   \n",
       "\n",
       "                                             context  \\\n",
       "0  Architecturally, the school has a Catholic cha...   \n",
       "1  Architecturally, the school has a Catholic cha...   \n",
       "2  Architecturally, the school has a Catholic cha...   \n",
       "\n",
       "                                            question  \\\n",
       "0  To whom did the Virgin Mary allegedly appear i...   \n",
       "1  What is in front of the Notre Dame Main Building?   \n",
       "2  The Basilica of the Sacred heart at Notre Dame...   \n",
       "\n",
       "                                             answers  \n",
       "0  {'text': ['Saint Bernadette Soubirous'], 'answ...  \n",
       "1  {'text': ['a copper statue of Christ'], 'answe...  \n",
       "2  {'text': ['the Main Building'], 'answer_start'...  "
      ]
     },
     "execution_count": 8,
     "metadata": {},
     "output_type": "execute_result"
    }
   ],
   "source": [
    "df = pd.DataFrame(ds[\"train\"][:5000])\n",
    "df.head(3)"
   ]
  },
  {
   "cell_type": "markdown",
   "id": "68d46171",
   "metadata": {},
   "source": [
    "Each row contains  **context**, **question** and **answer**"
   ]
  },
  {
   "cell_type": "markdown",
   "id": "4409cf20",
   "metadata": {},
   "source": [
    "### Select first 820 contexts"
   ]
  },
  {
   "cell_type": "code",
   "execution_count": 9,
   "id": "bc33fc63",
   "metadata": {},
   "outputs": [],
   "source": [
    "contexts = df['context'].unique()"
   ]
  },
  {
   "cell_type": "code",
   "execution_count": 10,
   "id": "c5d0994a",
   "metadata": {},
   "outputs": [
    {
     "data": {
      "text/plain": [
       "(820,)"
      ]
     },
     "execution_count": 10,
     "metadata": {},
     "output_type": "execute_result"
    }
   ],
   "source": [
    "contexts.shape"
   ]
  },
  {
   "cell_type": "markdown",
   "id": "f6fb0cef",
   "metadata": {},
   "source": [
    "there are 820 different contexts"
   ]
  },
  {
   "cell_type": "markdown",
   "id": "7f9afc71",
   "metadata": {},
   "source": [
    "### Concatenate all the contexts to create a unified knowledge base or corpus."
   ]
  },
  {
   "cell_type": "code",
   "execution_count": 12,
   "id": "db0f6849",
   "metadata": {},
   "outputs": [],
   "source": [
    "corpus = ' '.join([context for context in contexts])"
   ]
  },
  {
   "cell_type": "code",
   "execution_count": 14,
   "id": "ca690f9e",
   "metadata": {},
   "outputs": [
    {
     "data": {
      "text/plain": [
       "600535"
      ]
     },
     "execution_count": 14,
     "metadata": {},
     "output_type": "execute_result"
    }
   ],
   "source": [
    "len(corpus)"
   ]
  },
  {
   "cell_type": "code",
   "execution_count": 15,
   "id": "c57bf815",
   "metadata": {},
   "outputs": [
    {
     "data": {
      "text/plain": [
       "96449"
      ]
     },
     "execution_count": 15,
     "metadata": {},
     "output_type": "execute_result"
    }
   ],
   "source": [
    "len(corpus.split(\" \"))"
   ]
  },
  {
   "cell_type": "markdown",
   "id": "d2b161e0",
   "metadata": {},
   "source": [
    "96449 words"
   ]
  },
  {
   "cell_type": "markdown",
   "id": "4102c8b2",
   "metadata": {},
   "source": [
    "## Chunking Strategy"
   ]
  },
  {
   "cell_type": "markdown",
   "id": "b8262890",
   "metadata": {},
   "source": [
    "## Select Chunk Size"
   ]
  },
  {
   "cell_type": "markdown",
   "id": "d40800c1",
   "metadata": {},
   "source": [
    "Now the corpus will be divided into different chunk size. We will consider 4 type of chunk type.\n",
    "   + page\n",
    "   + small \n",
    "   + medium \n",
    "   + large "
   ]
  },
  {
   "cell_type": "markdown",
   "id": "177911e8",
   "metadata": {},
   "source": [
    "in the dataset we have seen each row has a context. so we will consider each context as a page. this is also one of the popular chunking strategy. for getting optimal chunk size for **small, medium and large** let analyse the length of each context.  "
   ]
  },
  {
   "cell_type": "markdown",
   "id": "cbaf0660",
   "metadata": {},
   "source": [
    "### Analyze length of contexts\n",
    "For the sake of defining chunk sizes for small, medium, and large, the lengths of contexts in the dataset were analyzed.<br>\n",
    "A descriptive statistical analysis of the character lengths was performed, which reveals the following:"
   ]
  },
  {
   "cell_type": "code",
   "execution_count": 22,
   "id": "3e743297",
   "metadata": {
    "scrolled": true
   },
   "outputs": [
    {
     "data": {
      "text/plain": [
       "count     820.000000\n",
       "mean      731.360976\n",
       "std       358.499497\n",
       "min       154.000000\n",
       "25%       468.750000\n",
       "50%       667.000000\n",
       "75%       912.500000\n",
       "max      3076.000000\n",
       "dtype: float64"
      ]
     },
     "execution_count": 22,
     "metadata": {},
     "output_type": "execute_result"
    }
   ],
   "source": [
    "pd.Series(df['context'].unique()).str.len().describe()"
   ]
  },
  {
   "cell_type": "markdown",
   "id": "8808013c",
   "metadata": {},
   "source": [
    "Based on the analysis: <br>\n",
    "**Small Chunk:** ~250–500 characters. This covers short passages, ideally capturing documents around the 25th percentile.<br>\n",
    "**Medium Chunk:** ~500–800 characters. This aligns with documents near the mean and median length.<br>\n",
    "**Large Chunk:** ~800–1,200 characters or even up to 1,500 characters. This range would cover longer documents that approach the 75th percentile or exceed the mean.<br>\n",
    "**Set Chunk Overlaps:** Since we may need overlapping text for context (e.g., sentence continuity), we use overlaps of around 10–20% of each chunk size:<br>\n",
    "**Small chunks:** ~50–100 characters overlap<br>\n",
    "**Medium chunks:** ~100–150 characters overlap<br>\n",
    "**Large chunks:** ~150–200 characters overlap<br>"
   ]
  },
  {
   "cell_type": "markdown",
   "id": "271d773c",
   "metadata": {},
   "source": [
    "## Store all the chunks of each chunk type in a table in Database"
   ]
  },
  {
   "cell_type": "markdown",
   "id": "49040e95",
   "metadata": {},
   "source": [
    "### create chunks for each chunk size"
   ]
  },
  {
   "cell_type": "markdown",
   "id": "bb4f7cf4",
   "metadata": {},
   "source": [
    "<code>get_chunks_by_size()</code> function is used to devide the **knowledge base or corpus** into chunks of given chunk size and  overlap."
   ]
  },
  {
   "cell_type": "code",
   "execution_count": null,
   "id": "04756a14",
   "metadata": {},
   "outputs": [],
   "source": [
    "def get_chunks_by_size(chunk_size: int, overlap: int, corpus: str):\n",
    "    chunk_splitter = RecursiveCharacterTextSplitter(\n",
    "        chunk_size=chunk_size, chunk_overlap=overlap\n",
    "    )\n",
    "    return chunk_splitter.split_text(corpus)"
   ]
  },
  {
   "cell_type": "markdown",
   "id": "c7acae7c",
   "metadata": {},
   "source": [
    "## Table for storing chunks in DB\n",
    "I have created a table in my local Database for storing all the chunks of each chunk type and their corresponding embeddings. The database table looks like, "
   ]
  },
  {
   "cell_type": "markdown",
   "id": "58130057",
   "metadata": {},
   "source": [
    "### Table: text_vectors\n",
    "\n",
    "| Field      | Type                                  | Null | Key | Default | Extra          |\n",
    "|------------|---------------------------------------|------|-----|---------|----------------|\n",
    "| id         | int                                   | NO   | PRI | NULL    | auto_increment |\n",
    "| chunk_text | text                                  | YES  |     | NULL    |                |\n",
    "| chunk_type | enum('PAGE','SMALL','MEDIUM','LARGE') | NO   |     | NULL    |                |\n",
    "| embedding  | blob                                  | YES  |     | NULL    |                |\n"
   ]
  },
  {
   "cell_type": "markdown",
   "id": "26f564f3",
   "metadata": {},
   "source": [
    "## Calculate embeddings for each chunk\n",
    "After getting chunks from <code>get_chunks_by_size()</code> function, we can calculate their embeddings. But before calculating embeddings one of the most important step is **Text Preprocessing**. The following steps are included in **Text Preprocessing**."
   ]
  },
  {
   "cell_type": "markdown",
   "id": "39830761",
   "metadata": {},
   "source": [
    "### Text Preprocessing"
   ]
  },
  {
   "cell_type": "code",
   "execution_count": 25,
   "id": "f5138d85",
   "metadata": {},
   "outputs": [],
   "source": [
    "def text_preprocessing(text):\n",
    "    \"\"\"\n",
    "    Apply all preprocessing functions to the input text.\n",
    "    \"\"\"\n",
    "    # Step 1: Remove HTML tags\n",
    "    text = removeHTMLTags(text)\n",
    "    \n",
    "    # Step 2: Remove URLs\n",
    "    text = removeURL(text)\n",
    "    \n",
    "    # Step 3: Remove punctuation\n",
    "    text = remove_punctuation(text)\n",
    "    \n",
    "    # Step 4: Remove stopwords\n",
    "    text = remove_stopwords(text)\n",
    "    \n",
    "    # Step 5: stemming\n",
    "    text = stem_word(text)\n",
    "    \n",
    "    # Step 6: lemmatization\n",
    "    text = lemmatize_text(text)\n",
    "    return text"
   ]
  },
  {
   "cell_type": "markdown",
   "id": "668900d2",
   "metadata": {},
   "source": [
    "After text preprocessing the chunks are ready to be converted into vector. <code>get_embeddings()</code> function is used to calculate embeddings for each chunk."
   ]
  },
  {
   "cell_type": "code",
   "execution_count": null,
   "id": "57a353fc",
   "metadata": {},
   "outputs": [],
   "source": [
    "def get_embeddings(text):\n",
    "    model = SentenceTransformer(\"all-MiniLM-L6-v2\")\n",
    "    vector = model.encode(text)\n",
    "    pickled_vector = pickle.dumps(vector)\n",
    "    return pickled_vector"
   ]
  },
  {
   "cell_type": "markdown",
   "id": "4921d9ae",
   "metadata": {},
   "source": [
    "After calculating embeddings all the chunks are stored in <code>text_vectors</code> table in local database."
   ]
  },
  {
   "cell_type": "markdown",
   "id": "017ebea5",
   "metadata": {},
   "source": [
    "## Analyze Stored chunks in Database"
   ]
  },
  {
   "cell_type": "markdown",
   "id": "7d309b1c",
   "metadata": {},
   "source": [
    "### Get all the chunks from the Database and convert them into pandas Dataframe"
   ]
  },
  {
   "cell_type": "code",
   "execution_count": 2,
   "id": "42189d2b",
   "metadata": {},
   "outputs": [],
   "source": [
    "url = \"http://192.168.0.106:8080/app/get/chunks\"\n",
    "response = requests.get(url)\n",
    "response.raise_for_status() \n",
    "data = response.json() \n",
    "chunks = pd.DataFrame(data) \n"
   ]
  },
  {
   "cell_type": "code",
   "execution_count": 3,
   "id": "3a38f5f3",
   "metadata": {
    "scrolled": true
   },
   "outputs": [
    {
     "data": {
      "text/html": [
       "<div>\n",
       "<style scoped>\n",
       "    .dataframe tbody tr th:only-of-type {\n",
       "        vertical-align: middle;\n",
       "    }\n",
       "\n",
       "    .dataframe tbody tr th {\n",
       "        vertical-align: top;\n",
       "    }\n",
       "\n",
       "    .dataframe thead th {\n",
       "        text-align: right;\n",
       "    }\n",
       "</style>\n",
       "<table border=\"1\" class=\"dataframe\">\n",
       "  <thead>\n",
       "    <tr style=\"text-align: right;\">\n",
       "      <th></th>\n",
       "      <th>chunk_text</th>\n",
       "      <th>chunk_type</th>\n",
       "      <th>embedding</th>\n",
       "      <th>id</th>\n",
       "    </tr>\n",
       "  </thead>\n",
       "  <tbody>\n",
       "    <tr>\n",
       "      <th>0</th>\n",
       "      <td>Architecturally, the school has a Catholic cha...</td>\n",
       "      <td>PAGE</td>\n",
       "      <td>8004958c060000000000008c156e756d70792e636f7265...</td>\n",
       "      <td>1</td>\n",
       "    </tr>\n",
       "    <tr>\n",
       "      <th>1</th>\n",
       "      <td>As at most other universities, Notre Dame's st...</td>\n",
       "      <td>PAGE</td>\n",
       "      <td>8004958c060000000000008c156e756d70792e636f7265...</td>\n",
       "      <td>2</td>\n",
       "    </tr>\n",
       "    <tr>\n",
       "      <th>2</th>\n",
       "      <td>The university is the major seat of the Congre...</td>\n",
       "      <td>PAGE</td>\n",
       "      <td>8004958c060000000000008c156e756d70792e636f7265...</td>\n",
       "      <td>3</td>\n",
       "    </tr>\n",
       "  </tbody>\n",
       "</table>\n",
       "</div>"
      ],
      "text/plain": [
       "                                          chunk_text chunk_type  \\\n",
       "0  Architecturally, the school has a Catholic cha...       PAGE   \n",
       "1  As at most other universities, Notre Dame's st...       PAGE   \n",
       "2  The university is the major seat of the Congre...       PAGE   \n",
       "\n",
       "                                           embedding  id  \n",
       "0  8004958c060000000000008c156e756d70792e636f7265...   1  \n",
       "1  8004958c060000000000008c156e756d70792e636f7265...   2  \n",
       "2  8004958c060000000000008c156e756d70792e636f7265...   3  "
      ]
     },
     "execution_count": 3,
     "metadata": {},
     "output_type": "execute_result"
    }
   ],
   "source": [
    "chunks.head(3)"
   ]
  },
  {
   "cell_type": "code",
   "execution_count": 24,
   "id": "86a930d6",
   "metadata": {},
   "outputs": [
    {
     "data": {
      "text/plain": [
       "(3705, 4)"
      ]
     },
     "execution_count": 24,
     "metadata": {},
     "output_type": "execute_result"
    }
   ],
   "source": [
    "chunks.shape"
   ]
  },
  {
   "cell_type": "markdown",
   "id": "69a7a01a",
   "metadata": {},
   "source": [
    "### Analyze chunk types"
   ]
  },
  {
   "cell_type": "code",
   "execution_count": 4,
   "id": "778367be",
   "metadata": {
    "scrolled": false
   },
   "outputs": [
    {
     "data": {
      "text/plain": [
       "chunk_type\n",
       "LARGE      589\n",
       "MEDIUM     883\n",
       "PAGE       820\n",
       "SMALL     1413\n",
       "Name: chunk_type, dtype: int64"
      ]
     },
     "execution_count": 4,
     "metadata": {},
     "output_type": "execute_result"
    }
   ],
   "source": [
    "chunk_type=chunks.groupby(\"chunk_type\")['chunk_type'].count()\n",
    "chunk_type"
   ]
  },
  {
   "cell_type": "markdown",
   "id": "adfbf7dd",
   "metadata": {},
   "source": [
    "### Distribution of Chunks by Chunk Type in the Vector Database"
   ]
  },
  {
   "cell_type": "code",
   "execution_count": 7,
   "id": "5e524817",
   "metadata": {
    "scrolled": false
   },
   "outputs": [
    {
     "data": {
      "image/png": "[encoded data removed]",
      "text/plain": [
       "<Figure size 640x480 with 1 Axes>"
      ]
     },
     "metadata": {},
     "output_type": "display_data"
    }
   ],
   "source": [
    "# Assuming `chunk_type` is a Pandas Series or similar object\n",
    "plt.bar(chunk_type.index, chunk_type.values, color=custom_palette[:len(chunk_type)])\n",
    "plt.xlabel(\"Chunk Type\")\n",
    "plt.ylabel(\"Count\")\n",
    "plt.title(\"Counts of Each Chunk Type\")\n",
    "plt.grid(axis=\"y\", linestyle=\"--\", alpha=0.7)\n",
    "\n",
    "# Add annotations on top of each bar\n",
    "for i, value in enumerate(chunk_type.values):\n",
    "    plt.text(i, value, str(value), ha='center', va='bottom', fontsize=10)\n",
    "\n",
    "plt.show()"
   ]
  },
  {
   "cell_type": "markdown",
   "id": "ad9f1196",
   "metadata": {},
   "source": [
    "## Get similar chunks from DB for a given query.\n",
    "Now we have stored all the chunks in our db. If we have an user query, we can get the most relevant chunks to answer this query. For this we also need to perform the above steps, which we did for each chunks. \n",
    "  + preprocess the query \n",
    "  + calculate embeddings of the query "
   ]
  },
  {
   "cell_type": "markdown",
   "id": "7f0d6249",
   "metadata": {},
   "source": [
    "After calculating the embeddings of the user query, we can perform a **Vector Search** to find the most relevant chunks. for this the function <code>get_context_by_chunk_type()</code> is used. This function performes the followin steps,\n",
    "   + get all the chunks from the database \n",
    "   + convert the user query into embeddings \n",
    "   + calculate **cosine similarity** of each chunk with the user query.\n",
    "   + store the chunks in a list\n",
    "   + sort the list based on similarity score\n",
    "   + return top 3 relevant chunks as a string"
   ]
  },
  {
   "cell_type": "markdown",
   "id": "60c81f8f",
   "metadata": {},
   "source": [
    "<a id=\"cell-2\"></a>"
   ]
  },
  {
   "cell_type": "code",
   "execution_count": 1,
   "id": "25b02da4",
   "metadata": {},
   "outputs": [],
   "source": [
    "def get_context_by_chunk_type(chunk_type, query_text):\n",
    "        start_time = time.time()\n",
    "        \n",
    "        # get db connection\n",
    "        connection = create_connection()\n",
    "        cursor = connection.cursor()\n",
    "        cursor.execute(\n",
    "            \"SELECT * FROM text_vectors WHERE chunk_type=%s\", (chunk_type,)\n",
    "        ) \n",
    "        \n",
    "        # get all the chunks\n",
    "        rows = cursor.fetchall()\n",
    "        \n",
    "        # convert user query into vector\n",
    "        clean_query = preprocess_text(query_text.lower())\n",
    "        model = SentenceTransformer(\"all-MiniLM-L6-v2\")\n",
    "        query_vector = model.encode(clean_query)\n",
    "        \n",
    "        # calculate cosine similarity \n",
    "        similar: list[Similar_Text] = []\n",
    "        for row in rows:\n",
    "            sim_score = cosine_similarity(pickle.loads(row[3]), query_vector)\n",
    "            similar.append(Similar_Text(row[1], sim_score=sim_score))\n",
    "            \n",
    "        # sort all the chunks based on similarity score with the user query    \n",
    "        similar.sort(key=lambda similar: similar.sim_score, reverse=True)\n",
    "        text = \"/n\".join([sm.text for sm in similar[:3]])\n",
    "        end_time = time.time()\n",
    "        return {\"retrieval_time\": end_time - start_time, \"text\": text}"
   ]
  },
  {
   "cell_type": "markdown",
   "id": "22fa3f63",
   "metadata": {},
   "source": [
    "## Generate response by LLM\n",
    "After getting the relevant chunks from the **Vector Database***, we can send this context + user query as a prompt to the LLM to generate a response. the function [<code>chat_with_ai()</code>](#cell-2) generate response for a given user query. Additionally, the response time is also calculated. "
   ]
  },
  {
   "cell_type": "markdown",
   "id": "28cc571b",
   "metadata": {},
   "source": [
    "<a id=\"cell-2\"></a>"
   ]
  },
  {
   "cell_type": "code",
   "execution_count": null,
   "id": "f3380a2f",
   "metadata": {},
   "outputs": [],
   "source": [
    "def chat_with_ai(user_query: str, chunk_type, ref_ans):\n",
    "    # get openai key\n",
    "    openai_api_key = os.environ[\"OPENAI_API_KEY\"]  \n",
    "    \n",
    "    # get relevant chunks\n",
    "    result = get_context_by_chunk_type(chunk_type, user_query)\n",
    "    \n",
    "    # format prompt \n",
    "    prompt_template = ChatPromptTemplate.from_template(PROMPT_TEMPLATE)\n",
    "    prompt = prompt_template.format(context=result[\"text\"], question=user_query)\n",
    "    \n",
    "    # generate response\n",
    "    model = ChatOpenAI(openai_api_key=openai_api_key, model_name=\"gpt-4o\")\n",
    "    start_time = time.time()\n",
    "    response_text = model.invoke(prompt)\n",
    "    end_time = time.time()\n",
    "    delta = end_time - start_time\n",
    "    return {\"response_time\":delta,\"response\":response_text.content}"
   ]
  },
  {
   "cell_type": "markdown",
   "id": "bf8747fd",
   "metadata": {},
   "source": [
    "## Used Prompt template"
   ]
  },
  {
   "cell_type": "code",
   "execution_count": null,
   "id": "1d210871",
   "metadata": {},
   "outputs": [],
   "source": [
    "PROMPT_TEMPLATE = \"\"\"\n",
    "            Provide an answer to the question below based exclusively on the Context provided. \n",
    "            Do not include information outside of this Context in your response.\n",
    "\n",
    "\n",
    "            **Context:**\n",
    "            {context}\n",
    "\n",
    "            ---------\n",
    "            **Question:** {question}\n",
    " \n",
    "        \"\"\""
   ]
  },
  {
   "cell_type": "markdown",
   "id": "6597df87",
   "metadata": {},
   "source": [
    "## Generate Response for 90 user Queries\n",
    "for analysing the impact of chunk size on the response of LLM I have randomly choosen 90 questions from the dataset. For each question, 4 responses are generated.\n",
    " + response for page chunking\n",
    " + response for small chunking\n",
    " + response for medium chunking\n",
    " + response for large chunking"
   ]
  },
  {
   "cell_type": "markdown",
   "id": "bed0edd8",
   "metadata": {},
   "source": [
    "in client the function <code>chat_with_ai()</code> is used to generate a response for a user query."
   ]
  },
  {
   "cell_type": "code",
   "execution_count": 1,
   "id": "34afe2b0",
   "metadata": {},
   "outputs": [],
   "source": [
    "def chat_with_ai(question, chunk_type,ref_ans):\n",
    "    # Properly encode parameters separately\n",
    "    question = requests.utils.quote(question)\n",
    "    chunk_type = requests.utils.quote(chunk_type)\n",
    "\n",
    "    # Construct the URL\n",
    "    url = f\"http://127.0.0.1:8080/app/chat/{question}/{chunk_type}/{ref_ans}\"\n",
    "\n",
    "    # Make the request\n",
    "    response = requests.get(url)\n",
    "    \n",
    "    # Return the response as JSON\n",
    "    if response.status_code == 200:\n",
    "        return response\n",
    "    else:\n",
    "        print(\"Error:\", response.status_code)\n",
    "        return {\"error\": \"Something went wrong\"}"
   ]
  },
  {
   "cell_type": "markdown",
   "id": "2a4c84a6",
   "metadata": {},
   "source": [
    "## Generate responses for 90 questions\n",
    "I have stored all the responses in another Table in my Database. "
   ]
  },
  {
   "cell_type": "code",
   "execution_count": 2,
   "id": "6215aa35",
   "metadata": {},
   "outputs": [
    {
     "ename": "NameError",
     "evalue": "name 'questions' is not defined",
     "output_type": "error",
     "traceback": [
      "\u001b[0;31m---------------------------------------------------------------------------\u001b[0m",
      "\u001b[0;31mNameError\u001b[0m                                 Traceback (most recent call last)",
      "\u001b[0;32m/tmp/ipykernel_32740/2839335674.py\u001b[0m in \u001b[0;36m<module>\u001b[0;34m\u001b[0m\n\u001b[0;32m----> 1\u001b[0;31m \u001b[0;32mfor\u001b[0m \u001b[0mq\u001b[0m\u001b[0;34m,\u001b[0m\u001b[0mans\u001b[0m \u001b[0;32min\u001b[0m \u001b[0mzip\u001b[0m\u001b[0;34m(\u001b[0m\u001b[0mquestions\u001b[0m\u001b[0;34m,\u001b[0m\u001b[0manswers\u001b[0m\u001b[0;34m)\u001b[0m\u001b[0;34m:\u001b[0m\u001b[0;34m\u001b[0m\u001b[0;34m\u001b[0m\u001b[0m\n\u001b[0m\u001b[1;32m      2\u001b[0m     \u001b[0mchunk_type\u001b[0m\u001b[0;34m=\u001b[0m\u001b[0;34m[\u001b[0m\u001b[0;34m'PAGE'\u001b[0m\u001b[0;34m,\u001b[0m\u001b[0;34m'SMALL'\u001b[0m\u001b[0;34m,\u001b[0m\u001b[0;34m'MEDIUM'\u001b[0m\u001b[0;34m,\u001b[0m\u001b[0;34m'LARGE'\u001b[0m\u001b[0;34m]\u001b[0m\u001b[0;34m\u001b[0m\u001b[0;34m\u001b[0m\u001b[0m\n\u001b[1;32m      3\u001b[0m     \u001b[0;32mfor\u001b[0m \u001b[0mc\u001b[0m \u001b[0;32min\u001b[0m \u001b[0mchunk_type\u001b[0m\u001b[0;34m:\u001b[0m\u001b[0;34m\u001b[0m\u001b[0;34m\u001b[0m\u001b[0m\n\u001b[1;32m      4\u001b[0m       \u001b[0mchat_with_ai\u001b[0m\u001b[0;34m(\u001b[0m\u001b[0mq\u001b[0m\u001b[0;34m,\u001b[0m\u001b[0mc\u001b[0m\u001b[0;34m,\u001b[0m\u001b[0mans\u001b[0m\u001b[0;34m)\u001b[0m\u001b[0;34m\u001b[0m\u001b[0;34m\u001b[0m\u001b[0m\n\u001b[1;32m      5\u001b[0m \u001b[0;34m\u001b[0m\u001b[0m\n",
      "\u001b[0;31mNameError\u001b[0m: name 'questions' is not defined"
     ]
    }
   ],
   "source": [
    "for q,ans in zip(questions,answers):\n",
    "    chunk_type=['PAGE','SMALL','MEDIUM','LARGE'] \n",
    "    for c in chunk_type: \n",
    "      chat_with_ai(q,c,ans)\n",
    "   "
   ]
  },
  {
   "cell_type": "markdown",
   "id": "7fcc7873",
   "metadata": {},
   "source": [
    "### Table: evaluate_answer\n",
    "\n",
    "| Field          | Type                                  | Null | Key | Default | Extra          |\n",
    "|----------------|---------------------------------------|------|-----|---------|----------------|\n",
    "| id             | int                                   | NO   | PRI | NULL    | auto_increment |\n",
    "| ref_answer     | text                                  | YES  |     | NULL    |                |\n",
    "| chunk_type     | enum('PAGE','SMALL','MEDIUM','LARGE') | NO   |     | NULL    |                |\n",
    "| llm_response   | text                                  | YES  |     | NULL    |                |\n",
    "| response_time  | double                                | YES  |     | NULL    |                |\n",
    "| retrieval_time | double                                | YES  |     | NULL    |                |\n"
   ]
  },
  {
   "cell_type": "markdown",
   "id": "f2008d97",
   "metadata": {},
   "source": [
    "<h2 style=\"text-align:center;color:green\">Evaluation Metrics and Analysis</h2>"
   ]
  },
  {
   "cell_type": "code",
   "execution_count": 298,
   "id": "73ec38dc",
   "metadata": {},
   "outputs": [],
   "source": [
    "url = \"http://10.54.134.102:8080/app/get/responses\"\n",
    "response = requests.get(url)\n",
    "response.raise_for_status() \n",
    "data = response.json() \n",
    "responses_df = pd.DataFrame(data) "
   ]
  },
  {
   "cell_type": "code",
   "execution_count": 309,
   "id": "af0a9d14",
   "metadata": {
    "scrolled": false
   },
   "outputs": [
    {
     "data": {
      "text/html": [
       "<div>\n",
       "<style scoped>\n",
       "    .dataframe tbody tr th:only-of-type {\n",
       "        vertical-align: middle;\n",
       "    }\n",
       "\n",
       "    .dataframe tbody tr th {\n",
       "        vertical-align: top;\n",
       "    }\n",
       "\n",
       "    .dataframe thead th {\n",
       "        text-align: right;\n",
       "    }\n",
       "</style>\n",
       "<table border=\"1\" class=\"dataframe\">\n",
       "  <thead>\n",
       "    <tr style=\"text-align: right;\">\n",
       "      <th></th>\n",
       "      <th>chunk_type</th>\n",
       "      <th>id</th>\n",
       "      <th>llm_response</th>\n",
       "      <th>ref_answer</th>\n",
       "      <th>response_time</th>\n",
       "      <th>retrieval_time</th>\n",
       "    </tr>\n",
       "  </thead>\n",
       "  <tbody>\n",
       "    <tr>\n",
       "      <th>0</th>\n",
       "      <td>PAGE</td>\n",
       "      <td>1</td>\n",
       "      <td>\"Formation\" was released by Beyoncé in Februar...</td>\n",
       "      <td>On February 6, 2016, one day before her Super ...</td>\n",
       "      <td>1.564220</td>\n",
       "      <td>2.501853</td>\n",
       "    </tr>\n",
       "    <tr>\n",
       "      <th>1</th>\n",
       "      <td>SMALL</td>\n",
       "      <td>2</td>\n",
       "      <td>\"Unknown based on the Context provided.\"</td>\n",
       "      <td>On February 6, 2016, one day before her Super ...</td>\n",
       "      <td>0.875026</td>\n",
       "      <td>1.900175</td>\n",
       "    </tr>\n",
       "    <tr>\n",
       "      <th>2</th>\n",
       "      <td>MEDIUM</td>\n",
       "      <td>3</td>\n",
       "      <td>\"The Context provided does not specify when Be...</td>\n",
       "      <td>On February 6, 2016, one day before her Super ...</td>\n",
       "      <td>0.888419</td>\n",
       "      <td>1.369914</td>\n",
       "    </tr>\n",
       "    <tr>\n",
       "      <th>3</th>\n",
       "      <td>LARGE</td>\n",
       "      <td>4</td>\n",
       "      <td>\"Based on the provided Context, there is no in...</td>\n",
       "      <td>On February 6, 2016, one day before her Super ...</td>\n",
       "      <td>1.163664</td>\n",
       "      <td>1.433956</td>\n",
       "    </tr>\n",
       "    <tr>\n",
       "      <th>4</th>\n",
       "      <td>PAGE</td>\n",
       "      <td>5</td>\n",
       "      <td>\"'03 Bonnie &amp; Clyde\"</td>\n",
       "      <td>The music video for '03 Bonnie &amp; Clyde' where ...</td>\n",
       "      <td>0.864547</td>\n",
       "      <td>1.388123</td>\n",
       "    </tr>\n",
       "  </tbody>\n",
       "</table>\n",
       "</div>"
      ],
      "text/plain": [
       "  chunk_type  id                                       llm_response  \\\n",
       "0       PAGE   1  \"Formation\" was released by Beyoncé in Februar...   \n",
       "1      SMALL   2           \"Unknown based on the Context provided.\"   \n",
       "2     MEDIUM   3  \"The Context provided does not specify when Be...   \n",
       "3      LARGE   4  \"Based on the provided Context, there is no in...   \n",
       "4       PAGE   5                               \"'03 Bonnie & Clyde\"   \n",
       "\n",
       "                                          ref_answer  response_time  \\\n",
       "0  On February 6, 2016, one day before her Super ...       1.564220   \n",
       "1  On February 6, 2016, one day before her Super ...       0.875026   \n",
       "2  On February 6, 2016, one day before her Super ...       0.888419   \n",
       "3  On February 6, 2016, one day before her Super ...       1.163664   \n",
       "4  The music video for '03 Bonnie & Clyde' where ...       0.864547   \n",
       "\n",
       "   retrieval_time  \n",
       "0        2.501853  \n",
       "1        1.900175  \n",
       "2        1.369914  \n",
       "3        1.433956  \n",
       "4        1.388123  "
      ]
     },
     "execution_count": 309,
     "metadata": {},
     "output_type": "execute_result"
    }
   ],
   "source": [
    "responses_df.head()"
   ]
  },
  {
   "cell_type": "markdown",
   "id": "717b0daf",
   "metadata": {},
   "source": [
    "## Analyze <code>response_time</code> and <code>retrieval_time</code>"
   ]
  },
  {
   "cell_type": "markdown",
   "id": "caa88992",
   "metadata": {},
   "source": [
    "### Method of Calculating <code>response_time</code> and <code>retrieval_time</code>\n",
    "**response_time:** It was calculated when the response from the LLM was generated and stored in the <code>evaluate_answer</code> table in seconds in [<code>chat_with_ai()</code>](#cell-2)  function.<br>\n",
    "**retireval_time:** It was calculated when the relevent chunks were fetched from the database and stored in the <code>evaluate_answer</code> table in seconds in [<code>get_context_by_chunk_type()</code>](#cell-2)  function."
   ]
  },
  {
   "cell_type": "code",
   "execution_count": 4,
   "id": "2e5873b3",
   "metadata": {},
   "outputs": [],
   "source": [
    "grouped_data = responses.groupby('chunk_type').mean()[['response_time', 'retrieval_time']]"
   ]
  },
  {
   "cell_type": "code",
   "execution_count": 7,
   "id": "8c8f9eb4",
   "metadata": {},
   "outputs": [
    {
     "data": {
      "text/html": [
       "<div>\n",
       "<style scoped>\n",
       "    .dataframe tbody tr th:only-of-type {\n",
       "        vertical-align: middle;\n",
       "    }\n",
       "\n",
       "    .dataframe tbody tr th {\n",
       "        vertical-align: top;\n",
       "    }\n",
       "\n",
       "    .dataframe thead th {\n",
       "        text-align: right;\n",
       "    }\n",
       "</style>\n",
       "<table border=\"1\" class=\"dataframe\">\n",
       "  <thead>\n",
       "    <tr style=\"text-align: right;\">\n",
       "      <th></th>\n",
       "      <th>response_time</th>\n",
       "      <th>retrieval_time</th>\n",
       "      <th>chunk_count</th>\n",
       "    </tr>\n",
       "    <tr>\n",
       "      <th>chunk_type</th>\n",
       "      <th></th>\n",
       "      <th></th>\n",
       "      <th></th>\n",
       "    </tr>\n",
       "  </thead>\n",
       "  <tbody>\n",
       "    <tr>\n",
       "      <th>LARGE</th>\n",
       "      <td>1.350002</td>\n",
       "      <td>1.528357</td>\n",
       "      <td>589</td>\n",
       "    </tr>\n",
       "    <tr>\n",
       "      <th>MEDIUM</th>\n",
       "      <td>1.105269</td>\n",
       "      <td>1.554785</td>\n",
       "      <td>883</td>\n",
       "    </tr>\n",
       "    <tr>\n",
       "      <th>PAGE</th>\n",
       "      <td>1.269590</td>\n",
       "      <td>1.552313</td>\n",
       "      <td>820</td>\n",
       "    </tr>\n",
       "    <tr>\n",
       "      <th>SMALL</th>\n",
       "      <td>1.078672</td>\n",
       "      <td>1.591126</td>\n",
       "      <td>1413</td>\n",
       "    </tr>\n",
       "  </tbody>\n",
       "</table>\n",
       "</div>"
      ],
      "text/plain": [
       "            response_time  retrieval_time  chunk_count\n",
       "chunk_type                                            \n",
       "LARGE            1.350002        1.528357          589\n",
       "MEDIUM           1.105269        1.554785          883\n",
       "PAGE             1.269590        1.552313          820\n",
       "SMALL            1.078672        1.591126         1413"
      ]
     },
     "execution_count": 7,
     "metadata": {},
     "output_type": "execute_result"
    }
   ],
   "source": [
    "grouped_data['chunk_count']=[589, 883, 820, 1413]\n",
    "grouped_data"
   ]
  },
  {
   "cell_type": "markdown",
   "id": "d592a72f",
   "metadata": {},
   "source": [
    "#### function to visualize Response time and Retrieval time"
   ]
  },
  {
   "cell_type": "code",
   "execution_count": 46,
   "id": "3e26dc62",
   "metadata": {},
   "outputs": [],
   "source": [
    "def bar_chart_time_vs_chunk_type(time_type, label):\n",
    "    chunk_types = [\"LARGE\", \"MEDIUM\", \"PAGE\", \"SMALL\"]\n",
    "    number_of_chunks = [589, 883, 820, 1413]\n",
    "\n",
    "    # Create a bar chart for retrieval time with adjusted figure size\n",
    "    plt.figure(figsize=(8, 5))\n",
    "\n",
    "    # Retrieval time bar chart\n",
    "    bars = plt.bar(grouped_data.index, grouped_data[time_type], alpha=0.7, color=custom_palette[:len(chunk_types)])\n",
    "\n",
    "    # Annotate each bar with its value\n",
    "    for bar in bars:\n",
    "        height = bar.get_height()\n",
    "        plt.text(bar.get_x() + bar.get_width() / 2, height, f'{height:.2f}', ha='center', va='bottom', fontsize=10)\n",
    "\n",
    "    # Add a secondary y-axis for the number of chunks\n",
    "    ax1 = plt.gca()  # Primary y-axis\n",
    "    ax2 = ax1.twinx()  # Secondary y-axis\n",
    "\n",
    "    ax2.plot(chunk_types, number_of_chunks, color='red', marker='o', linestyle='-', linewidth=2, label='Number of Chunks')\n",
    "\n",
    "    # Annotate each point on the line plot with its value\n",
    "    for i, value in enumerate(number_of_chunks):\n",
    "        ax2.text(chunk_types[i], value, f'{value}', ha='left', va='top', fontsize=10, color='black')\n",
    "\n",
    "    # Labels and title\n",
    "    ax1.set_ylabel(f'{label} time in seconds')  # Label for the primary y-axis\n",
    "    ax2.set_ylabel('Number of Chunks', labelpad=15)  # Label for the secondary y-axis\n",
    "    plt.title(f'{label} Time and Number of Chunks by Chunk Type')\n",
    "    plt.xlabel('Chunk Type')\n",
    "    plt.grid(axis=\"y\", linestyle=\"--\", alpha=0.7)\n",
    "    ax2.tick_params(axis='y')\n",
    "\n",
    "    # Position the legend to avoid overlap\n",
    "    lines, labels = ax2.get_legend_handles_labels()\n",
    "    plt.legend(lines, labels, loc=\"lower left\", bbox_to_anchor=(-0.01, -0.2), ncol=1, fontsize=10, frameon=True)\n",
    "\n",
    "    # Adjust layout to ensure clarity\n",
    "    plt.tight_layout()\n",
    "\n",
    "    plt.show()\n"
   ]
  },
  {
   "cell_type": "markdown",
   "id": "09f79d69",
   "metadata": {},
   "source": [
    "### Response Time"
   ]
  },
  {
   "cell_type": "code",
   "execution_count": 48,
   "id": "4b0b44a3",
   "metadata": {},
   "outputs": [
    {
     "data": {
      "image/png": "[encoded data removed]",
      "text/plain": [
       "<Figure size 800x500 with 2 Axes>"
      ]
     },
     "metadata": {},
     "output_type": "display_data"
    }
   ],
   "source": [
    "bar_chart_time_vs_chunk_type(\"response_time\",\"Response\")"
   ]
  },
  {
   "cell_type": "markdown",
   "id": "883807cc",
   "metadata": {},
   "source": [
    "+ The average response time varies across chunk types.\n",
    "+ Smaller chunks (e.g., \"SMALL\" and \"MEDIUM\") tend to have slightly lower response times, as the LLM has less context to process.\n",
    "+ Larger chunks (\"PAGE\" and \"LARGE\") require more processing, resulting in longer response times."
   ]
  },
  {
   "cell_type": "markdown",
   "id": "c753d535",
   "metadata": {},
   "source": [
    "### Retrieval time"
   ]
  },
  {
   "cell_type": "code",
   "execution_count": 49,
   "id": "7e1a5787",
   "metadata": {
    "scrolled": false
   },
   "outputs": [
    {
     "data": {
      "image/png": "[encoded data removed]",
      "text/plain": [
       "<Figure size 800x500 with 2 Axes>"
      ]
     },
     "metadata": {},
     "output_type": "display_data"
    }
   ],
   "source": [
    "bar_chart_time_vs_chunk_type(\"retrieval_time\",\"Retrieval\")"
   ]
  },
  {
   "cell_type": "markdown",
   "id": "cb08721e",
   "metadata": {},
   "source": [
    "### Distribution of time in Retrieval Process: \n",
    "[<code>get_context_by_chunk_type()</code>](#cell-2) function was used for as a retriever. the retrieval preocess performs mainly three tasks."
   ]
  },
  {
   "cell_type": "markdown",
   "id": "51a29b8b",
   "metadata": {},
   "source": [
    "+ **Database Query:** The time to fetch rows from the database scales with the number of chunks in each chunk type. Smaller chunk types (e.g., \"SMALL\") involve more rows, increasing the query processing time.\n",
    "+ **Cosine Similarity Computation:** The number of similarity calculations increases linearly with the number of chunks. With 1413 chunks for \"SMALL,\" this step takes significantly longer compared to \"LARGE,\" which only has 589 chunks.\n",
    "+ **Sorting Overhead:** Sorting a larger list (e.g., 1413 chunks for \"SMALL\") adds marginal computational overhead compared to smaller lists.\n"
   ]
  },
  {
   "cell_type": "markdown",
   "id": "1f8fa6bc",
   "metadata": {},
   "source": [
    "### Small Differences Between MEDIUM and PAGE:\n",
    "+ Retrieval times for MEDIUM (883 chunks) and PAGE (820 chunks) are very close. **This indicates:** The time spent fetching and processing these chunks is relatively stable within a certain range.\n"
   ]
  },
  {
   "cell_type": "markdown",
   "id": "59f2bfcc",
   "metadata": {},
   "source": [
    "### Small Chunks Have the Highest Overhead:\n",
    "\n",
    "+ SMALL chunks (1413) lead to the longest retrieval time because:\n",
    "    + They involve the most rows fetched from the database.\n",
    "    + They require the most cosine similarity calculations."
   ]
  },
  {
   "cell_type": "markdown",
   "id": "7d9b4b6c",
   "metadata": {},
   "source": [
    "### Larger Chunks Are More Efficient:\n",
    "\n",
    " + LARGE chunks (589) result in the shortest retrieval time because fewer rows are fetched and fewer similarity calculations are needed.\n",
    " + This suggests that the retrieval system benefits from handling fewer, larger chunks rather than many smaller ones.\n"
   ]
  },
  {
   "cell_type": "markdown",
   "id": "9c86bc8e",
   "metadata": {},
   "source": [
    "### Impact of Number of Chunks on Retrieval Time:\n",
    "\n",
    "+ Retrieval time increases with the number of chunks to be processed.\n",
    "+ The SMALL chunk type has the highest number of chunks (1413) and also exhibits the longest retrieval time.\n",
    "+ Conversely, the LARGE chunk type, with the fewest chunks (589), has the shortest retrieval time."
   ]
  },
  {
   "cell_type": "markdown",
   "id": "6f5df976",
   "metadata": {},
   "source": [
    "### Uniform Chunk Dimensions:\n",
    "\n",
    "+ All chunks have the same dimension(1,384) because they were generated using a Sentence Transformer model. This means the computational effort for encoding chunks is consistent across chunk types, regardless of their content length."
   ]
  },
  {
   "cell_type": "markdown",
   "id": "9031b10f",
   "metadata": {},
   "source": [
    "**Summary of Retrieval Time Trends:**\n",
    "\n",
    "| Chunk Type | Retrieval Time (seconds) | Number of Chunks | Reason for Trend                                                                 |\n",
    "|------------|---------------------------|------------------|---------------------------------------------------------------------------------|\n",
    "| SMALL      | 1.591126                 | 1413             | Highest retrieval time due to the largest number of chunks and cosine similarity calculations. |\n",
    "| MEDIUM     | 1.554785                 | 883              | Moderate retrieval time; fewer chunks than SMALL but still significant computation. |\n",
    "| PAGE       | 1.552313                 | 820              | Similar to MEDIUM; slightly fewer chunks but close retrieval time.             |\n",
    "| LARGE      | 1.528357                 | 589              | Lowest retrieval time due to the smallest number of chunks and computational requirements. |\n",
    "\n"
   ]
  },
  {
   "cell_type": "markdown",
   "id": "b8054353",
   "metadata": {},
   "source": [
    "# Designing an LLM Evaluation Framework\n",
    "\n",
    "The evaluation framework was developed to analyze the impact of chunk size on the performance of RAG systems across key metrics such as retrieval accuracy, retrieval speed, response time, hallucination rate, and contextual accuracy. The dataset consisted of questions, reference answers, and four LLM-generated responses for each chunk type (small, medium, large, page).\n",
    "\n",
    "###  Examples of Questions, Reference Answers, and LLM Responses\n",
    "\n",
    "| **Question**                                     | **Reference Answer**                                                                 | **LLM Response**                                                        |\n",
    "|-------------------------------------------------|-------------------------------------------------------------------------------------|-------------------------------------------------------------------------|\n",
    "| When did Beyoncé release her single ‘Formation’? | On February 6, 2016, one day before her Super Bowl performance.                     | Formation was released by Beyoncé in February 2016.                     |\n",
    "| When did Beyoncé release her single ‘Formation’? | Unknown based on the context provided.                                              | Formation was released by Beyoncé in February 2016.                     |\n",
    "| Which music video sparked speculation about Beyoncé’s relationship with Jay Z? | 03 Bonnie & Clyde                                                                   | The music video for ‘03 Bonnie & Clyde’ where Beyoncé appeared as Jay Z’s girlfriend. |\n",
    "| Which music video sparked speculation about Beyoncé’s relationship with Jay Z? | Drunk in Love                                                                       | The music video for ‘03 Bonnie & Clyde’ where Beyoncé appeared as Jay Z’s girlfriend. |\n",
    "\n",
    "\n",
    "From the analysis of LLM responses, four categories were identified to systematically evaluate performance:\n",
    "1. **Category 1**: Responses where the LLM did not attempt to answer due to the lack of relevant context. These responses are excluded from measuring contextual accuracy and hallucination rate but indicate retrieval inaccuracies.\n",
    "2. **Category 2**: Partially correct responses, where the LLM retrieved some relevant context but failed to fully answer the query. These responses are considered retrieval successes and contribute to the hallucination rate.\n",
    "3. **Category 3**: Fully correct and accurate responses, treated as retrieval successes and excluded from the hallucination rate.\n",
    "4. **Category 4**: Incorrect or unrelated responses, where relevant but noisy context was retrieved. These responses are counted as retrieval successes and contribute to the hallucination rate.\n",
    "\n",
    "Given the impracticality of manually categorizing large datasets, an LLM was employed as a judge with a structured prompt to automate the evaluation process, enabling consistent and scalable classification of responses and identification of hallucination types.\n"
   ]
  },
  {
   "cell_type": "markdown",
   "id": "43c71f67",
   "metadata": {},
   "source": [
    "In cases **2** and **4** hallucination is observed, and the type of hallucination will be identified separately. However, case **3** indicates that the relevant context could not be found within the information provided to the LLM, suggesting a failure in vector search or a retrieval issue."
   ]
  },
  {
   "cell_type": "markdown",
   "id": "a26dafdd",
   "metadata": {},
   "source": [
    "### Few shot Prompt to evaluate llm_response with ref_answer"
   ]
  },
  {
   "cell_type": "code",
   "execution_count": 4,
   "id": "f01d3b01",
   "metadata": {},
   "outputs": [],
   "source": [
    "# Define your dynamic ChatPromptTemplate\n",
    "prompt_template = ChatPromptTemplate.from_messages([\n",
    "    HumanMessagePromptTemplate.from_template(\n",
    "        \"\"\"\n",
    "You are tasked with evaluating the quality of a single response generated by a language model (LLM). \n",
    "Each evaluation involves a question, a reference answer, and one LLM-generated response. Your job is to evaluate\n",
    "the response based on the criteria provided below.\n",
    "\n",
    "---\n",
    "\n",
    "### **Evaluation Criteria**\n",
    "1. **Answer Accuracy**:\n",
    "   - **1**: The response answers the question accurately.\n",
    "   - **2**: The response partially answers the question.\n",
    "   - **3**: The response cannot answer the question from the given context.\n",
    "   - **4**: The response answers the question but is completely unrelated to the reference answer.\n",
    "\n",
    "2. **Hallucination Type**:\n",
    "   - **N/A** if **Answer Accuracy** = 1 or 3.\n",
    "   - If **Answer Accuracy** = 2 or 4, classify the hallucination type as:\n",
    "     - **Intrinsic**: The response is incomplete or incorrect due to limitations in the generative model (e.g.,\n",
    "     biases, insufficient reasoning).\n",
    "     - **Extrinsic**: The response is incomplete or incorrect due to reliance on irrelevant, incomplete, or \n",
    "     noisy retrieval from the context.\n",
    "     - **Intrinsic Extrinsic**: Both intrinsic and extrinsic factors contribute to the hallucination.\n",
    "\n",
    "---\n",
    "\n",
    "### **Examples**\n",
    "\n",
    "#### **Example 1**\n",
    "- **Question:** What title did People magazine award Beyoncé in 2012?\n",
    "- **Reference Answer:** People magazine named her the 'World's Most Beautiful Woman' in 2012.\n",
    "- **LLM Response:** \"Based exclusively on the Context provided, the title People magazine awarded Beyoncé in 2012 is not mentioned.\"\n",
    "\n",
    "**Example Output 2**:\n",
    "{{\n",
    "    \"answer_accuracy\": 3,\n",
    "    \"hallucination_type\": \"N/A\"\n",
    "}} \n",
    "#### **Example 2**\n",
    "- **Question:** What title did People magazine award Beyoncé in 2012?\n",
    "- **Reference Answer:** People magazine named her the 'World's Most Beautiful Woman' in 2012.\n",
    "- **LLM Response:** \"Sexiest Woman of the 21st Century\"\"\n",
    "\n",
    "**Example Output 2**:\n",
    "{{\n",
    "    \"answer_accuracy\": 4,\n",
    "    \"hallucination_type\": \"Intrinsic\"\n",
    "}} \n",
    "### Your output must be in JSON Format.\n",
    "### Output Format:\n",
    "{{\n",
    "    \"answer_accuracy\": 1/2/3/4,\n",
    "    \"hallucination_type\": \"Intrinsic\"/\"N/A\"/\"Extrinsic\"/\"Extrinsic Intrinsic\"\n",
    "}}\n",
    "### Inputs:\n",
    "- **Question:** {question}\n",
    "- **Reference Answer:** {reference_answer}\n",
    "- **LLM Responses:**\n",
    "    {response}\n",
    "  \n",
    "\"\"\"\n",
    "    )\n",
    "])\n"
   ]
  },
  {
   "cell_type": "markdown",
   "id": "a19f8ecf",
   "metadata": {},
   "source": [
    "## example prompt"
   ]
  },
  {
   "cell_type": "code",
   "execution_count": 7,
   "id": "40646048",
   "metadata": {},
   "outputs": [
    {
     "name": "stdout",
     "output_type": "stream",
     "text": [
      "Human: \n",
      "You are tasked with evaluating the quality of a single response generated by a language model (LLM). \n",
      "Each evaluation involves a question, a reference answer, and one LLM-generated response. Your job is to evaluate\n",
      "the response based on the criteria provided below.\n",
      "\n",
      "---\n",
      "\n",
      "### **Evaluation Criteria**\n",
      "1. **Answer Accuracy**:\n",
      "   - **1**: The response answers the question accurately.\n",
      "   - **2**: The response partially answers the question.\n",
      "   - **3**: The response cannot answer the question from the given context.\n",
      "   - **4**: The response answers the question but is completely unrelated to the reference answer.\n",
      "\n",
      "2. **Hallucination Type**:\n",
      "   - **N/A** if **Answer Accuracy** = 1 or 3.\n",
      "   - If **Answer Accuracy** = 2 or 4, classify the hallucination type as:\n",
      "     - **Intrinsic**: The response is incomplete or incorrect due to limitations in the generative model (e.g.,\n",
      "     biases, insufficient reasoning).\n",
      "     - **Extrinsic**: The response is incomplete or incorrect due to reliance on irrelevant, incomplete, or \n",
      "     noisy retrieval from the context.\n",
      "     - **Intrinsic Extrinsic**: Both intrinsic and extrinsic factors contribute to the hallucination.\n",
      "\n",
      "---\n",
      "\n",
      "### **Examples**\n",
      "\n",
      "#### **Example 1**\n",
      "- **Question:** What title did People magazine award Beyoncé in 2012?\n",
      "- **Reference Answer:** People magazine named her the 'World's Most Beautiful Woman' in 2012.\n",
      "- **LLM Response:** \"Based exclusively on the Context provided, the title People magazine awarded Beyoncé in 2012 is not mentioned.\"\n",
      "\n",
      "**Example Output 2**:\n",
      "{\n",
      "    \"answer_accuracy\": 3,\n",
      "    \"hallucination_type\": \"N/A\"\n",
      "} \n",
      "#### **Example 2**\n",
      "- **Question:** What title did People magazine award Beyoncé in 2012?\n",
      "- **Reference Answer:** People magazine named her the 'World's Most Beautiful Woman' in 2012.\n",
      "- **LLM Response:** \"Sexiest Woman of the 21st Century\"\"\n",
      "\n",
      "**Example Output 2**:\n",
      "{\n",
      "    \"answer_accuracy\": 4,\n",
      "    \"hallucination_type\": \"Intrinsic\"\n",
      "} \n",
      "### Your output must be in JSON Format.\n",
      "### Output Format:\n",
      "{\n",
      "    \"answer_accuracy\": 1/2/3/4,\n",
      "    \"hallucination_type\": \"Intrinsic\"/\"N/A\"/\"Extrinsic\"/\"Extrinsic Intrinsic\"\n",
      "}\n",
      "### Inputs:\n",
      "- **Question:** Which music video sparked speculation about Beyoncé's relationship with Jay Z\n",
      "- **Reference Answer:** Glory', which Jay Z released two days after Blue Ivy's birth.\n",
      "- **LLM Responses:**\n",
      "    God Made You Beautiful\n",
      "  \n",
      "\n"
     ]
    }
   ],
   "source": [
    "inputs = {\n",
    "            \"question\": \"Which music video sparked speculation about Beyoncé's relationship with Jay Z\",\n",
    "            \"reference_answer\": \"Glory', which Jay Z released two days after Blue Ivy's birth.\",\n",
    "            \"response\": \"God Made You Beautiful\" ,\n",
    "           }\n",
    "formatted_prompt = prompt_template.format(**inputs)\n",
    "print(formatted_prompt)\n",
    "    "
   ]
  },
  {
   "cell_type": "markdown",
   "id": "a088e185",
   "metadata": {},
   "source": [
    "### evaluate the generated responses with reference responses"
   ]
  },
  {
   "cell_type": "code",
   "execution_count": null,
   "id": "355cae04",
   "metadata": {},
   "outputs": [],
   "source": [
    "openai_api_key = os.environ[\"OPENAI_API_KEY\"]  \n",
    "gpt_evaluations=[]\n",
    "for ref_answer, llm_response in zip(responses['ref_answer'], responses['llm_response']):\n",
    "            inputs = {\n",
    "            \"question\": questions[answers.index(ref_answer)],\n",
    "            \"reference_answer\": ref_answer,\n",
    "            \"response\": llm_response ,\n",
    "           }\n",
    "            formatted_prompt = prompt_template.format(**inputs)\n",
    "            model = ChatOpenAI(openai_api_key=openai_api_key, model_name=\"gpt-4o\")\n",
    "            response_text = model.invoke(formatted_prompt)\n",
    "            gpt_evaluations.append(response_text)\n",
    "            time.sleep(5)\n",
    "        "
   ]
  },
  {
   "cell_type": "markdown",
   "id": "c1f9ae4e",
   "metadata": {},
   "source": [
    "#### example row response"
   ]
  },
  {
   "cell_type": "code",
   "execution_count": 282,
   "id": "de3d46e9",
   "metadata": {
    "scrolled": false
   },
   "outputs": [
    {
     "name": "stdout",
     "output_type": "stream",
     "text": [
      "content='```json\\n{\\n    \"answer_accuracy\": 2,\\n    \"hallucination_type\": \"Intrinsic\"\\n}\\n```' response_metadata={'token_usage': {'completion_tokens': 24, 'prompt_tokens': 572, 'total_tokens': 596, 'prompt_tokens_details': {'cached_tokens': 0, 'audio_tokens': 0}, 'completion_tokens_details': {'reasoning_tokens': 0, 'audio_tokens': 0, 'accepted_prediction_tokens': 0, 'rejected_prediction_tokens': 0}}, 'model_name': 'gpt-4o', 'system_fingerprint': 'fp_c7ca0ebaca', 'finish_reason': 'stop', 'logprobs': None} id='run-1f1fdcd8-9b18-4e78-8dbb-b3bafe63afee-0' usage_metadata={'input_tokens': 572, 'output_tokens': 24, 'total_tokens': 596}\n"
     ]
    }
   ],
   "source": [
    "print(gpt_evaluations[0])"
   ]
  },
  {
   "cell_type": "markdown",
   "id": "ca7c511b",
   "metadata": {},
   "source": [
    "#### example response in JSON Format"
   ]
  },
  {
   "cell_type": "code",
   "execution_count": 284,
   "id": "6fb07036",
   "metadata": {
    "scrolled": true
   },
   "outputs": [
    {
     "name": "stdout",
     "output_type": "stream",
     "text": [
      "{'answer_accuracy': 2, 'hallucination_type': 'Intrinsic'}\n"
     ]
    }
   ],
   "source": [
    "print(json.loads(gpt_evaluations[0].content.strip().replace(\"```json\", \"\").replace(\"```\", \"\").strip()))"
   ]
  },
  {
   "cell_type": "markdown",
   "id": "3d1a5138",
   "metadata": {},
   "source": [
    "#### extract all the <code>answer_accuracies</code> and <code>hallucination_types</code>  from llm responses and store them in a list for further use."
   ]
  },
  {
   "cell_type": "code",
   "execution_count": 236,
   "id": "7b2fa31c",
   "metadata": {},
   "outputs": [],
   "source": [
    "# Initialize empty lists for answer_accuracy and hallucination_type\n",
    "answer_accuracies = []\n",
    "hallucination_types = []\n",
    "\n",
    "for evaluation in gpt_evaluations:\n",
    "    try:\n",
    "        # Strip out the markdown code block delimiters\n",
    "        content = evaluation.strip() if isinstance(evaluation, str) else evaluation.content.strip().replace(\"```json\", \"\").replace(\"```\", \"\").strip()\n",
    "        content_in_json = json.loads(content)\n",
    "        answer_accuracies.append(content_in_json['answer_accuracy'])\n",
    "        hallucination_types.append(content_in_json['hallucination_type'])\n",
    "    except json.JSONDecodeError as e:\n",
    "        print(f\"Failed to parse JSON: {e}\")\n",
    "        print(f\"Invalid Content\")\n",
    "\n"
   ]
  },
  {
   "cell_type": "code",
   "execution_count": 237,
   "id": "2586cb51",
   "metadata": {},
   "outputs": [
    {
     "data": {
      "text/plain": [
       "([2, 3, 3, 3, 1], ['Intrinsic', 'N/A', 'N/A', 'N/A', 'N/A'])"
      ]
     },
     "execution_count": 237,
     "metadata": {},
     "output_type": "execute_result"
    }
   ],
   "source": [
    "answer_accuracies[:5],hallucination_types[:5]"
   ]
  },
  {
   "cell_type": "markdown",
   "id": "fccf766b",
   "metadata": {},
   "source": [
    "### create two new columns in <code>evaluation_sheet</code> to store in <code>answer_accuracy</code> and <code>hallucination_type</code>  for further analysis"
   ]
  },
  {
   "cell_type": "code",
   "execution_count": 239,
   "id": "ff712bc5",
   "metadata": {},
   "outputs": [],
   "source": [
    "responses['answer_accuracy'] = answer_accuracies\n",
    "responses['hallucination_type'] = hallucination_types"
   ]
  },
  {
   "cell_type": "markdown",
   "id": "0cea7cfb",
   "metadata": {},
   "source": [
    "### Analyze Hallucination"
   ]
  },
  {
   "cell_type": "code",
   "execution_count": 4,
   "id": "d8e5e9b2",
   "metadata": {
    "scrolled": true
   },
   "outputs": [
    {
     "data": {
      "text/html": [
       "<div>\n",
       "<style scoped>\n",
       "    .dataframe tbody tr th:only-of-type {\n",
       "        vertical-align: middle;\n",
       "    }\n",
       "\n",
       "    .dataframe tbody tr th {\n",
       "        vertical-align: top;\n",
       "    }\n",
       "\n",
       "    .dataframe thead th {\n",
       "        text-align: right;\n",
       "    }\n",
       "</style>\n",
       "<table border=\"1\" class=\"dataframe\">\n",
       "  <thead>\n",
       "    <tr style=\"text-align: right;\">\n",
       "      <th>hallucination_type</th>\n",
       "      <th>Extrinsic</th>\n",
       "      <th>Intrinsic</th>\n",
       "      <th>Intrinsic Extrinsic</th>\n",
       "    </tr>\n",
       "    <tr>\n",
       "      <th>chunk_type</th>\n",
       "      <th></th>\n",
       "      <th></th>\n",
       "      <th></th>\n",
       "    </tr>\n",
       "  </thead>\n",
       "  <tbody>\n",
       "    <tr>\n",
       "      <th>LARGE</th>\n",
       "      <td>2</td>\n",
       "      <td>27</td>\n",
       "      <td>2</td>\n",
       "    </tr>\n",
       "    <tr>\n",
       "      <th>MEDIUM</th>\n",
       "      <td>3</td>\n",
       "      <td>32</td>\n",
       "      <td>2</td>\n",
       "    </tr>\n",
       "    <tr>\n",
       "      <th>PAGE</th>\n",
       "      <td>1</td>\n",
       "      <td>19</td>\n",
       "      <td>2</td>\n",
       "    </tr>\n",
       "    <tr>\n",
       "      <th>SMALL</th>\n",
       "      <td>0</td>\n",
       "      <td>24</td>\n",
       "      <td>3</td>\n",
       "    </tr>\n",
       "  </tbody>\n",
       "</table>\n",
       "</div>"
      ],
      "text/plain": [
       "hallucination_type  Extrinsic  Intrinsic  Intrinsic Extrinsic\n",
       "chunk_type                                                   \n",
       "LARGE                       2         27                    2\n",
       "MEDIUM                      3         32                    2\n",
       "PAGE                        1         19                    2\n",
       "SMALL                       0         24                    3"
      ]
     },
     "execution_count": 4,
     "metadata": {},
     "output_type": "execute_result"
    }
   ],
   "source": [
    "# Filter out rows with \"N/A\" in the \"hallucination_type\" column\n",
    "filtered_data = responses[responses[\"hallucination_type\"] != \"N/A\"]\n",
    "\n",
    "# Group by \"chunk_type\" and \"hallucination_type\" to count occurrences\n",
    "hallucination_analysis = filtered_data.groupby([\"chunk_type\", \"hallucination_type\"]).size().unstack(fill_value=0)\n",
    "hallucination_analysis"
   ]
  },
  {
   "cell_type": "code",
   "execution_count": 6,
   "id": "8d2b7655",
   "metadata": {},
   "outputs": [
    {
     "data": {
      "image/png": "[encoded data removed]",
      "text/plain": [
       "<Figure size 600x500 with 1 Axes>"
      ]
     },
     "metadata": {},
     "output_type": "display_data"
    }
   ],
   "source": [
    "# Plot the stacked bar chart\n",
    "ax = hallucination_analysis.plot(kind=\"bar\", stacked=True, figsize=(6, 5), color=['skyblue', 'orange', 'purple'])\n",
    "\n",
    "# Add title, labels, and formatting\n",
    "plt.title(\"Analysis of Hallucination Types by Chunk Type\", fontsize=16)\n",
    "plt.xlabel(\"Chunk Type\", fontsize=14)\n",
    "plt.ylabel(\"Number of Hallucinations\", fontsize=14)\n",
    "plt.xticks(rotation=45, fontsize=12)\n",
    "plt.legend(title=\"Hallucination Type\")\n",
    "plt.grid(axis=\"y\", linestyle=\"--\", alpha=0.7)\n",
    "\n",
    "# Annotate the bars with the values\n",
    "for i in range(len(hallucination_analysis)):\n",
    "    cumulative_sum = 0  # Tracks the cumulative height for stacking\n",
    "    for col in hallucination_analysis.columns:\n",
    "        value = hallucination_analysis[col].iloc[i]\n",
    "        if value > 0:  # Only annotate non-zero values\n",
    "            ax.text(i, cumulative_sum + value / 2,  # Midpoint of the current stack\n",
    "                    str(value), \n",
    "                    ha='center', va='center', fontsize=10, \n",
    "                    color='black' if value > 18 else 'white')\n",
    "        cumulative_sum += value  # Update the cumulative sum for the next stack\n",
    "\n",
    "# Adjust layout to prevent overlap\n",
    "plt.tight_layout()\n",
    "plt.subplots_adjust(bottom=0.2, top=0.85)\n",
    "\n",
    "plt.show()\n"
   ]
  },
  {
   "cell_type": "markdown",
   "id": "e95bf403",
   "metadata": {},
   "source": [
    "### Intrinsic Hallucinations Dominate:\n",
    "\n",
    "+ Across all chunk types, intrinsic hallucinations are the most frequent. This suggests the model's generative reasoning is a key area for improvement."
   ]
  },
  {
   "cell_type": "markdown",
   "id": "02cf2847",
   "metadata": {},
   "source": [
    "### Chunk Size Matters:\n",
    "\n",
    "+ SMALL chunks seem to handle retrieval well (no extrinsic hallucinations) but still struggle with intrinsic hallucinations, possibly due to limited context.\n",
    "+ PAGE chunks also perform well with minimal extrinsic hallucinations but exhibit slightly fewer intrinsic hallucinations compared to MEDIUM and LARGE chunks."
   ]
  },
  {
   "cell_type": "markdown",
   "id": "91f27c9a",
   "metadata": {},
   "source": [
    "### Trade-off Between Chunk Size and Accuracy:\n",
    "\n",
    "+ MEDIUM and LARGE chunks show more hallucinations overall, likely due to the complexity introduced by handling larger contexts."
   ]
  },
  {
   "cell_type": "markdown",
   "id": "919ff772",
   "metadata": {},
   "source": [
    "### store the updated evaluation sheet as excel for further analysis"
   ]
  },
  {
   "cell_type": "code",
   "execution_count": 310,
   "id": "b809d6b9",
   "metadata": {},
   "outputs": [],
   "source": [
    "responses.to_excel('evaluation_sheet_v2.xlsx', index=False)"
   ]
  },
  {
   "cell_type": "code",
   "execution_count": 311,
   "id": "6c092781",
   "metadata": {},
   "outputs": [
    {
     "data": {
      "text/plain": [
       "(356, 8)"
      ]
     },
     "execution_count": 311,
     "metadata": {},
     "output_type": "execute_result"
    }
   ],
   "source": [
    "responses.shape"
   ]
  },
  {
   "cell_type": "code",
   "execution_count": 5,
   "id": "2279ffe8",
   "metadata": {},
   "outputs": [
    {
     "data": {
      "text/plain": [
       "(360, 8)"
      ]
     },
     "execution_count": 5,
     "metadata": {},
     "output_type": "execute_result"
    }
   ],
   "source": [
    "responses=pd.read_excel('evaluation_sheet_v2.xlsx')\n",
    "responses.shape"
   ]
  },
  {
   "cell_type": "markdown",
   "id": "843d77f6",
   "metadata": {},
   "source": [
    "## Number of questions that could be answered fully/partially"
   ]
  },
  {
   "cell_type": "code",
   "execution_count": 7,
   "id": "4c6dd63a",
   "metadata": {
    "scrolled": true
   },
   "outputs": [
    {
     "data": {
      "text/plain": [
       "chunk_type\n",
       "LARGE     59\n",
       "MEDIUM    60\n",
       "PAGE      72\n",
       "SMALL     64\n",
       "Name: id, dtype: int64"
      ]
     },
     "execution_count": 7,
     "metadata": {},
     "output_type": "execute_result"
    }
   ],
   "source": [
    "responses[responses['answer_accuracy'].isin([1,2])].groupby(\"chunk_type\")['id'].count()"
   ]
  },
  {
   "cell_type": "markdown",
   "id": "e72649f3",
   "metadata": {},
   "source": [
    "## Number of questions that  are answered incorrectly"
   ]
  },
  {
   "cell_type": "code",
   "execution_count": 8,
   "id": "df4c5a1e",
   "metadata": {
    "scrolled": false
   },
   "outputs": [
    {
     "data": {
      "text/plain": [
       "chunk_type\n",
       "LARGE     13\n",
       "MEDIUM    15\n",
       "PAGE       6\n",
       "SMALL      8\n",
       "Name: id, dtype: int64"
      ]
     },
     "execution_count": 8,
     "metadata": {},
     "output_type": "execute_result"
    }
   ],
   "source": [
    "responses[responses['answer_accuracy'].isin([4])].groupby(\"chunk_type\")['id'].count()"
   ]
  },
  {
   "cell_type": "markdown",
   "id": "bfdced9b",
   "metadata": {},
   "source": [
    "## Response Correctness"
   ]
  },
  {
   "cell_type": "markdown",
   "id": "4545de5c",
   "metadata": {},
   "source": [
    "  \n",
    "$$\n",
    "\\text{Precision} = \\frac{\\text{Correctly Answered Questions}}{\\text{Correctly Answered Questions + Incorrectly Answered Questions}}\n",
    "$$"
   ]
  },
  {
   "cell_type": "code",
   "execution_count": 24,
   "id": "0e24e786",
   "metadata": {
    "scrolled": true
   },
   "outputs": [
    {
     "data": {
      "text/html": [
       "<div>\n",
       "<style scoped>\n",
       "    .dataframe tbody tr th:only-of-type {\n",
       "        vertical-align: middle;\n",
       "    }\n",
       "\n",
       "    .dataframe tbody tr th {\n",
       "        vertical-align: top;\n",
       "    }\n",
       "\n",
       "    .dataframe thead th {\n",
       "        text-align: right;\n",
       "    }\n",
       "</style>\n",
       "<table border=\"1\" class=\"dataframe\">\n",
       "  <thead>\n",
       "    <tr style=\"text-align: right;\">\n",
       "      <th></th>\n",
       "      <th>Chunk Type</th>\n",
       "      <th>Precision (%)</th>\n",
       "      <th>Correct</th>\n",
       "      <th>Incorrect</th>\n",
       "      <th>Total Retrieved Chunks</th>\n",
       "    </tr>\n",
       "  </thead>\n",
       "  <tbody>\n",
       "    <tr>\n",
       "      <th>0</th>\n",
       "      <td>LARGE</td>\n",
       "      <td>81.944444</td>\n",
       "      <td>59</td>\n",
       "      <td>13</td>\n",
       "      <td>72</td>\n",
       "    </tr>\n",
       "    <tr>\n",
       "      <th>1</th>\n",
       "      <td>MEDIUM</td>\n",
       "      <td>80.000000</td>\n",
       "      <td>60</td>\n",
       "      <td>15</td>\n",
       "      <td>75</td>\n",
       "    </tr>\n",
       "    <tr>\n",
       "      <th>2</th>\n",
       "      <td>PAGE</td>\n",
       "      <td>92.307692</td>\n",
       "      <td>72</td>\n",
       "      <td>6</td>\n",
       "      <td>78</td>\n",
       "    </tr>\n",
       "    <tr>\n",
       "      <th>3</th>\n",
       "      <td>SMALL</td>\n",
       "      <td>88.888889</td>\n",
       "      <td>64</td>\n",
       "      <td>8</td>\n",
       "      <td>72</td>\n",
       "    </tr>\n",
       "  </tbody>\n",
       "</table>\n",
       "</div>"
      ],
      "text/plain": [
       "  Chunk Type  Precision (%)  Correct  Incorrect  Total Retrieved Chunks\n",
       "0      LARGE      81.944444       59         13                      72\n",
       "1     MEDIUM      80.000000       60         15                      75\n",
       "2       PAGE      92.307692       72          6                      78\n",
       "3      SMALL      88.888889       64          8                      72"
      ]
     },
     "execution_count": 24,
     "metadata": {},
     "output_type": "execute_result"
    }
   ],
   "source": [
    "\n",
    "chunk_types = responses[responses['answer_accuracy'].isin([4])].groupby(\"chunk_type\")['id'].count().index\n",
    "total_chunks = responses[responses['answer_accuracy'].isin([1,2,4])].groupby(\"chunk_type\")['id'].count().values\n",
    "correctly_answered = responses[responses['answer_accuracy'].isin([1,2])].groupby(\"chunk_type\")['id'].count().values\n",
    "incorrectly_answered = responses[responses['answer_accuracy'].isin([4])].groupby(\"chunk_type\")['id'].count().values\n",
    "\n",
    "# Calculations\n",
    "precision = [tp / (tp + fp) for tp, fp in zip(correctly_answered, incorrectly_answered)]\n",
    "# Create DataFrame\n",
    "results = pd.DataFrame({\n",
    "    \"Chunk Type\": chunk_types,\n",
    "    \"Precision (%)\": [p * 100 for p in precision],\n",
    "    \"Correct\": correctly_answered,\n",
    "    \"Incorrect\": incorrectly_answered,\n",
    "    \"Total Retrieved Chunks\": total_chunks\n",
    "})\n",
    "\n",
    "results\n"
   ]
  },
  {
   "cell_type": "code",
   "execution_count": 49,
   "id": "52cbaf24",
   "metadata": {},
   "outputs": [
    {
     "data": {
      "image/png": "[encoded data removed]",
      "text/plain": [
       "<Figure size 1000x400 with 2 Axes>"
      ]
     },
     "metadata": {},
     "output_type": "display_data"
    }
   ],
   "source": [
    "# Replotting the diagrams side by side with values in the middle of each bar for the first diagram\n",
    "fig, axes = plt.subplots(1, 2, figsize=(10, 4))\n",
    "\n",
    "# Data for the first bar diagram (Correctly and Incorrectly Answered)\n",
    "x = range(len(results[\"Chunk Type\"]))\n",
    "bar_width = 0.35\n",
    "\n",
    "# First Diagram: Side-by-side bars for Correctly and Incorrectly Answered\n",
    "correct_bars = axes[0].bar([pos - bar_width / 2 for pos in x], results[\"Correct\"], \n",
    "                           width=bar_width, label=\"Correctly Answered\", alpha=0.7, color=\"orange\")\n",
    "incorrect_bars = axes[0].bar([pos + bar_width / 2 for pos in x], results[\"Incorrect\"], \n",
    "                             width=bar_width, label=\"Incorrectly Answered\", alpha=0.7, color='skyblue')\n",
    "\n",
    "# Adding values in the middle of each bar\n",
    "for bar in correct_bars:\n",
    "    height = bar.get_height()\n",
    "    axes[0].text(bar.get_x() + bar.get_width() / 2, height / 2, str(int(height)), \n",
    "                 ha=\"center\", va=\"bottom\", fontsize=10, color=\"black\")\n",
    "\n",
    "for bar in incorrect_bars:\n",
    "    height = bar.get_height()\n",
    "    axes[0].text(bar.get_x() + bar.get_width() / 2, height / 2, str(int(height)), \n",
    "                 ha=\"center\", va=\"center\", fontsize=10, color=\"black\")\n",
    "\n",
    "# Formatting the first diagram\n",
    "axes[0].set_xticks(x)\n",
    "axes[0].set_xticklabels(results[\"Chunk Type\"])\n",
    "axes[0].set_ylabel(\"Number of Responses\")\n",
    "axes[0].set_xlabel(\"Chunk Type\")\n",
    "axes[0].grid(axis='y', linestyle='--', alpha=0.7)\n",
    "axes[0].set_title(\"Correctly and Incorrectly Answered Responses\")\n",
    "axes[0].legend()\n",
    "\n",
    "# Second Diagram: Precision Bar Plot\n",
    "custom_palette = [\"#1f77b4\", \"#ff7f0e\", \"#2ca02c\", \"#d62728\"]  # Example color palette\n",
    "bars = axes[1].bar(results[\"Chunk Type\"], results[\"Precision (%)\"], color=custom_palette[:len(results[\"Chunk Type\"])])\n",
    "\n",
    "# Add annotations on top of each bar\n",
    "for bar in bars:\n",
    "    height = bar.get_height()\n",
    "    axes[1].text(bar.get_x() + bar.get_width() / 2, height/2, \n",
    "                 f'{height:.2f}', ha='center', va='bottom')\n",
    "\n",
    "# Formatting the second diagram\n",
    "axes[1].set_title(\"Response Correctness vs Chunk Types\")\n",
    "axes[1].set_xlabel(\"Chunk Type\")\n",
    "axes[1].set_ylabel(\"Precision (%)\")\n",
    "axes[1].grid(axis='y', linestyle='--', alpha=0.7)\n",
    "\n",
    "# Adjust layout\n",
    "plt.tight_layout()\n",
    "plt.show()\n"
   ]
  },
  {
   "cell_type": "markdown",
   "id": "d5c27564",
   "metadata": {},
   "source": [
    "## Retrieval Metrics Analysis"
   ]
  },
  {
   "cell_type": "markdown",
   "id": "9675a93d",
   "metadata": {},
   "source": [
    "we have two **Retrieval Metrics**:\n",
    "$$\\frac{}{}\n",
    "$$"
   ]
  },
  {
   "cell_type": "markdown",
   "id": "c02dab3c",
   "metadata": {},
   "source": [
    "$$\n",
    "\\text{Precision} = \\frac{\\text{Relevant Chunks}}{\\text{Total Retrieved Chunks}}\n",
    "$$"
   ]
  },
  {
   "cell_type": "markdown",
   "id": "dd55b8eb",
   "metadata": {},
   "source": [
    "\n",
    "\n",
    "$$\n",
    "\\text{Recall} = \\frac{\\text{Relevant Chunks}}{\\text{Total Relevant Chunks in Knowledge Base}}\n",
    "$$\n"
   ]
  },
  {
   "cell_type": "markdown",
   "id": "96bb239e",
   "metadata": {},
   "source": [
    "<code>answer_accuracy</code> **3** means the relevant context was totally not found in the given context. That's mean in the cases completely irrelevant chunks were retrieved. "
   ]
  },
  {
   "cell_type": "markdown",
   "id": "06a6be9c",
   "metadata": {},
   "source": [
    "#### Number of irrelevant chunks retrieved in each chunk type"
   ]
  },
  {
   "cell_type": "code",
   "execution_count": 50,
   "id": "1cc0bbd5",
   "metadata": {
    "scrolled": true
   },
   "outputs": [
    {
     "data": {
      "text/plain": [
       "chunk_type\n",
       "LARGE     18\n",
       "MEDIUM    15\n",
       "PAGE      12\n",
       "SMALL     18\n",
       "Name: id, dtype: int64"
      ]
     },
     "execution_count": 50,
     "metadata": {},
     "output_type": "execute_result"
    }
   ],
   "source": [
    "responses[responses['answer_accuracy'].isin([3])].groupby(\"chunk_type\")['id'].count()"
   ]
  },
  {
   "cell_type": "markdown",
   "id": "9f9a7b0b",
   "metadata": {},
   "source": [
    "#### Number of relevant chunks retrieved in each chunk type"
   ]
  },
  {
   "cell_type": "code",
   "execution_count": 51,
   "id": "dc6d5c1a",
   "metadata": {
    "scrolled": true
   },
   "outputs": [
    {
     "data": {
      "text/plain": [
       "chunk_type\n",
       "LARGE     72\n",
       "MEDIUM    75\n",
       "PAGE      78\n",
       "SMALL     72\n",
       "Name: id, dtype: int64"
      ]
     },
     "execution_count": 51,
     "metadata": {},
     "output_type": "execute_result"
    }
   ],
   "source": [
    "responses[responses['answer_accuracy'].isin([1,2,4])].groupby(\"chunk_type\")['id'].count()"
   ]
  },
  {
   "cell_type": "markdown",
   "id": "bcd354c0",
   "metadata": {},
   "source": [
    "### Calculating precision and recall"
   ]
  },
  {
   "cell_type": "code",
   "execution_count": 6,
   "id": "fa684722",
   "metadata": {},
   "outputs": [],
   "source": [
    "\n",
    "irrelevant_chunks = pd.Series({'LARGE': 18, 'MEDIUM': 15, 'PAGE': 12, 'SMALL': 18}, name=\"Irrelevant Chunks\")\n",
    "relevant_chunks = pd.Series({'LARGE': 72, 'MEDIUM': 75, 'PAGE': 78, 'SMALL': 72}, name=\"Relevant Chunks\")\n",
    "\n",
    "# Total retrieved chunks\n",
    "total_retrieved_chunks = irrelevant_chunks + relevant_chunks\n",
    "\n",
    "# Calculating Precision\n",
    "precision = relevant_chunks / total_retrieved_chunks\n",
    "\n",
    "# Calculating Recall\n",
    "total_relevant_chunks_in_kb = relevant_chunks.sum()\n",
    "recall = relevant_chunks / total_relevant_chunks_in_kb\n",
    "\n",
    "# Combine into a DataFrame for better visualization\n",
    "retrieval_metrics = pd.DataFrame({\n",
    "    'Irrelevant Chunks': irrelevant_chunks,\n",
    "    'Relevant Chunks': relevant_chunks,\n",
    "    'Total Retrieved Chunks': total_retrieved_chunks,\n",
    "    'Precision': precision,\n",
    "    'Recall': recall\n",
    "})\n",
    "\n"
   ]
  },
  {
   "cell_type": "code",
   "execution_count": 57,
   "id": "b58c256e",
   "metadata": {
    "scrolled": true
   },
   "outputs": [
    {
     "data": {
      "text/html": [
       "<div>\n",
       "<style scoped>\n",
       "    .dataframe tbody tr th:only-of-type {\n",
       "        vertical-align: middle;\n",
       "    }\n",
       "\n",
       "    .dataframe tbody tr th {\n",
       "        vertical-align: top;\n",
       "    }\n",
       "\n",
       "    .dataframe thead th {\n",
       "        text-align: right;\n",
       "    }\n",
       "</style>\n",
       "<table border=\"1\" class=\"dataframe\">\n",
       "  <thead>\n",
       "    <tr style=\"text-align: right;\">\n",
       "      <th></th>\n",
       "      <th>Irrelevant Chunks</th>\n",
       "      <th>Relevant Chunks</th>\n",
       "      <th>Total Retrieved Chunks</th>\n",
       "      <th>Precision</th>\n",
       "      <th>Recall</th>\n",
       "    </tr>\n",
       "  </thead>\n",
       "  <tbody>\n",
       "    <tr>\n",
       "      <th>LARGE</th>\n",
       "      <td>18</td>\n",
       "      <td>72</td>\n",
       "      <td>90</td>\n",
       "      <td>0.800000</td>\n",
       "      <td>0.242424</td>\n",
       "    </tr>\n",
       "    <tr>\n",
       "      <th>MEDIUM</th>\n",
       "      <td>15</td>\n",
       "      <td>75</td>\n",
       "      <td>90</td>\n",
       "      <td>0.833333</td>\n",
       "      <td>0.252525</td>\n",
       "    </tr>\n",
       "    <tr>\n",
       "      <th>PAGE</th>\n",
       "      <td>12</td>\n",
       "      <td>78</td>\n",
       "      <td>90</td>\n",
       "      <td>0.866667</td>\n",
       "      <td>0.262626</td>\n",
       "    </tr>\n",
       "    <tr>\n",
       "      <th>SMALL</th>\n",
       "      <td>18</td>\n",
       "      <td>72</td>\n",
       "      <td>90</td>\n",
       "      <td>0.800000</td>\n",
       "      <td>0.242424</td>\n",
       "    </tr>\n",
       "  </tbody>\n",
       "</table>\n",
       "</div>"
      ],
      "text/plain": [
       "        Irrelevant Chunks  Relevant Chunks  Total Retrieved Chunks  Precision  \\\n",
       "LARGE                  18               72                      90   0.800000   \n",
       "MEDIUM                 15               75                      90   0.833333   \n",
       "PAGE                   12               78                      90   0.866667   \n",
       "SMALL                  18               72                      90   0.800000   \n",
       "\n",
       "          Recall  \n",
       "LARGE   0.242424  \n",
       "MEDIUM  0.252525  \n",
       "PAGE    0.262626  \n",
       "SMALL   0.242424  "
      ]
     },
     "execution_count": 57,
     "metadata": {},
     "output_type": "execute_result"
    }
   ],
   "source": [
    "retrieval_metrics"
   ]
  },
  {
   "cell_type": "code",
   "execution_count": 27,
   "id": "d37fa23b",
   "metadata": {},
   "outputs": [
    {
     "data": {
      "image/png": "[encoded data removed]",
      "text/plain": [
       "<Figure size 1200x600 with 2 Axes>"
      ]
     },
     "metadata": {},
     "output_type": "display_data"
    }
   ],
   "source": [
    "# Plotting with enhancements\n",
    "fig, axes = plt.subplots(1, 2, figsize=(12, 6))\n",
    "\n",
    "# (a) Irrelevant vs Relevant Chunks retrieved\n",
    "x = np.arange(len(df[\"Chunk Type\"]))\n",
    "width = 0.4\n",
    "\n",
    "# Irrelevant and Relevant Chunks as separate bars\n",
    "irrelevant_bars = axes[0].bar(x - width / 2, df[\"Irrelevant Chunks\"], width, label=\"Irrelevant Chunks\", color=\"skyblue\")\n",
    "relevant_bars = axes[0].bar(x + width / 2, df[\"Relevant Chunks\"], width, label=\"Relevant Chunks\", color=\"orange\")\n",
    "\n",
    "# Adding values on top of the bars\n",
    "for bar in irrelevant_bars:\n",
    "    axes[0].text(bar.get_x() + bar.get_width() / 2, bar.get_height() + 1, str(int(bar.get_height())), ha=\"center\", va=\"bottom\")\n",
    "for bar in relevant_bars:\n",
    "    axes[0].text(bar.get_x() + bar.get_width() / 2, bar.get_height() + 1, str(int(bar.get_height())), ha=\"center\", va=\"bottom\")\n",
    "\n",
    "axes[0].set_xticks(x)\n",
    "axes[0].set_xticklabels(df[\"Chunk Type\"],rotation=45)\n",
    "axes[0].set_ylabel(\"Number of Chunks retrieved\")\n",
    "axes[0].set_xlabel(\"Chunk Type\")\n",
    "axes[0].set_title(\"Irrelevant vs Relevant Chunks retrieved\")\n",
    "axes[0].legend()\n",
    "axes[0].legend(loc=\"lower left\", bbox_to_anchor=(0, .5), ncol=1, fontsize=10, frameon=True)\n",
    "axes[0].grid(axis='y', linestyle='--', alpha=0.7)\n",
    "\n",
    "# (b) Precision and Recall by Chunk Type (stacked)\n",
    "precision_bars = axes[1].bar(x, df[\"Precision\"] * 100, width, label=\"Precision\", color=\"orange\")\n",
    "recall_bars = axes[1].bar(x, df[\"Recall\"] * 100, width, bottom=df[\"Precision\"] * 100, label=\"Recall\", color=\"skyblue\")\n",
    "\n",
    "# Adding values in the middle of the stacked bars\n",
    "for i, rect in enumerate(precision_bars):\n",
    "    precision_height = rect.get_height()\n",
    "    axes[1].text(rect.get_x() + rect.get_width() / 2, precision_height / 2, f\"{df['Precision'][i] * 100:.2f}\", ha=\"center\", va=\"center\")\n",
    "\n",
    "for i, rect in enumerate(recall_bars):\n",
    "    total_height = rect.get_height() + precision_bars[i].get_height()\n",
    "    axes[1].text(rect.get_x() + rect.get_width() / 2, precision_bars[i].get_height() + rect.get_height() / 2, f\"{df['Recall'][i] * 100:.2f}\", ha=\"center\", va=\"center\")\n",
    "\n",
    "axes[1].set_xticks(x)\n",
    "axes[1].set_xticklabels(df[\"Chunk Type\"],rotation=45)\n",
    "axes[1].set_ylabel(\"Metrics (%)\")\n",
    "axes[1].set_title(\"Precision and Recall by Chunk Type\")\n",
    "axes[1].legend()\n",
    "axes[1].set_xlabel(\"Chunk Type\")\n",
    "axes[1].grid(axis='y', linestyle='--', alpha=0.7)\n",
    "\n",
    "plt.tight_layout()\n",
    "plt.show()\n"
   ]
  },
  {
   "cell_type": "code",
   "execution_count": 7,
   "id": "b537d8aa",
   "metadata": {},
   "outputs": [
    {
     "data": {
      "image/png": "[encoded data removed]",
      "text/plain": [
       "<Figure size 600x400 with 1 Axes>"
      ]
     },
     "metadata": {},
     "output_type": "display_data"
    }
   ],
   "source": [
    "x = range(len(retrieval_metrics.index))\n",
    "width = 0.35\n",
    "\n",
    "# Create the bar chart\n",
    "plt.figure(figsize=(6, 4))\n",
    "\n",
    "bars1 = plt.bar([pos - width/2 for pos in x], irrelevant_chunks, width, label='Irrelevant Chunks', color='skyblue')\n",
    "bars2 = plt.bar([pos + width/2 for pos in x], relevant_chunks, width, label='Relevant Chunks', color='orange')\n",
    "\n",
    "# Add labels on top of the bars\n",
    "for bar in bars1:\n",
    "    plt.text(bar.get_x() + bar.get_width() / 2, bar.get_height(), f'{bar.get_height()}', ha='center', va='bottom', fontsize=10)\n",
    "\n",
    "for bar in bars2:\n",
    "    plt.text(bar.get_x() + bar.get_width() / 2, bar.get_height(), f'{bar.get_height()}', ha='center', va='bottom', fontsize=10)\n",
    "\n",
    "# Add labels, legend, and grid\n",
    "plt.xlabel('Chunk Type')\n",
    "plt.ylabel('Number of Chunks')\n",
    "plt.title('Irrelevant vs Relevant Chunks retrieved by the Retriever')\n",
    "plt.xticks(x, retrieval_metrics.index,rotation=45)\n",
    "#plt.legend()\n",
    "plt.legend(loc=\"lower left\", bbox_to_anchor=(0, .5), ncol=1, fontsize=10, frameon=True)\n",
    "plt.grid(axis='y', linestyle='--', alpha=0.7)\n",
    "\n",
    "plt.tight_layout()\n",
    "plt.show()"
   ]
  },
  {
   "cell_type": "markdown",
   "id": "f5da6600",
   "metadata": {},
   "source": [
    "## visualize Precision and Recall"
   ]
  },
  {
   "cell_type": "code",
   "execution_count": 94,
   "id": "3af46eba",
   "metadata": {
    "scrolled": false
   },
   "outputs": [
    {
     "data": {
      "image/png": "[encoded data removed]",
      "text/plain": [
       "<Figure size 600x400 with 1 Axes>"
      ]
     },
     "metadata": {},
     "output_type": "display_data"
    }
   ],
   "source": [
    "\n",
    "# Data for visualization\n",
    "chunk_types = ['LARGE', 'MEDIUM', 'PAGE', 'SMALL']\n",
    "precision = retrieval_metrics['Precision']\n",
    "recall = retrieval_metrics['Recall']\n",
    "\n",
    "# Plot stacked bar chart\n",
    "plt.figure(figsize=(6, 4))\n",
    "width = 0.35\n",
    "\n",
    "# Plot precision (bottom bar in stack)\n",
    "precision_bars = plt.bar(chunk_types, precision, width=bar_width, label='Precision', color='orange', alpha=0.7)\n",
    "\n",
    "# Plot recall (top bar in stack)\n",
    "recall_bars = plt.bar(chunk_types, recall, width=bar_width, bottom=precision, label='Recall', color='skyblue', alpha=0.7)\n",
    "\n",
    "# Add values on top of Precision bars\n",
    "for bar, value in zip(precision_bars, precision):\n",
    "    plt.text(bar.get_x() + bar.get_width() / 2, value / 2,  # Position in the middle of the Precision bar\n",
    "             f'{value*100:.2f}', ha='center', va='center', fontsize=10, color='white')\n",
    "\n",
    "# Add values on top of Recall bars\n",
    "for bar, value, base in zip(recall_bars, recall, precision):\n",
    "    plt.text(bar.get_x() + bar.get_width() / 2, base + value / 2,  # Position in the middle of the Recall segment\n",
    "             f'{value*100:.2f}', ha='center', va='center', fontsize=10, color='white')\n",
    "\n",
    "# Add titles and labels\n",
    "plt.title('Retrieval Metrics: Precision and Recall by Chunk Type', fontsize=16)\n",
    "plt.xlabel('Chunk Type', fontsize=14)\n",
    "plt.ylabel('Metrics', fontsize=14)\n",
    "#plt.legend(loc='upper right', fontsize=12)\n",
    "plt.legend(loc=\"lower left\", bbox_to_anchor=(0, 0), ncol=1, fontsize=10, frameon=True)\n",
    "plt.xticks(fontsize=12,rotation=45)\n",
    "plt.yticks(fontsize=12)\n",
    "plt.grid(axis='y', linestyle='--', alpha=0.7)\n",
    "\n",
    "# Adjust layout and display the plot\n",
    "plt.tight_layout()\n",
    "plt.show()\n"
   ]
  },
  {
   "cell_type": "markdown",
   "id": "e87b2d18",
   "metadata": {},
   "source": [
    "### Precision Interpretation:\n",
    "+ PAGE (0.866667) has the highest precision, meaning it retrieves the highest proportion of relevant chunks while minimizing irrelevant chunks.\n",
    "+ MEDIUM (0.833333) follows closely in precision, performing slightly better than LARGE and SMALL.\n",
    "+ LARGE and SMALL (0.800000 each) have the lowest precision, indicating they retrieve a higher proportion of irrelevant chunks compared to PAGE and MEDIUM."
   ]
  },
  {
   "cell_type": "markdown",
   "id": "92e72a9b",
   "metadata": {},
   "source": [
    "### Recall Interpretation:\n",
    "+ PAGE (0.262626) achieves the highest recall, showing it captures the largest proportion of relevant chunks from the knowledge base.\n",
    "+ MEDIUM (0.252525) is second, indicating good recall but slightly less than PAGE.\n",
    "+ LARGE and SMALL (0.242424 each) have the lowest recall, suggesting they miss more relevant chunks compared to PAGE and MEDIUM."
   ]
  },
  {
   "cell_type": "markdown",
   "id": "63ada080",
   "metadata": {},
   "source": [
    "# Contextual Accuracy Analyze"
   ]
  },
  {
   "cell_type": "markdown",
   "id": "2ee4da5a",
   "metadata": {},
   "source": [
    "## ROUGE-1 Score Calculation"
   ]
  },
  {
   "cell_type": "code",
   "execution_count": 50,
   "id": "ff33141f",
   "metadata": {},
   "outputs": [],
   "source": [
    "\n",
    "def rouge1(ref,candidate):\n",
    "    scorer = rouge_scorer.RougeScorer(['rouge1'],use_stemmer=True)\n",
    "    result = scorer.score(ref,candidate)\n",
    "    return result"
   ]
  },
  {
   "cell_type": "code",
   "execution_count": 13,
   "id": "917297ab",
   "metadata": {},
   "outputs": [
    {
     "data": {
      "text/plain": [
       "{'rouge1': Score(precision=1.0, recall=0.2, fmeasure=0.33333333333333337)}"
      ]
     },
     "execution_count": 13,
     "metadata": {},
     "output_type": "execute_result"
    }
   ],
   "source": [
    "result = rouge1(\"The music video for '03 Bonnie & Clyde' where Beyoncé appeared as Jay Z's girlfriend.\",\n",
    "                \"03 Bonnie & Clyde\")\n",
    "result"
   ]
  },
  {
   "cell_type": "code",
   "execution_count": 14,
   "id": "1be5e625",
   "metadata": {},
   "outputs": [
    {
     "data": {
      "text/plain": [
       "{'rouge1': Score(precision=0.0, recall=0.0, fmeasure=0.0)}"
      ]
     },
     "execution_count": 14,
     "metadata": {},
     "output_type": "execute_result"
    }
   ],
   "source": [
    "result = rouge1(\"The music video for '03 Bonnie & Clyde' where Beyoncé appeared as Jay Z's girlfriend.\",\n",
    "                \"Drunk in Love\")\n",
    "result"
   ]
  },
  {
   "cell_type": "code",
   "execution_count": 11,
   "id": "27af8ef1",
   "metadata": {},
   "outputs": [
    {
     "data": {
      "text/html": [
       "<div>\n",
       "<style scoped>\n",
       "    .dataframe tbody tr th:only-of-type {\n",
       "        vertical-align: middle;\n",
       "    }\n",
       "\n",
       "    .dataframe tbody tr th {\n",
       "        vertical-align: top;\n",
       "    }\n",
       "\n",
       "    .dataframe thead th {\n",
       "        text-align: right;\n",
       "    }\n",
       "</style>\n",
       "<table border=\"1\" class=\"dataframe\">\n",
       "  <thead>\n",
       "    <tr style=\"text-align: right;\">\n",
       "      <th></th>\n",
       "      <th>chunk_type</th>\n",
       "      <th>id</th>\n",
       "      <th>llm_response</th>\n",
       "      <th>ref_answer</th>\n",
       "      <th>response_time</th>\n",
       "      <th>retrieval_time</th>\n",
       "      <th>answer_accuracy</th>\n",
       "      <th>hallucination_type</th>\n",
       "    </tr>\n",
       "  </thead>\n",
       "  <tbody>\n",
       "    <tr>\n",
       "      <th>4</th>\n",
       "      <td>PAGE</td>\n",
       "      <td>5</td>\n",
       "      <td>\"'03 Bonnie &amp; Clyde\"</td>\n",
       "      <td>The music video for '03 Bonnie &amp; Clyde' where ...</td>\n",
       "      <td>0.864547</td>\n",
       "      <td>1.388123</td>\n",
       "      <td>1</td>\n",
       "      <td>NaN</td>\n",
       "    </tr>\n",
       "    <tr>\n",
       "      <th>5</th>\n",
       "      <td>SMALL</td>\n",
       "      <td>6</td>\n",
       "      <td>\"'03 Bonnie &amp; Clyde\"</td>\n",
       "      <td>The music video for '03 Bonnie &amp; Clyde' where ...</td>\n",
       "      <td>2.525418</td>\n",
       "      <td>2.372649</td>\n",
       "      <td>1</td>\n",
       "      <td>NaN</td>\n",
       "    </tr>\n",
       "    <tr>\n",
       "      <th>6</th>\n",
       "      <td>MEDIUM</td>\n",
       "      <td>7</td>\n",
       "      <td>\"Pretty Hurts\"</td>\n",
       "      <td>The music video for '03 Bonnie &amp; Clyde' where ...</td>\n",
       "      <td>0.684017</td>\n",
       "      <td>1.981795</td>\n",
       "      <td>4</td>\n",
       "      <td>Intrinsic</td>\n",
       "    </tr>\n",
       "    <tr>\n",
       "      <th>7</th>\n",
       "      <td>LARGE</td>\n",
       "      <td>8</td>\n",
       "      <td>\"Drunk in Love\"</td>\n",
       "      <td>The music video for '03 Bonnie &amp; Clyde' where ...</td>\n",
       "      <td>1.131651</td>\n",
       "      <td>1.565581</td>\n",
       "      <td>4</td>\n",
       "      <td>Intrinsic</td>\n",
       "    </tr>\n",
       "  </tbody>\n",
       "</table>\n",
       "</div>"
      ],
      "text/plain": [
       "  chunk_type  id          llm_response  \\\n",
       "4       PAGE   5  \"'03 Bonnie & Clyde\"   \n",
       "5      SMALL   6  \"'03 Bonnie & Clyde\"   \n",
       "6     MEDIUM   7        \"Pretty Hurts\"   \n",
       "7      LARGE   8       \"Drunk in Love\"   \n",
       "\n",
       "                                          ref_answer  response_time  \\\n",
       "4  The music video for '03 Bonnie & Clyde' where ...       0.864547   \n",
       "5  The music video for '03 Bonnie & Clyde' where ...       2.525418   \n",
       "6  The music video for '03 Bonnie & Clyde' where ...       0.684017   \n",
       "7  The music video for '03 Bonnie & Clyde' where ...       1.131651   \n",
       "\n",
       "   retrieval_time  answer_accuracy hallucination_type  \n",
       "4        1.388123                1                NaN  \n",
       "5        2.372649                1                NaN  \n",
       "6        1.981795                4          Intrinsic  \n",
       "7        1.565581                4          Intrinsic  "
      ]
     },
     "execution_count": 11,
     "metadata": {},
     "output_type": "execute_result"
    }
   ],
   "source": [
    "responses[responses['ref_answer']==\"The music video for '03 Bonnie & Clyde' where Beyoncé appeared as Jay Z's girlfriend.\"]"
   ]
  },
  {
   "cell_type": "markdown",
   "id": "e6dcc10f",
   "metadata": {},
   "source": [
    "#  ROUGE1 Score Calculation for Given Reference and Candidate"
   ]
  },
  {
   "cell_type": "markdown",
   "id": "c65c2d2e",
   "metadata": {},
   "source": [
    "\n",
    "\n",
    "### Inputs:\n",
    "1. **Reference (Reference Text)**:  \n",
    "   `\"The music video for '03 Bonnie & Clyde' where Beyoncé appeared as Jay Z's girlfriend.\"`\n",
    "2. **Candidate (Summarized Text)**:  \n",
    "   `\"03 Bonnie & Clyde\"`\n",
    "\n",
    "---\n",
    "\n",
    "### Step 1: Normalize tokens (remove punctuation, apply stemming)\n",
    "- **Reference Tokens**:  \n",
    "  `['03', 'Bonnie', '&', 'Clyde', 'music', 'video', 'for', 'the', 'where', 'Beyoncé', 'appeared', 'as', 'Jay', 'Z', 'girlfriend']`\n",
    "- **Candidate Tokens**:  \n",
    "  `['03', 'Bonnie', '&', 'Clyde']`\n",
    "\n",
    "---\n",
    "\n",
    "### Step 2: Count Overlapping Unigrams\n",
    "- **Overlap Tokens**:  \n",
    "  `['03', 'Bonnie', '&', 'Clyde']`  \n",
    "  **Number of Overlaps**: `4`\n",
    "\n",
    "---\n"
   ]
  },
  {
   "cell_type": "markdown",
   "id": "f7782c31",
   "metadata": {},
   "source": [
    "### Step 3: Calculate Precision, Recall, and F1 Score\n",
    "1. **Precision**:  \n",
    "   $$\n",
    "   \\text{Precision} = \\frac{\\text{Number of overlapping unigrams}}{\\text{Number of unigrams in candidate}}\n",
    "   $$ \n",
    "   $$\n",
    "   \\text{Precision} = \\frac{4}{4} = 1.0\n",
    "  $$\n",
    "\n",
    "2. **Recall**:  \n",
    " $$\n",
    "   \\text{Recall} = \\frac{\\text{Number of overlapping unigrams}}{\\text{Number of unigrams in reference}}\n",
    " $$\n",
    "$$\n",
    "   \\text{Recall} = \\frac{4}{15} = 0.2\n",
    "   $$\n",
    "\n",
    "3. **F1 Score**:  \n",
    "j$$\n",
    "   \\text{F1} = 2 \\cdot \\frac{\\text{Precision} \\cdot \\text{Recall}}{\\text{Precision} + \\text{Recall}}\n",
    "   $$\n",
    "   $$\n",
    "   \\text{F1} = 2 \\cdot \\frac{0.2 \\cdot 1.0}{0.2 + 1.0}\\approx 0.336\n",
    "  $$\n",
    "---"
   ]
  },
  {
   "cell_type": "markdown",
   "id": "840b551c",
   "metadata": {},
   "source": [
    "## Analyze <code>ROUGE1</code> Score for all the llm reponses.\n",
    "When evaluating the contextual accuracy of the LLM responses, we will focus only on the responses where the LLM made an attempt to answer the question. Specifically, we will exclude responses categorized as **3**, where the LLM could not even attempt an answer due to the lack of relevant context. Instead, we will consider responses in categories **1**, **2**, and **4** for our analysis, as these indicate an effort was made to address the question."
   ]
  },
  {
   "cell_type": "code",
   "execution_count": 52,
   "id": "c395618c",
   "metadata": {},
   "outputs": [],
   "source": [
    "relevent_llm_responses =responses[responses['answer_accuracy'].isin([1,2,4])] "
   ]
  },
  {
   "cell_type": "code",
   "execution_count": 161,
   "id": "db8ff2bc",
   "metadata": {},
   "outputs": [
    {
     "data": {
      "text/plain": [
       "(297, 8)"
      ]
     },
     "execution_count": 161,
     "metadata": {},
     "output_type": "execute_result"
    }
   ],
   "source": [
    "relevent_llm_responses.shape"
   ]
  },
  {
   "cell_type": "code",
   "execution_count": 53,
   "id": "9902243a",
   "metadata": {},
   "outputs": [],
   "source": [
    "\n",
    "precisions=[]\n",
    "recallls=[]\n",
    "fmeasures=[]\n",
    "for ref,candidate in zip(relevent_llm_responses['ref_answer'],relevent_llm_responses['llm_response']):\n",
    "        result = rouge1(ref,candidate)\n",
    "        precisions.append(result['rouge1'].precision) \n",
    "        recallls.append(result['rouge1'].recall)\n",
    "        fmeasures.append(result['rouge1'].fmeasure)\n",
    "        "
   ]
  },
  {
   "cell_type": "code",
   "execution_count": 55,
   "id": "b70b6fb3",
   "metadata": {},
   "outputs": [],
   "source": [
    "t_d = pd.DataFrame({'chunk_type':relevent_llm_responses['chunk_type'],'precision':precisions,'recall':recallls,'fmeasure':fmeasures})"
   ]
  },
  {
   "cell_type": "code",
   "execution_count": 56,
   "id": "2122dbfe",
   "metadata": {},
   "outputs": [],
   "source": [
    "summary_rouge1 = t_d.groupby('chunk_type').agg(\n",
    "    mean_precision=('precision', 'mean'),\n",
    "    mean_recall=('recall', 'mean'),\n",
    "    mean_fmeasure=('fmeasure', 'mean'),\n",
    "    chunk_count=('chunk_type', 'count')\n",
    ").reset_index()"
   ]
  },
  {
   "cell_type": "code",
   "execution_count": 167,
   "id": "a1071952",
   "metadata": {
    "scrolled": true
   },
   "outputs": [
    {
     "data": {
      "text/html": [
       "<div>\n",
       "<style scoped>\n",
       "    .dataframe tbody tr th:only-of-type {\n",
       "        vertical-align: middle;\n",
       "    }\n",
       "\n",
       "    .dataframe tbody tr th {\n",
       "        vertical-align: top;\n",
       "    }\n",
       "\n",
       "    .dataframe thead th {\n",
       "        text-align: right;\n",
       "    }\n",
       "</style>\n",
       "<table border=\"1\" class=\"dataframe\">\n",
       "  <thead>\n",
       "    <tr style=\"text-align: right;\">\n",
       "      <th></th>\n",
       "      <th>chunk_type</th>\n",
       "      <th>mean_precision</th>\n",
       "      <th>mean_recall</th>\n",
       "      <th>mean_fmeasure</th>\n",
       "      <th>chunk_count</th>\n",
       "    </tr>\n",
       "  </thead>\n",
       "  <tbody>\n",
       "    <tr>\n",
       "      <th>0</th>\n",
       "      <td>LARGE</td>\n",
       "      <td>0.533499</td>\n",
       "      <td>0.494349</td>\n",
       "      <td>0.431011</td>\n",
       "      <td>72</td>\n",
       "    </tr>\n",
       "    <tr>\n",
       "      <th>1</th>\n",
       "      <td>MEDIUM</td>\n",
       "      <td>0.551352</td>\n",
       "      <td>0.448447</td>\n",
       "      <td>0.423448</td>\n",
       "      <td>75</td>\n",
       "    </tr>\n",
       "    <tr>\n",
       "      <th>2</th>\n",
       "      <td>PAGE</td>\n",
       "      <td>0.645766</td>\n",
       "      <td>0.586535</td>\n",
       "      <td>0.528191</td>\n",
       "      <td>78</td>\n",
       "    </tr>\n",
       "    <tr>\n",
       "      <th>3</th>\n",
       "      <td>SMALL</td>\n",
       "      <td>0.649957</td>\n",
       "      <td>0.518165</td>\n",
       "      <td>0.494537</td>\n",
       "      <td>72</td>\n",
       "    </tr>\n",
       "  </tbody>\n",
       "</table>\n",
       "</div>"
      ],
      "text/plain": [
       "  chunk_type  mean_precision  mean_recall  mean_fmeasure  chunk_count\n",
       "0      LARGE        0.533499     0.494349       0.431011           72\n",
       "1     MEDIUM        0.551352     0.448447       0.423448           75\n",
       "2       PAGE        0.645766     0.586535       0.528191           78\n",
       "3      SMALL        0.649957     0.518165       0.494537           72"
      ]
     },
     "execution_count": 167,
     "metadata": {},
     "output_type": "execute_result"
    }
   ],
   "source": [
    "summary_rouge1"
   ]
  },
  {
   "cell_type": "code",
   "execution_count": 180,
   "id": "07fe62fa",
   "metadata": {},
   "outputs": [
    {
     "data": {
      "image/png": "[encoded data removed]",
      "text/plain": [
       "<Figure size 600x500 with 1 Axes>"
      ]
     },
     "metadata": {},
     "output_type": "display_data"
    }
   ],
   "source": [
    "x = np.arange(len(summary_rouge1['chunk_type']))  # Label locations\n",
    "width = 0.25  # Width of the bars\n",
    "\n",
    "# Plot each metric as separate bars\n",
    "plt.figure(figsize=(6, 5))\n",
    "precision_bars = plt.bar(x - width, summary_rouge1['mean_precision'], width, label='Precision', alpha=0.7, color=\"gray\")\n",
    "recall_bars = plt.bar(x, summary_rouge1['mean_recall'], width, label='Recall', alpha=0.7, color=\"red\")\n",
    "fmeasure_bars = plt.bar(x + width, summary_rouge1['mean_fmeasure'], width, label='F-Measure', alpha=0.7, color='blue')\n",
    "\n",
    "# Add annotations for Precision bars\n",
    "for bar, value in zip(precision_bars, summary_rouge1['mean_precision']):\n",
    "    plt.text(bar.get_x() + bar.get_width() / 2, bar.get_height() / 2,  # Middle of the bar\n",
    "             f'{value:.2f}', ha='center', va='center', fontsize=10, color='black')\n",
    "\n",
    "# Add annotations for Recall bars\n",
    "for bar, value in zip(recall_bars, summary_rouge1['mean_recall']):\n",
    "    plt.text(bar.get_x() + bar.get_width() / 2, bar.get_height() / 2,  # Middle of the bar\n",
    "             f'{value:.2f}', ha='center', va='center', fontsize=10, color='black')\n",
    "\n",
    "# Add annotations for F-Measure bars\n",
    "for bar, value in zip(fmeasure_bars, summary_rouge1['mean_fmeasure']):\n",
    "    plt.text(bar.get_x() + bar.get_width() / 2, bar.get_height() / 2,  # Middle of the bar\n",
    "             f'{value:.2f}', ha='center', va='center', fontsize=10, color='black')\n",
    "\n",
    "# Customize the plot\n",
    "plt.title('Precision, Recall, and F-Measure by Chunk Type')\n",
    "plt.xlabel('Chunk Type')\n",
    "plt.ylabel('Metrics')\n",
    "plt.xticks(x, summary_rouge1['chunk_type'], rotation=45)\n",
    "plt.legend()\n",
    "plt.tight_layout()\n",
    "\n",
    "# Show the plot\n",
    "plt.show()\n"
   ]
  },
  {
   "cell_type": "markdown",
   "id": "4269da6b",
   "metadata": {},
   "source": [
    "+ Precision is highest for SMALL and PAGE chunks, indicating the model performs better when given smaller or well-defined contexts.\n",
    "+ Recall is highest for PAGE chunks, suggesting broader contexts help the model capture more relevant details.\n",
    "+ Precision is highest for SMALL and PAGE chunks, indicating the model performs better when given smaller or well-defined contexts.\n",
    "+ Recall is highest for PAGE chunks, suggesting broader contexts help the model capture more relevant details.\n",
    "+ LARGE and MEDIUM chunks have the lowest f-measure scores, highlighting that the model struggles more with these chunk sizes, likely due to more dispersed or complex information."
   ]
  },
  {
   "cell_type": "markdown",
   "id": "5674f205",
   "metadata": {},
   "source": [
    "# BLEU Score Calculation"
   ]
  },
  {
   "cell_type": "code",
   "execution_count": 183,
   "id": "03bdc0db",
   "metadata": {},
   "outputs": [],
   "source": [
    "def remove_special_chars(text):\n",
    "    return re.sub(r'[^A-Za-z0-9\\s]', '', text)"
   ]
  },
  {
   "cell_type": "code",
   "execution_count": 181,
   "id": "d5a8646d",
   "metadata": {},
   "outputs": [],
   "source": [
    "def bleu_score(reference: str, candidate: str) -> float:\n",
    " \n",
    "    # Tokenize the reference and candidate\n",
    "    reference_tokens = [reference.split()]  # Reference must be a list of token lists\n",
    "    candidate_tokens = candidate.split()  # Candidate is tokenized\n",
    "\n",
    "    # Apply smoothing to handle edge cases\n",
    "    smoothing_function = SmoothingFunction().method1\n",
    "\n",
    "    # Calculate BLEU score\n",
    "    bleu = sentence_bleu(reference_tokens, candidate_tokens, smoothing_function=smoothing_function)\n",
    "\n",
    "    return bleu"
   ]
  },
  {
   "cell_type": "markdown",
   "id": "ed0c46fa",
   "metadata": {},
   "source": [
    "The <code>sentence_bleu()</code> function doesn’t automatically normalize text, which can lead to lower scores. Normalizing the text beforehand often improves the **BLEU score**."
   ]
  },
  {
   "cell_type": "markdown",
   "id": "09e527f6",
   "metadata": {},
   "source": [
    "## bleu score with normalization"
   ]
  },
  {
   "cell_type": "code",
   "execution_count": 44,
   "id": "4d2912bd",
   "metadata": {
    "scrolled": false
   },
   "outputs": [
    {
     "data": {
      "text/plain": [
       "0.01437430645724448"
      ]
     },
     "execution_count": 44,
     "metadata": {},
     "output_type": "execute_result"
    }
   ],
   "source": [
    "bleu_score(remove_special_chars(\"The music video for '03 Bonnie & Clyde' where Beyoncé appeared as Jay Z's girlfriend.\"),\n",
    "                                remove_special_chars(\"03 Bonnie & Clyde\"))"
   ]
  },
  {
   "cell_type": "markdown",
   "id": "0e0b4b44",
   "metadata": {},
   "source": [
    "## bleu score without normalization"
   ]
  },
  {
   "cell_type": "code",
   "execution_count": 45,
   "id": "86d31359",
   "metadata": {},
   "outputs": [
    {
     "data": {
      "text/plain": [
       "0.010861626466864211"
      ]
     },
     "execution_count": 45,
     "metadata": {},
     "output_type": "execute_result"
    }
   ],
   "source": [
    "bleu_score(\"The music video for '03 Bonnie & Clyde' where Beyoncé appeared as Jay Z's girlfriend.\",\n",
    "                                \"03 Bonnie & Clyde\")"
   ]
  },
  {
   "cell_type": "markdown",
   "id": "21658714",
   "metadata": {},
   "source": [
    "# BLEU Score Calculation for Given Reference and Candidate\n",
    "\n",
    "## Inputs\n",
    "1. **Reference Text**:  \n",
    "   `\"The music video for '03 Bonnie & Clyde' where Beyoncé appeared as Jay Z's girlfriend.\"`  \n",
    "   - Tokenized: `['The', 'music', 'video', 'for', \"'03\", 'Bonnie', '&', \"Clyde'\", 'where', 'Beyoncé', 'appeared', 'as', 'Jay', \"Z's\", 'girlfriend.']`\n",
    "   - Length: 15 tokens.\n",
    "\n",
    "2. **Candidate Text**:  \n",
    "   `\"03 Bonnie & Clyde\"`  \n",
    "   - Tokenized: `['03', 'Bonnie', '&', 'Clyde']`\n",
    "   - Length: 4 tokens.\n",
    "\n",
    "---\n",
    "\n",
    "## BLEU Formula\n",
    "The BLEU score is calculated as:\n",
    "$$\n",
    "BLEU = BP \\cdot \\exp \\left( \\sum_{n=1}^N w_n \\cdot \\log p_n \\right)\n",
    "$$\n",
    "Where:\n",
    "- \\( BP \\): Brevity penalty\n",
    "- \\( p_n \\): Precision of n-grams\n",
    "- \\( w_n \\): Weight for each n-gram precision (typically uniform, \\( w_n = \\frac{1}{N} \\))\n",
    "- \\( N \\): Maximum n-gram length (default is 4)\n",
    "\n",
    "---\n",
    "\n",
    "## Step 1: Calculate n-gram Precision (\\( p_n \\))\n",
    "\n",
    "### **1-grams (unigrams)**:\n",
    "- Candidate: `['03', 'Bonnie', '&', 'Clyde']`\n",
    "- Reference: `['The', 'music', 'video', 'for', \"'03\", 'Bonnie', '&', \"Clyde'\", ..., 'girlfriend.']`\n",
    "- Overlapping 1-grams: `['03', 'Bonnie', '&']`  \n",
    "  **Count**: 3  \n",
    "  **Precision**:  \n",
    "  $$\n",
    "  p_1 = \\frac{\\text{Count of matching 1-grams}}{\\text{Total 1-grams in candidate}} = \\frac{3}{4} = 0.75\n",
    "  $$\n",
    "\n",
    "### **2-grams**:\n",
    "- Candidate: `['03 Bonnie', 'Bonnie &', '& Clyde']`\n",
    "- Reference: Sliding 2-grams from reference: `['The music', 'music video', ..., 'Bonnie &', '& Clyde\\'']`\n",
    "- Overlapping 2-grams: `['Bonnie &']`  \n",
    "  **Count**: 1  \n",
    "  **Precision**:  \n",
    "  $$\n",
    "  p_2 = \\frac{\\text{Count of matching 2-grams}}{\\text{Total 2-grams in candidate}} = \\frac{1}{3} = 0.333\n",
    "  $$\n",
    "\n",
    "### **3-grams**:\n",
    "- Candidate: `['03 Bonnie &', 'Bonnie & Clyde']`\n",
    "- Reference: Sliding 3-grams from reference: `['The music video', 'music video for', ..., 'Bonnie & Clyde\\'']`\n",
    "- Overlapping 3-grams: `None`  \n",
    "  **Count**: 0  \n",
    "  **Precision**:  \n",
    "  $$\n",
    "  p_3 = \\frac{0}{2} = 0.0\n",
    "  $$\n",
    "\n",
    "### **4-grams**:\n",
    "- Candidate: `['03 Bonnie & Clyde']`\n",
    "- Reference: Sliding 4-grams from reference: `['The music video for', 'music video for \\'03', ..., 'Bonnie & Clyde\\'']`\n",
    "- Overlapping 4-grams: `None`  \n",
    "  **Count**: 0  \n",
    "  **Precision**:  \n",
    "  $$\n",
    "  p_4 = \\frac{0}{1} = 0.0\n",
    "  $$\n",
    "\n",
    "---\n",
    "\n",
    "## Step 2: Brevity Penalty (\\( BP \\))\n",
    "Brevity penalty accounts for the length mismatch between candidate and reference text:\n",
    "$$\n",
    "BP = \n",
    "\\begin{cases} \n",
    "1 & \\text{if } c > r \\\\ \n",
    "e^{(1 - r/c)} & \\text{if } c \\leq r \n",
    "\\end{cases}\n",
    "$$\n",
    "Where:\n",
    "- \\( c \\): Length of candidate (number of tokens) = 4\n",
    "- \\( r \\): Length of reference (number of tokens) = 15\n",
    "\n",
    "Here:\n",
    "$$\n",
    "BP = e^{(1 - \\frac{15}{4})} = e^{-2.75} \\approx 0.063\n",
    "$$\n",
    "\n",
    "---\n",
    "\n",
    "## Step 3: Weighted Logarithmic Precision\n",
    "Using \\( w_n = 0.25 \\) for each \\( n \\) (uniform weights):\n",
    "$$\n",
    "\\sum_{n=1}^4 w_n \\cdot \\log p_n = \\frac{1}{4} \\cdot (\\log 0.75 + \\log 0.333 + \\log 0.0 + \\log 0.0)\n",
    "$$\n",
    "Since \\( \\log 0 \\) is undefined, BLEU introduces smoothing. For example, very low scores are replaced with small nonzero values.\n",
    "\n",
    "---\n",
    "\n",
    "## Step 4: Final BLEU Calculation\n",
    "Finally:\n",
    "$$\n",
    "BLEU = BP \\cdot \\exp \\left( \\sum_{n=1}^N w_n \\cdot \\log p_n \\right)\n",
    "$$\n",
    "With \\( BP \\approx 0.063 \\), the brevity penalty dominates, and the final BLEU score is approximately:\n",
    "$$\n",
    "BLEU \\approx 0.011\n",
    "$$\n",
    "\n",
    "---\n",
    "\n",
    "## Conclusion:\n",
    "- The BLEU score is very low (\\( \\approx 0.011 \\)).\n",
    "- This is due to:\n",
    "  1. **Short candidate text**: Brevity penalty significantly reduces the score.\n",
    "  2. **Low n-gram overlap**: Few matches beyond 1-grams.\n",
    "- BLEU is designed for longer, structured outputs, making short candidates like this one score poorly.\n"
   ]
  },
  {
   "cell_type": "markdown",
   "id": "45f3b879",
   "metadata": {},
   "source": [
    "# Analyze <code>BLEU</code> Score for all the llm reponses."
   ]
  },
  {
   "cell_type": "code",
   "execution_count": 184,
   "id": "43b9a06f",
   "metadata": {},
   "outputs": [],
   "source": [
    "bleu_scores=[]\n",
    "for ref,candidate in zip(relevent_llm_responses['ref_answer'],relevent_llm_responses['llm_response']):\n",
    "        result = bleu_score(remove_special_chars(ref),remove_special_chars(candidate))\n",
    "        bleu_scores.append(result)"
   ]
  },
  {
   "cell_type": "code",
   "execution_count": 186,
   "id": "c5446be6",
   "metadata": {},
   "outputs": [],
   "source": [
    "t_d = pd.DataFrame({'chunk_type':relevent_llm_responses['chunk_type'],'bleu_scores':bleu_scores})"
   ]
  },
  {
   "cell_type": "code",
   "execution_count": 187,
   "id": "f8d63282",
   "metadata": {},
   "outputs": [
    {
     "data": {
      "text/plain": [
       "chunk_type\n",
       "LARGE     0.174304\n",
       "MEDIUM    0.190198\n",
       "PAGE      0.222143\n",
       "SMALL     0.207249\n",
       "Name: bleu_scores, dtype: float64"
      ]
     },
     "execution_count": 187,
     "metadata": {},
     "output_type": "execute_result"
    }
   ],
   "source": [
    "t_d.groupby('chunk_type')['bleu_scores'].mean()"
   ]
  },
  {
   "cell_type": "code",
   "execution_count": 194,
   "id": "d6a91880",
   "metadata": {
    "scrolled": false
   },
   "outputs": [
    {
     "data": {
      "image/png": "[encoded data removed]",
      "text/plain": [
       "<Figure size 600x400 with 1 Axes>"
      ]
     },
     "metadata": {},
     "output_type": "display_data"
    }
   ],
   "source": [
    "mean_bleu_scores = t_d.groupby('chunk_type')['bleu_scores'].mean().reset_index()\n",
    "\n",
    "# Plot the mean BLEU scores\n",
    "plt.figure(figsize=(6, 4))\n",
    "bars = plt.bar(mean_bleu_scores['chunk_type'], mean_bleu_scores['bleu_scores'], alpha=0.7, color=custom_palette[:len(mean_bleu_scores['chunk_type'])])\n",
    "\n",
    "# Add annotations for each bar\n",
    "for bar in bars:\n",
    "    height = bar.get_height()\n",
    "    plt.text(bar.get_x() + bar.get_width() / 2, height,  # Exactly at the top of the bar\n",
    "             f'{height:.2f}', ha='center', va='bottom', fontsize=10, color='black') \n",
    "    \n",
    "# Customize the plot\n",
    "plt.title('Mean BLEU Scores by Chunk Type')\n",
    "plt.xlabel('Chunk Type')\n",
    "plt.ylabel('Mean BLEU Score')\n",
    "plt.xticks(rotation=45)\n",
    "plt.tight_layout()\n",
    "plt.grid(axis='y', linestyle='--', alpha=0.7)\n",
    "\n",
    "# Show the plot\n",
    "plt.show()\n"
   ]
  },
  {
   "cell_type": "markdown",
   "id": "36382bc4",
   "metadata": {},
   "source": [
    "+ **LARGE:** Lowest BLEU score (0.174), suggesting difficulty in aligning larger chunks with references.\n",
    "+ **MEDIUM:** Slightly better (0.190), showing improved alignment with medium chunks.\n",
    "+ **SMALL:** Higher BLEU score (0.207), indicating better alignment for smaller chunks.\n",
    "+ **PAGE:** Best BLEU score (0.222), suggesting the model performs best when handling page-level chunks with broader context.<br>\n"
   ]
  },
  {
   "cell_type": "markdown",
   "id": "53bb9f37",
   "metadata": {},
   "source": [
    "Overall, performance improves as the chunk size becomes more contextually balanced (PAGE and SMALL perform better)."
   ]
  },
  {
   "cell_type": "markdown",
   "id": "ddcf6a31",
   "metadata": {},
   "source": [
    "# BertScore Analyze"
   ]
  },
  {
   "cell_type": "markdown",
   "id": "91e9e6f2",
   "metadata": {},
   "source": [
    "# Why BERTScore is Better than ROUGE-1 and BLEU\n",
    "\n",
    "### Example Reference:  \n",
    "> \"The quick brown fox jumps over the lazy dog.\"\n",
    "\n",
    "### Candidates:  \n",
    "1. **Candidate 1 (Synonyms)**:  \n",
    "   > \"The fast brown fox leaps over the lazy hound.\"\n",
    "2. **Candidate 2 (Paraphrased)**:  \n",
    "   > \"A lazy dog is jumped over by a speedy brown fox.\"\n",
    "\n",
    "---\n",
    "\n",
    "## Comparison:\n",
    "\n",
    "### 1. **ROUGE-1**:\n",
    "- Counts unigram overlap but fails to capture synonyms (`\"quick\"` vs. `\"fast\"`) and penalizes paraphrasing or reordering.\n",
    "\n",
    "### 2. **BLEU**:\n",
    "- Measures n-gram overlap but penalizes missing exact matches and reordering heavily.\n",
    "- Fails to capture semantic similarity (e.g., `\"jumps\"` vs. `\"leaps\"`).\n",
    "\n",
    "### 3. **BERTScore**:\n",
    "- Uses semantic embeddings to capture synonyms and paraphrases effectively.\n",
    "- Handles reordering (`\"A lazy dog is jumped over by...\"`) without significant penalty.\n",
    "\n",
    "---\n",
    "\n",
    "## Summary Table:\n",
    "\n",
    "| Metric     | Candidate 1 (Synonyms) | Candidate 2 (Paraphrased) |\n",
    "|------------|-------------------------|---------------------------|\n",
    "| **ROUGE-1** | Moderate                | Higher                   |\n",
    "| **BLEU**    | Low                     | Moderate                 |\n",
    "| **BERTScore** | High                  | High                     |\n",
    "\n",
    "---\n",
    "\n",
    "## Conclusion:\n",
    "BERTScore outperforms ROUGE-1 and BLEU when dealing with:\n",
    "- **Synonyms** (`\"quick\"` = `\"fast\"`, `\"jumps\"` = `\"leaps\"`),\n",
    "- **Paraphrasing**, and\n",
    "- **Word Reordering**.\n",
    "\n",
    "This makes BERTScore more robust and closer to human judgment for text similarity evaluation.\n"
   ]
  },
  {
   "cell_type": "code",
   "execution_count": 195,
   "id": "a0d557ec",
   "metadata": {},
   "outputs": [],
   "source": [
    "def bert_score(ref: str, candidate: str)->Tuple(float,float,float):\n",
    "  \n",
    "    # BERTScore requires inputs as lists of strings\n",
    "    references = [ref]\n",
    "    candidates = [candidate]\n",
    "\n",
    "    # Calculate BERTScore\n",
    "    result = score(candidates, references, lang=\"en\", verbose=False)\n",
    "    precision, recall, f1_score = result[0].item(),result[1].item(),result[2].item()\n",
    "\n",
    "    # Return the precision, recall, and f1_score as a float\n",
    "    return precision, recall, f1_score"
   ]
  },
  {
   "cell_type": "markdown",
   "id": "b68f02cd",
   "metadata": {},
   "source": [
    "# BERTScore Calculation: Explanation with Normalized Inputs\n",
    "\n",
    "## Inputs After Normalization\n",
    "**Reference**:  \n",
    "`\"The music video for 03 Bonnie Clyde where Beyoncé appeared as Jay Zs girlfriend\"`  \n",
    "Tokenized (example):  \n",
    "`['The', 'music', 'video', 'for', '03', 'Bonnie', 'Clyde', 'where', 'Beyoncé', 'appeared', 'as', 'Jay', 'Zs', 'girlfriend']`\n",
    "\n",
    "**Candidate**:  \n",
    "`\"03 Bonnie Clyde\"`  \n",
    "Tokenized (example):  \n",
    "`['03', 'Bonnie', 'Clyde']`\n",
    "\n",
    "---\n",
    "\n",
    "## Steps for Calculation\n",
    "\n",
    "### Step 1: Tokenization\n",
    "Tokens are created for both the reference and candidate using the tokenizer for `roberta-large`.\n",
    "\n",
    "---\n",
    "\n",
    "### Step 2: Embedding Generation\n",
    "Contextual embeddings are generated for each token using `roberta-large`.  \n",
    "For example:\n",
    "- `\"03\"` in the **candidate** and `\"03\"` in the **reference** are mapped to dense vectors that encode their contextual meanings.\n",
    "\n",
    "---\n",
    "\n",
    "### Step 3: Cosine Similarity\n",
    "Pairwise cosine similarities are computed between all tokens in the **candidate** and **reference**. For each token in the candidate:\n",
    "1. Find its **maximum similarity** across all reference tokens.\n",
    "\n",
    "Example (hypothetical):\n",
    "- `\"03\"` → Max similarity with `\"03\"` in reference: 0.95\n",
    "- `\"Bonnie\"` → Max similarity with `\"Bonnie\"` in reference: 0.92\n",
    "- `\"Clyde\"` → Max similarity with `\"Clyde\"` in reference: 0.90\n",
    "\n",
    "---\n",
    "\n",
    "### Step 4: Calculate Precision and Recall\n",
    "\n",
    "#### **Precision**\n",
    "Average the maximum similarity scores for each token in the **candidate**:\n",
    "$$\n",
    "\\text{Precision} = \\frac{1}{|\\text{Candidate Tokens}|} \\sum_{\\text{token}_c \\in \\text{Candidate}} \\max_{\\text{token}_r \\in \\text{Reference}} \\text{Similarity}(\\text{token}_c, \\text{token}_r)\n",
    "$$\n",
    "\n",
    "Example:\n",
    "$$\n",
    "\\text{Precision} = \\frac{0.95 + 0.92 + 0.90}{3} = 0.92\n",
    "$$\n",
    "\n",
    "**Result**:\n",
    "$$\n",
    "\\text{Precision} \\approx 0.9181\n",
    "$$\n",
    "\n",
    "#### **Recall**\n",
    "Average the maximum similarity scores for each token in the **reference**:\n",
    "$$\n",
    "\\text{Recall} = \\frac{1}{|\\text{Reference Tokens}|} \\sum_{\\text{token}_r \\in \\text{Reference}} \\max_{\\text{token}_c \\in \\text{Candidate}} \\text{Similarity}(\\text{token}_r, \\text{token}_c)\n",
    "$$\n",
    "\n",
    "Example:\n",
    "$$\n",
    "\\text{Recall} = \\frac{\\text{(Sum of max similarities)}}{\\text{Number of Reference Tokens}}\n",
    "$$\n",
    "\n",
    "**Result**:\n",
    "$$\n",
    "\\text{Recall} \\approx 0.8106\n",
    "$$\n",
    "\n",
    "---\n",
    "\n",
    "### Step 5: Compute F1 Score\n",
    "The F1 Score is calculated as:\n",
    "$$\n",
    "\\text{F1 Score} = 2 \\cdot \\frac{\\text{Precision} \\cdot \\text{Recall}}{\\text{Precision} + \\text{Recall}}\n",
    "$$\n",
    "\n",
    "Using:\n",
    "- Precision = 0.9181\n",
    "- Recall = 0.8106\n",
    "\n",
    "$$\n",
    "\\text{F1} = 2 \\cdot \\frac{0.9181 \\cdot 0.8106}{0.9181 + 0.8106} \\approx 0.8610\n",
    "$$\n",
    "\n",
    "---\n",
    "\n",
    "## Final Results\n",
    "- **Precision**: 0.9181  \n",
    "- **Recall**: 0.8106  \n",
    "- **F1 Score**: 0.8610\n"
   ]
  },
  {
   "cell_type": "code",
   "execution_count": 82,
   "id": "06c40c7d",
   "metadata": {
    "scrolled": false
   },
   "outputs": [
    {
     "data": {
      "image/png": "[encoded data removed]",
      "text/plain": [
       "<Figure size 1400x700 with 4 Axes>"
      ]
     },
     "metadata": {},
     "output_type": "display_data"
    }
   ],
   "source": [
    "chunk_types = [\"LARGE\", \"MEDIUM\", \"PAGE\", \"SMALL\"]\n",
    "\n",
    "# ROUGE-1 scores\n",
    "rouge_precision = [0.533499, 0.551352, 0.645766, 0.649957]\n",
    "rouge_recall = [0.494349, 0.448447, 0.586535, 0.518165]\n",
    "rouge_fmeasure = [0.431011, 0.423448, 0.528191, 0.494537]\n",
    "\n",
    "# BLEU scores\n",
    "bleu_scores = [0.174304, 0.190198, 0.222143, 0.207249]\n",
    "\n",
    "# BERT scores\n",
    "bert_precision = [0.884297, 0.882737, 0.896008, 0.894369]\n",
    "bert_recall = [0.896317, 0.892760, 0.909695, 0.902984]\n",
    "bert_fmeasure = [0.889839, 0.887348, 0.902371, 0.898220]\n",
    "\n",
    "# Add gridlines and display the updated plots\n",
    "fig, axes = plt.subplots(2, 2, figsize=(14, 7))\n",
    "\n",
    "# ROUGE-1 Scores (Top left)\n",
    "rouge_bars = [\n",
    "    axes[0, 0].bar(x - wide_bar_width, rouge_precision, width=wide_bar_width, label='Precision', color=\"orange\"),\n",
    "    axes[0, 0].bar(x, rouge_recall, width=wide_bar_width, label='Recall', color=\"skyblue\"),\n",
    "    axes[0, 0].bar(x + wide_bar_width, rouge_fmeasure, width=wide_bar_width, label='F-measure', color=\"gray\")\n",
    "]\n",
    "\n",
    "# Add values in the middle of each bar for ROUGE-1\n",
    "for bars in rouge_bars:\n",
    "    for bar in bars:\n",
    "        height = bar.get_height()\n",
    "        axes[0, 0].text(bar.get_x() + bar.get_width() / 2, height / 2, f'{height*100:.2f}', ha='center', va='center', fontsize=10)\n",
    "\n",
    "axes[0, 0].set_xticks(x)\n",
    "axes[0, 0].set_xticklabels(chunk_types)\n",
    "axes[0, 0].set_title(\"ROUGE-1 Scores (in %): Precision, Recall, and F-measure\")\n",
    "axes[0, 0].set_ylabel(\"Score\")\n",
    "axes[0, 0].set_xlabel(\"Chunk Type\")\n",
    "axes[0, 0].legend()\n",
    "axes[0, 0].grid(axis='y', linestyle='--', alpha=0.7)\n",
    "\n",
    "# BLEU Scores (Top right)\n",
    "bleu_bars = axes[0, 1].bar(chunk_types, bleu_scores, width=narrow_bar_width, color='orange', label='BLEU Score')\n",
    "\n",
    "# Add values in the middle of each bar for BLEU\n",
    "for bar in bleu_bars:\n",
    "    height = bar.get_height()\n",
    "    axes[0, 1].text(bar.get_x() + bar.get_width() / 2, height / 2, f'{height*100:.2f}', ha='center', va='center', fontsize=10)\n",
    "\n",
    "axes[0, 1].set_title(\"BLEU Scores (in %)\")\n",
    "axes[0, 1].set_ylabel(\"Score\")\n",
    "axes[0, 1].set_xlabel(\"Chunk Type\")\n",
    "axes[0, 1].legend()\n",
    "axes[0, 1].grid(axis='y', linestyle='--', alpha=0.7)\n",
    "\n",
    "# BERT Scores (Bottom left)\n",
    "bert_bars = [\n",
    "    axes[1, 0].bar(x - wide_bar_width, bert_precision, width=wide_bar_width, label='Precision', color=\"orange\"),\n",
    "    axes[1, 0].bar(x, bert_recall, width=wide_bar_width, label='Recall', color=\"skyblue\"),\n",
    "    axes[1, 0].bar(x + wide_bar_width, bert_fmeasure, width=wide_bar_width, label='F-measure', color=\"gray\")\n",
    "]\n",
    "\n",
    "# Add values in the middle of each bar for BERT\n",
    "for bars in bert_bars:\n",
    "    for bar in bars:\n",
    "        height = bar.get_height()\n",
    "        axes[1, 0].text(bar.get_x() + bar.get_width() / 2, height / 2, f'{height*100:.2f}', ha='center', va='center', fontsize=10)\n",
    "\n",
    "axes[1, 0].set_xticks(x)\n",
    "axes[1, 0].set_xticklabels(chunk_types)\n",
    "axes[1, 0].set_title(\"BERT Scores (in %): Precision, Recall, and F-measure\")\n",
    "axes[1, 0].set_ylabel(\"Score\")\n",
    "axes[1, 0].set_xlabel(\"Chunk Type\")\n",
    "axes[1, 0].legend()\n",
    "axes[1, 0].grid(axis='y', linestyle='--', alpha=0.7)\n",
    "\n",
    "# Empty bottom right subplot for symmetry or potential additional content\n",
    "axes[1, 1].axis('off')\n",
    "\n",
    "# Adjust layout\n",
    "plt.tight_layout()\n",
    "plt.show()\n"
   ]
  },
  {
   "cell_type": "code",
   "execution_count": null,
   "id": "ada8bed4",
   "metadata": {},
   "outputs": [],
   "source": []
  },
  {
   "cell_type": "code",
   "execution_count": 87,
   "id": "255eadce",
   "metadata": {},
   "outputs": [
    {
     "name": "stderr",
     "output_type": "stream",
     "text": [
      "Some weights of RobertaModel were not initialized from the model checkpoint at roberta-large and are newly initialized: ['roberta.pooler.dense.bias', 'roberta.pooler.dense.weight']\n",
      "You should probably TRAIN this model on a down-stream task to be able to use it for predictions and inference.\n"
     ]
    },
    {
     "data": {
      "text/plain": [
       "(tensor([0.9221]), tensor([0.8268]), tensor([0.8719]))"
      ]
     },
     "execution_count": 87,
     "metadata": {},
     "output_type": "execute_result"
    }
   ],
   "source": [
    "bert_score(\"The music video for '03 Bonnie & Clyde' where Beyoncé appeared as Jay Z's girlfriend.\",\n",
    "                                \"03 Bonnie & Clyde\")"
   ]
  },
  {
   "cell_type": "code",
   "execution_count": 200,
   "id": "a6df40d4",
   "metadata": {
    "collapsed": true
   },
   "outputs": [
    {
     "name": "stderr",
     "output_type": "stream",
     "text": [
      "Some weights of RobertaModel were not initialized from the model checkpoint at roberta-large and are newly initialized: ['roberta.pooler.dense.bias', 'roberta.pooler.dense.weight']\n",
      "You should probably TRAIN this model on a down-stream task to be able to use it for predictions and inference.\n",
      "Some weights of RobertaModel were not initialized from the model checkpoint at roberta-large and are newly initialized: ['roberta.pooler.dense.bias', 'roberta.pooler.dense.weight']\n",
      "You should probably TRAIN this model on a down-stream task to be able to use it for predictions and inference.\n",
      "Some weights of RobertaModel were not initialized from the model checkpoint at roberta-large and are newly initialized: ['roberta.pooler.dense.bias', 'roberta.pooler.dense.weight']\n",
      "You should probably TRAIN this model on a down-stream task to be able to use it for predictions and inference.\n",
      "Some weights of RobertaModel were not initialized from the model checkpoint at roberta-large and are newly initialized: ['roberta.pooler.dense.bias', 'roberta.pooler.dense.weight']\n",
      "You should probably TRAIN this model on a down-stream task to be able to use it for predictions and inference.\n",
      "Some weights of RobertaModel were not initialized from the model checkpoint at roberta-large and are newly initialized: ['roberta.pooler.dense.bias', 'roberta.pooler.dense.weight']\n",
      "You should probably TRAIN this model on a down-stream task to be able to use it for predictions and inference.\n",
      "Some weights of RobertaModel were not initialized from the model checkpoint at roberta-large and are newly initialized: ['roberta.pooler.dense.bias', 'roberta.pooler.dense.weight']\n",
      "You should probably TRAIN this model on a down-stream task to be able to use it for predictions and inference.\n",
      "Some weights of RobertaModel were not initialized from the model checkpoint at roberta-large and are newly initialized: ['roberta.pooler.dense.bias', 'roberta.pooler.dense.weight']\n",
      "You should probably TRAIN this model on a down-stream task to be able to use it for predictions and inference.\n",
      "Some weights of RobertaModel were not initialized from the model checkpoint at roberta-large and are newly initialized: ['roberta.pooler.dense.bias', 'roberta.pooler.dense.weight']\n",
      "You should probably TRAIN this model on a down-stream task to be able to use it for predictions and inference.\n",
      "Some weights of RobertaModel were not initialized from the model checkpoint at roberta-large and are newly initialized: ['roberta.pooler.dense.bias', 'roberta.pooler.dense.weight']\n",
      "You should probably TRAIN this model on a down-stream task to be able to use it for predictions and inference.\n",
      "Some weights of RobertaModel were not initialized from the model checkpoint at roberta-large and are newly initialized: ['roberta.pooler.dense.bias', 'roberta.pooler.dense.weight']\n",
      "You should probably TRAIN this model on a down-stream task to be able to use it for predictions and inference.\n",
      "Some weights of RobertaModel were not initialized from the model checkpoint at roberta-large and are newly initialized: ['roberta.pooler.dense.bias', 'roberta.pooler.dense.weight']\n",
      "You should probably TRAIN this model on a down-stream task to be able to use it for predictions and inference.\n",
      "Some weights of RobertaModel were not initialized from the model checkpoint at roberta-large and are newly initialized: ['roberta.pooler.dense.bias', 'roberta.pooler.dense.weight']\n",
      "You should probably TRAIN this model on a down-stream task to be able to use it for predictions and inference.\n",
      "Some weights of RobertaModel were not initialized from the model checkpoint at roberta-large and are newly initialized: ['roberta.pooler.dense.bias', 'roberta.pooler.dense.weight']\n",
      "You should probably TRAIN this model on a down-stream task to be able to use it for predictions and inference.\n",
      "Some weights of RobertaModel were not initialized from the model checkpoint at roberta-large and are newly initialized: ['roberta.pooler.dense.bias', 'roberta.pooler.dense.weight']\n",
      "You should probably TRAIN this model on a down-stream task to be able to use it for predictions and inference.\n",
      "Some weights of RobertaModel were not initialized from the model checkpoint at roberta-large and are newly initialized: ['roberta.pooler.dense.bias', 'roberta.pooler.dense.weight']\n",
      "You should probably TRAIN this model on a down-stream task to be able to use it for predictions and inference.\n",
      "Some weights of RobertaModel were not initialized from the model checkpoint at roberta-large and are newly initialized: ['roberta.pooler.dense.bias', 'roberta.pooler.dense.weight']\n",
      "You should probably TRAIN this model on a down-stream task to be able to use it for predictions and inference.\n",
      "Some weights of RobertaModel were not initialized from the model checkpoint at roberta-large and are newly initialized: ['roberta.pooler.dense.bias', 'roberta.pooler.dense.weight']\n",
      "You should probably TRAIN this model on a down-stream task to be able to use it for predictions and inference.\n",
      "Some weights of RobertaModel were not initialized from the model checkpoint at roberta-large and are newly initialized: ['roberta.pooler.dense.bias', 'roberta.pooler.dense.weight']\n",
      "You should probably TRAIN this model on a down-stream task to be able to use it for predictions and inference.\n",
      "Some weights of RobertaModel were not initialized from the model checkpoint at roberta-large and are newly initialized: ['roberta.pooler.dense.bias', 'roberta.pooler.dense.weight']\n",
      "You should probably TRAIN this model on a down-stream task to be able to use it for predictions and inference.\n",
      "Some weights of RobertaModel were not initialized from the model checkpoint at roberta-large and are newly initialized: ['roberta.pooler.dense.bias', 'roberta.pooler.dense.weight']\n",
      "You should probably TRAIN this model on a down-stream task to be able to use it for predictions and inference.\n",
      "Some weights of RobertaModel were not initialized from the model checkpoint at roberta-large and are newly initialized: ['roberta.pooler.dense.bias', 'roberta.pooler.dense.weight']\n",
      "You should probably TRAIN this model on a down-stream task to be able to use it for predictions and inference.\n",
      "Some weights of RobertaModel were not initialized from the model checkpoint at roberta-large and are newly initialized: ['roberta.pooler.dense.bias', 'roberta.pooler.dense.weight']\n",
      "You should probably TRAIN this model on a down-stream task to be able to use it for predictions and inference.\n",
      "Some weights of RobertaModel were not initialized from the model checkpoint at roberta-large and are newly initialized: ['roberta.pooler.dense.bias', 'roberta.pooler.dense.weight']\n",
      "You should probably TRAIN this model on a down-stream task to be able to use it for predictions and inference.\n",
      "Some weights of RobertaModel were not initialized from the model checkpoint at roberta-large and are newly initialized: ['roberta.pooler.dense.bias', 'roberta.pooler.dense.weight']\n",
      "You should probably TRAIN this model on a down-stream task to be able to use it for predictions and inference.\n",
      "Some weights of RobertaModel were not initialized from the model checkpoint at roberta-large and are newly initialized: ['roberta.pooler.dense.bias', 'roberta.pooler.dense.weight']\n",
      "You should probably TRAIN this model on a down-stream task to be able to use it for predictions and inference.\n",
      "Some weights of RobertaModel were not initialized from the model checkpoint at roberta-large and are newly initialized: ['roberta.pooler.dense.bias', 'roberta.pooler.dense.weight']\n",
      "You should probably TRAIN this model on a down-stream task to be able to use it for predictions and inference.\n",
      "Some weights of RobertaModel were not initialized from the model checkpoint at roberta-large and are newly initialized: ['roberta.pooler.dense.bias', 'roberta.pooler.dense.weight']\n",
      "You should probably TRAIN this model on a down-stream task to be able to use it for predictions and inference.\n",
      "Some weights of RobertaModel were not initialized from the model checkpoint at roberta-large and are newly initialized: ['roberta.pooler.dense.bias', 'roberta.pooler.dense.weight']\n",
      "You should probably TRAIN this model on a down-stream task to be able to use it for predictions and inference.\n",
      "Some weights of RobertaModel were not initialized from the model checkpoint at roberta-large and are newly initialized: ['roberta.pooler.dense.bias', 'roberta.pooler.dense.weight']\n",
      "You should probably TRAIN this model on a down-stream task to be able to use it for predictions and inference.\n"
     ]
    },
    {
     "name": "stderr",
     "output_type": "stream",
     "text": [
      "Some weights of RobertaModel were not initialized from the model checkpoint at roberta-large and are newly initialized: ['roberta.pooler.dense.bias', 'roberta.pooler.dense.weight']\n",
      "You should probably TRAIN this model on a down-stream task to be able to use it for predictions and inference.\n",
      "Some weights of RobertaModel were not initialized from the model checkpoint at roberta-large and are newly initialized: ['roberta.pooler.dense.bias', 'roberta.pooler.dense.weight']\n",
      "You should probably TRAIN this model on a down-stream task to be able to use it for predictions and inference.\n",
      "Some weights of RobertaModel were not initialized from the model checkpoint at roberta-large and are newly initialized: ['roberta.pooler.dense.bias', 'roberta.pooler.dense.weight']\n",
      "You should probably TRAIN this model on a down-stream task to be able to use it for predictions and inference.\n",
      "Some weights of RobertaModel were not initialized from the model checkpoint at roberta-large and are newly initialized: ['roberta.pooler.dense.bias', 'roberta.pooler.dense.weight']\n",
      "You should probably TRAIN this model on a down-stream task to be able to use it for predictions and inference.\n",
      "Some weights of RobertaModel were not initialized from the model checkpoint at roberta-large and are newly initialized: ['roberta.pooler.dense.bias', 'roberta.pooler.dense.weight']\n",
      "You should probably TRAIN this model on a down-stream task to be able to use it for predictions and inference.\n",
      "Some weights of RobertaModel were not initialized from the model checkpoint at roberta-large and are newly initialized: ['roberta.pooler.dense.bias', 'roberta.pooler.dense.weight']\n",
      "You should probably TRAIN this model on a down-stream task to be able to use it for predictions and inference.\n",
      "Some weights of RobertaModel were not initialized from the model checkpoint at roberta-large and are newly initialized: ['roberta.pooler.dense.bias', 'roberta.pooler.dense.weight']\n",
      "You should probably TRAIN this model on a down-stream task to be able to use it for predictions and inference.\n",
      "Some weights of RobertaModel were not initialized from the model checkpoint at roberta-large and are newly initialized: ['roberta.pooler.dense.bias', 'roberta.pooler.dense.weight']\n",
      "You should probably TRAIN this model on a down-stream task to be able to use it for predictions and inference.\n",
      "Some weights of RobertaModel were not initialized from the model checkpoint at roberta-large and are newly initialized: ['roberta.pooler.dense.bias', 'roberta.pooler.dense.weight']\n",
      "You should probably TRAIN this model on a down-stream task to be able to use it for predictions and inference.\n",
      "Some weights of RobertaModel were not initialized from the model checkpoint at roberta-large and are newly initialized: ['roberta.pooler.dense.bias', 'roberta.pooler.dense.weight']\n",
      "You should probably TRAIN this model on a down-stream task to be able to use it for predictions and inference.\n",
      "Some weights of RobertaModel were not initialized from the model checkpoint at roberta-large and are newly initialized: ['roberta.pooler.dense.bias', 'roberta.pooler.dense.weight']\n",
      "You should probably TRAIN this model on a down-stream task to be able to use it for predictions and inference.\n",
      "Some weights of RobertaModel were not initialized from the model checkpoint at roberta-large and are newly initialized: ['roberta.pooler.dense.bias', 'roberta.pooler.dense.weight']\n",
      "You should probably TRAIN this model on a down-stream task to be able to use it for predictions and inference.\n",
      "Some weights of RobertaModel were not initialized from the model checkpoint at roberta-large and are newly initialized: ['roberta.pooler.dense.bias', 'roberta.pooler.dense.weight']\n",
      "You should probably TRAIN this model on a down-stream task to be able to use it for predictions and inference.\n",
      "Some weights of RobertaModel were not initialized from the model checkpoint at roberta-large and are newly initialized: ['roberta.pooler.dense.bias', 'roberta.pooler.dense.weight']\n",
      "You should probably TRAIN this model on a down-stream task to be able to use it for predictions and inference.\n",
      "Some weights of RobertaModel were not initialized from the model checkpoint at roberta-large and are newly initialized: ['roberta.pooler.dense.bias', 'roberta.pooler.dense.weight']\n",
      "You should probably TRAIN this model on a down-stream task to be able to use it for predictions and inference.\n",
      "Some weights of RobertaModel were not initialized from the model checkpoint at roberta-large and are newly initialized: ['roberta.pooler.dense.bias', 'roberta.pooler.dense.weight']\n",
      "You should probably TRAIN this model on a down-stream task to be able to use it for predictions and inference.\n",
      "Some weights of RobertaModel were not initialized from the model checkpoint at roberta-large and are newly initialized: ['roberta.pooler.dense.bias', 'roberta.pooler.dense.weight']\n",
      "You should probably TRAIN this model on a down-stream task to be able to use it for predictions and inference.\n",
      "Some weights of RobertaModel were not initialized from the model checkpoint at roberta-large and are newly initialized: ['roberta.pooler.dense.bias', 'roberta.pooler.dense.weight']\n",
      "You should probably TRAIN this model on a down-stream task to be able to use it for predictions and inference.\n",
      "Some weights of RobertaModel were not initialized from the model checkpoint at roberta-large and are newly initialized: ['roberta.pooler.dense.bias', 'roberta.pooler.dense.weight']\n",
      "You should probably TRAIN this model on a down-stream task to be able to use it for predictions and inference.\n",
      "Some weights of RobertaModel were not initialized from the model checkpoint at roberta-large and are newly initialized: ['roberta.pooler.dense.bias', 'roberta.pooler.dense.weight']\n",
      "You should probably TRAIN this model on a down-stream task to be able to use it for predictions and inference.\n",
      "Some weights of RobertaModel were not initialized from the model checkpoint at roberta-large and are newly initialized: ['roberta.pooler.dense.bias', 'roberta.pooler.dense.weight']\n",
      "You should probably TRAIN this model on a down-stream task to be able to use it for predictions and inference.\n",
      "Some weights of RobertaModel were not initialized from the model checkpoint at roberta-large and are newly initialized: ['roberta.pooler.dense.bias', 'roberta.pooler.dense.weight']\n",
      "You should probably TRAIN this model on a down-stream task to be able to use it for predictions and inference.\n",
      "Some weights of RobertaModel were not initialized from the model checkpoint at roberta-large and are newly initialized: ['roberta.pooler.dense.bias', 'roberta.pooler.dense.weight']\n",
      "You should probably TRAIN this model on a down-stream task to be able to use it for predictions and inference.\n",
      "Some weights of RobertaModel were not initialized from the model checkpoint at roberta-large and are newly initialized: ['roberta.pooler.dense.bias', 'roberta.pooler.dense.weight']\n",
      "You should probably TRAIN this model on a down-stream task to be able to use it for predictions and inference.\n",
      "Some weights of RobertaModel were not initialized from the model checkpoint at roberta-large and are newly initialized: ['roberta.pooler.dense.bias', 'roberta.pooler.dense.weight']\n",
      "You should probably TRAIN this model on a down-stream task to be able to use it for predictions and inference.\n",
      "Some weights of RobertaModel were not initialized from the model checkpoint at roberta-large and are newly initialized: ['roberta.pooler.dense.bias', 'roberta.pooler.dense.weight']\n",
      "You should probably TRAIN this model on a down-stream task to be able to use it for predictions and inference.\n",
      "Some weights of RobertaModel were not initialized from the model checkpoint at roberta-large and are newly initialized: ['roberta.pooler.dense.bias', 'roberta.pooler.dense.weight']\n",
      "You should probably TRAIN this model on a down-stream task to be able to use it for predictions and inference.\n",
      "Some weights of RobertaModel were not initialized from the model checkpoint at roberta-large and are newly initialized: ['roberta.pooler.dense.bias', 'roberta.pooler.dense.weight']\n",
      "You should probably TRAIN this model on a down-stream task to be able to use it for predictions and inference.\n",
      "Some weights of RobertaModel were not initialized from the model checkpoint at roberta-large and are newly initialized: ['roberta.pooler.dense.bias', 'roberta.pooler.dense.weight']\n",
      "You should probably TRAIN this model on a down-stream task to be able to use it for predictions and inference.\n"
     ]
    },
    {
     "name": "stderr",
     "output_type": "stream",
     "text": [
      "Some weights of RobertaModel were not initialized from the model checkpoint at roberta-large and are newly initialized: ['roberta.pooler.dense.bias', 'roberta.pooler.dense.weight']\n",
      "You should probably TRAIN this model on a down-stream task to be able to use it for predictions and inference.\n",
      "Some weights of RobertaModel were not initialized from the model checkpoint at roberta-large and are newly initialized: ['roberta.pooler.dense.bias', 'roberta.pooler.dense.weight']\n",
      "You should probably TRAIN this model on a down-stream task to be able to use it for predictions and inference.\n",
      "Some weights of RobertaModel were not initialized from the model checkpoint at roberta-large and are newly initialized: ['roberta.pooler.dense.bias', 'roberta.pooler.dense.weight']\n",
      "You should probably TRAIN this model on a down-stream task to be able to use it for predictions and inference.\n",
      "Some weights of RobertaModel were not initialized from the model checkpoint at roberta-large and are newly initialized: ['roberta.pooler.dense.bias', 'roberta.pooler.dense.weight']\n",
      "You should probably TRAIN this model on a down-stream task to be able to use it for predictions and inference.\n",
      "Some weights of RobertaModel were not initialized from the model checkpoint at roberta-large and are newly initialized: ['roberta.pooler.dense.bias', 'roberta.pooler.dense.weight']\n",
      "You should probably TRAIN this model on a down-stream task to be able to use it for predictions and inference.\n",
      "Some weights of RobertaModel were not initialized from the model checkpoint at roberta-large and are newly initialized: ['roberta.pooler.dense.bias', 'roberta.pooler.dense.weight']\n",
      "You should probably TRAIN this model on a down-stream task to be able to use it for predictions and inference.\n",
      "Some weights of RobertaModel were not initialized from the model checkpoint at roberta-large and are newly initialized: ['roberta.pooler.dense.bias', 'roberta.pooler.dense.weight']\n",
      "You should probably TRAIN this model on a down-stream task to be able to use it for predictions and inference.\n",
      "Some weights of RobertaModel were not initialized from the model checkpoint at roberta-large and are newly initialized: ['roberta.pooler.dense.bias', 'roberta.pooler.dense.weight']\n",
      "You should probably TRAIN this model on a down-stream task to be able to use it for predictions and inference.\n",
      "Some weights of RobertaModel were not initialized from the model checkpoint at roberta-large and are newly initialized: ['roberta.pooler.dense.bias', 'roberta.pooler.dense.weight']\n",
      "You should probably TRAIN this model on a down-stream task to be able to use it for predictions and inference.\n",
      "Some weights of RobertaModel were not initialized from the model checkpoint at roberta-large and are newly initialized: ['roberta.pooler.dense.bias', 'roberta.pooler.dense.weight']\n",
      "You should probably TRAIN this model on a down-stream task to be able to use it for predictions and inference.\n",
      "Some weights of RobertaModel were not initialized from the model checkpoint at roberta-large and are newly initialized: ['roberta.pooler.dense.bias', 'roberta.pooler.dense.weight']\n",
      "You should probably TRAIN this model on a down-stream task to be able to use it for predictions and inference.\n",
      "Some weights of RobertaModel were not initialized from the model checkpoint at roberta-large and are newly initialized: ['roberta.pooler.dense.bias', 'roberta.pooler.dense.weight']\n",
      "You should probably TRAIN this model on a down-stream task to be able to use it for predictions and inference.\n",
      "Some weights of RobertaModel were not initialized from the model checkpoint at roberta-large and are newly initialized: ['roberta.pooler.dense.bias', 'roberta.pooler.dense.weight']\n",
      "You should probably TRAIN this model on a down-stream task to be able to use it for predictions and inference.\n",
      "Some weights of RobertaModel were not initialized from the model checkpoint at roberta-large and are newly initialized: ['roberta.pooler.dense.bias', 'roberta.pooler.dense.weight']\n",
      "You should probably TRAIN this model on a down-stream task to be able to use it for predictions and inference.\n",
      "Some weights of RobertaModel were not initialized from the model checkpoint at roberta-large and are newly initialized: ['roberta.pooler.dense.bias', 'roberta.pooler.dense.weight']\n",
      "You should probably TRAIN this model on a down-stream task to be able to use it for predictions and inference.\n",
      "Some weights of RobertaModel were not initialized from the model checkpoint at roberta-large and are newly initialized: ['roberta.pooler.dense.bias', 'roberta.pooler.dense.weight']\n",
      "You should probably TRAIN this model on a down-stream task to be able to use it for predictions and inference.\n",
      "Some weights of RobertaModel were not initialized from the model checkpoint at roberta-large and are newly initialized: ['roberta.pooler.dense.bias', 'roberta.pooler.dense.weight']\n",
      "You should probably TRAIN this model on a down-stream task to be able to use it for predictions and inference.\n",
      "Some weights of RobertaModel were not initialized from the model checkpoint at roberta-large and are newly initialized: ['roberta.pooler.dense.bias', 'roberta.pooler.dense.weight']\n",
      "You should probably TRAIN this model on a down-stream task to be able to use it for predictions and inference.\n",
      "Some weights of RobertaModel were not initialized from the model checkpoint at roberta-large and are newly initialized: ['roberta.pooler.dense.bias', 'roberta.pooler.dense.weight']\n",
      "You should probably TRAIN this model on a down-stream task to be able to use it for predictions and inference.\n",
      "Some weights of RobertaModel were not initialized from the model checkpoint at roberta-large and are newly initialized: ['roberta.pooler.dense.bias', 'roberta.pooler.dense.weight']\n",
      "You should probably TRAIN this model on a down-stream task to be able to use it for predictions and inference.\n",
      "Some weights of RobertaModel were not initialized from the model checkpoint at roberta-large and are newly initialized: ['roberta.pooler.dense.bias', 'roberta.pooler.dense.weight']\n",
      "You should probably TRAIN this model on a down-stream task to be able to use it for predictions and inference.\n",
      "Some weights of RobertaModel were not initialized from the model checkpoint at roberta-large and are newly initialized: ['roberta.pooler.dense.bias', 'roberta.pooler.dense.weight']\n",
      "You should probably TRAIN this model on a down-stream task to be able to use it for predictions and inference.\n",
      "Some weights of RobertaModel were not initialized from the model checkpoint at roberta-large and are newly initialized: ['roberta.pooler.dense.bias', 'roberta.pooler.dense.weight']\n",
      "You should probably TRAIN this model on a down-stream task to be able to use it for predictions and inference.\n",
      "Some weights of RobertaModel were not initialized from the model checkpoint at roberta-large and are newly initialized: ['roberta.pooler.dense.bias', 'roberta.pooler.dense.weight']\n",
      "You should probably TRAIN this model on a down-stream task to be able to use it for predictions and inference.\n",
      "Some weights of RobertaModel were not initialized from the model checkpoint at roberta-large and are newly initialized: ['roberta.pooler.dense.bias', 'roberta.pooler.dense.weight']\n",
      "You should probably TRAIN this model on a down-stream task to be able to use it for predictions and inference.\n",
      "Some weights of RobertaModel were not initialized from the model checkpoint at roberta-large and are newly initialized: ['roberta.pooler.dense.bias', 'roberta.pooler.dense.weight']\n",
      "You should probably TRAIN this model on a down-stream task to be able to use it for predictions and inference.\n",
      "Some weights of RobertaModel were not initialized from the model checkpoint at roberta-large and are newly initialized: ['roberta.pooler.dense.bias', 'roberta.pooler.dense.weight']\n",
      "You should probably TRAIN this model on a down-stream task to be able to use it for predictions and inference.\n",
      "Some weights of RobertaModel were not initialized from the model checkpoint at roberta-large and are newly initialized: ['roberta.pooler.dense.bias', 'roberta.pooler.dense.weight']\n",
      "You should probably TRAIN this model on a down-stream task to be able to use it for predictions and inference.\n",
      "Some weights of RobertaModel were not initialized from the model checkpoint at roberta-large and are newly initialized: ['roberta.pooler.dense.bias', 'roberta.pooler.dense.weight']\n",
      "You should probably TRAIN this model on a down-stream task to be able to use it for predictions and inference.\n"
     ]
    },
    {
     "name": "stderr",
     "output_type": "stream",
     "text": [
      "Some weights of RobertaModel were not initialized from the model checkpoint at roberta-large and are newly initialized: ['roberta.pooler.dense.bias', 'roberta.pooler.dense.weight']\n",
      "You should probably TRAIN this model on a down-stream task to be able to use it for predictions and inference.\n",
      "Some weights of RobertaModel were not initialized from the model checkpoint at roberta-large and are newly initialized: ['roberta.pooler.dense.bias', 'roberta.pooler.dense.weight']\n",
      "You should probably TRAIN this model on a down-stream task to be able to use it for predictions and inference.\n",
      "Some weights of RobertaModel were not initialized from the model checkpoint at roberta-large and are newly initialized: ['roberta.pooler.dense.bias', 'roberta.pooler.dense.weight']\n",
      "You should probably TRAIN this model on a down-stream task to be able to use it for predictions and inference.\n",
      "Some weights of RobertaModel were not initialized from the model checkpoint at roberta-large and are newly initialized: ['roberta.pooler.dense.bias', 'roberta.pooler.dense.weight']\n",
      "You should probably TRAIN this model on a down-stream task to be able to use it for predictions and inference.\n",
      "Some weights of RobertaModel were not initialized from the model checkpoint at roberta-large and are newly initialized: ['roberta.pooler.dense.bias', 'roberta.pooler.dense.weight']\n",
      "You should probably TRAIN this model on a down-stream task to be able to use it for predictions and inference.\n",
      "Some weights of RobertaModel were not initialized from the model checkpoint at roberta-large and are newly initialized: ['roberta.pooler.dense.bias', 'roberta.pooler.dense.weight']\n",
      "You should probably TRAIN this model on a down-stream task to be able to use it for predictions and inference.\n",
      "Some weights of RobertaModel were not initialized from the model checkpoint at roberta-large and are newly initialized: ['roberta.pooler.dense.bias', 'roberta.pooler.dense.weight']\n",
      "You should probably TRAIN this model on a down-stream task to be able to use it for predictions and inference.\n",
      "Some weights of RobertaModel were not initialized from the model checkpoint at roberta-large and are newly initialized: ['roberta.pooler.dense.bias', 'roberta.pooler.dense.weight']\n",
      "You should probably TRAIN this model on a down-stream task to be able to use it for predictions and inference.\n",
      "Some weights of RobertaModel were not initialized from the model checkpoint at roberta-large and are newly initialized: ['roberta.pooler.dense.bias', 'roberta.pooler.dense.weight']\n",
      "You should probably TRAIN this model on a down-stream task to be able to use it for predictions and inference.\n",
      "Some weights of RobertaModel were not initialized from the model checkpoint at roberta-large and are newly initialized: ['roberta.pooler.dense.bias', 'roberta.pooler.dense.weight']\n",
      "You should probably TRAIN this model on a down-stream task to be able to use it for predictions and inference.\n",
      "Some weights of RobertaModel were not initialized from the model checkpoint at roberta-large and are newly initialized: ['roberta.pooler.dense.bias', 'roberta.pooler.dense.weight']\n",
      "You should probably TRAIN this model on a down-stream task to be able to use it for predictions and inference.\n",
      "Some weights of RobertaModel were not initialized from the model checkpoint at roberta-large and are newly initialized: ['roberta.pooler.dense.bias', 'roberta.pooler.dense.weight']\n",
      "You should probably TRAIN this model on a down-stream task to be able to use it for predictions and inference.\n",
      "Some weights of RobertaModel were not initialized from the model checkpoint at roberta-large and are newly initialized: ['roberta.pooler.dense.bias', 'roberta.pooler.dense.weight']\n",
      "You should probably TRAIN this model on a down-stream task to be able to use it for predictions and inference.\n",
      "Some weights of RobertaModel were not initialized from the model checkpoint at roberta-large and are newly initialized: ['roberta.pooler.dense.bias', 'roberta.pooler.dense.weight']\n",
      "You should probably TRAIN this model on a down-stream task to be able to use it for predictions and inference.\n",
      "Some weights of RobertaModel were not initialized from the model checkpoint at roberta-large and are newly initialized: ['roberta.pooler.dense.bias', 'roberta.pooler.dense.weight']\n",
      "You should probably TRAIN this model on a down-stream task to be able to use it for predictions and inference.\n",
      "Some weights of RobertaModel were not initialized from the model checkpoint at roberta-large and are newly initialized: ['roberta.pooler.dense.bias', 'roberta.pooler.dense.weight']\n",
      "You should probably TRAIN this model on a down-stream task to be able to use it for predictions and inference.\n",
      "Some weights of RobertaModel were not initialized from the model checkpoint at roberta-large and are newly initialized: ['roberta.pooler.dense.bias', 'roberta.pooler.dense.weight']\n",
      "You should probably TRAIN this model on a down-stream task to be able to use it for predictions and inference.\n",
      "Some weights of RobertaModel were not initialized from the model checkpoint at roberta-large and are newly initialized: ['roberta.pooler.dense.bias', 'roberta.pooler.dense.weight']\n",
      "You should probably TRAIN this model on a down-stream task to be able to use it for predictions and inference.\n",
      "Some weights of RobertaModel were not initialized from the model checkpoint at roberta-large and are newly initialized: ['roberta.pooler.dense.bias', 'roberta.pooler.dense.weight']\n",
      "You should probably TRAIN this model on a down-stream task to be able to use it for predictions and inference.\n",
      "Some weights of RobertaModel were not initialized from the model checkpoint at roberta-large and are newly initialized: ['roberta.pooler.dense.bias', 'roberta.pooler.dense.weight']\n",
      "You should probably TRAIN this model on a down-stream task to be able to use it for predictions and inference.\n",
      "Some weights of RobertaModel were not initialized from the model checkpoint at roberta-large and are newly initialized: ['roberta.pooler.dense.bias', 'roberta.pooler.dense.weight']\n",
      "You should probably TRAIN this model on a down-stream task to be able to use it for predictions and inference.\n",
      "Some weights of RobertaModel were not initialized from the model checkpoint at roberta-large and are newly initialized: ['roberta.pooler.dense.bias', 'roberta.pooler.dense.weight']\n",
      "You should probably TRAIN this model on a down-stream task to be able to use it for predictions and inference.\n",
      "Some weights of RobertaModel were not initialized from the model checkpoint at roberta-large and are newly initialized: ['roberta.pooler.dense.bias', 'roberta.pooler.dense.weight']\n",
      "You should probably TRAIN this model on a down-stream task to be able to use it for predictions and inference.\n",
      "Some weights of RobertaModel were not initialized from the model checkpoint at roberta-large and are newly initialized: ['roberta.pooler.dense.bias', 'roberta.pooler.dense.weight']\n",
      "You should probably TRAIN this model on a down-stream task to be able to use it for predictions and inference.\n",
      "Some weights of RobertaModel were not initialized from the model checkpoint at roberta-large and are newly initialized: ['roberta.pooler.dense.bias', 'roberta.pooler.dense.weight']\n",
      "You should probably TRAIN this model on a down-stream task to be able to use it for predictions and inference.\n",
      "Some weights of RobertaModel were not initialized from the model checkpoint at roberta-large and are newly initialized: ['roberta.pooler.dense.bias', 'roberta.pooler.dense.weight']\n",
      "You should probably TRAIN this model on a down-stream task to be able to use it for predictions and inference.\n",
      "Some weights of RobertaModel were not initialized from the model checkpoint at roberta-large and are newly initialized: ['roberta.pooler.dense.bias', 'roberta.pooler.dense.weight']\n",
      "You should probably TRAIN this model on a down-stream task to be able to use it for predictions and inference.\n",
      "Some weights of RobertaModel were not initialized from the model checkpoint at roberta-large and are newly initialized: ['roberta.pooler.dense.bias', 'roberta.pooler.dense.weight']\n",
      "You should probably TRAIN this model on a down-stream task to be able to use it for predictions and inference.\n",
      "Some weights of RobertaModel were not initialized from the model checkpoint at roberta-large and are newly initialized: ['roberta.pooler.dense.bias', 'roberta.pooler.dense.weight']\n",
      "You should probably TRAIN this model on a down-stream task to be able to use it for predictions and inference.\n"
     ]
    },
    {
     "name": "stderr",
     "output_type": "stream",
     "text": [
      "Some weights of RobertaModel were not initialized from the model checkpoint at roberta-large and are newly initialized: ['roberta.pooler.dense.bias', 'roberta.pooler.dense.weight']\n",
      "You should probably TRAIN this model on a down-stream task to be able to use it for predictions and inference.\n",
      "Some weights of RobertaModel were not initialized from the model checkpoint at roberta-large and are newly initialized: ['roberta.pooler.dense.bias', 'roberta.pooler.dense.weight']\n",
      "You should probably TRAIN this model on a down-stream task to be able to use it for predictions and inference.\n",
      "Some weights of RobertaModel were not initialized from the model checkpoint at roberta-large and are newly initialized: ['roberta.pooler.dense.bias', 'roberta.pooler.dense.weight']\n",
      "You should probably TRAIN this model on a down-stream task to be able to use it for predictions and inference.\n",
      "Some weights of RobertaModel were not initialized from the model checkpoint at roberta-large and are newly initialized: ['roberta.pooler.dense.bias', 'roberta.pooler.dense.weight']\n",
      "You should probably TRAIN this model on a down-stream task to be able to use it for predictions and inference.\n",
      "Some weights of RobertaModel were not initialized from the model checkpoint at roberta-large and are newly initialized: ['roberta.pooler.dense.bias', 'roberta.pooler.dense.weight']\n",
      "You should probably TRAIN this model on a down-stream task to be able to use it for predictions and inference.\n",
      "Some weights of RobertaModel were not initialized from the model checkpoint at roberta-large and are newly initialized: ['roberta.pooler.dense.bias', 'roberta.pooler.dense.weight']\n",
      "You should probably TRAIN this model on a down-stream task to be able to use it for predictions and inference.\n",
      "Some weights of RobertaModel were not initialized from the model checkpoint at roberta-large and are newly initialized: ['roberta.pooler.dense.bias', 'roberta.pooler.dense.weight']\n",
      "You should probably TRAIN this model on a down-stream task to be able to use it for predictions and inference.\n",
      "Some weights of RobertaModel were not initialized from the model checkpoint at roberta-large and are newly initialized: ['roberta.pooler.dense.bias', 'roberta.pooler.dense.weight']\n",
      "You should probably TRAIN this model on a down-stream task to be able to use it for predictions and inference.\n",
      "Some weights of RobertaModel were not initialized from the model checkpoint at roberta-large and are newly initialized: ['roberta.pooler.dense.bias', 'roberta.pooler.dense.weight']\n",
      "You should probably TRAIN this model on a down-stream task to be able to use it for predictions and inference.\n",
      "Some weights of RobertaModel were not initialized from the model checkpoint at roberta-large and are newly initialized: ['roberta.pooler.dense.bias', 'roberta.pooler.dense.weight']\n",
      "You should probably TRAIN this model on a down-stream task to be able to use it for predictions and inference.\n",
      "Some weights of RobertaModel were not initialized from the model checkpoint at roberta-large and are newly initialized: ['roberta.pooler.dense.bias', 'roberta.pooler.dense.weight']\n",
      "You should probably TRAIN this model on a down-stream task to be able to use it for predictions and inference.\n",
      "Some weights of RobertaModel were not initialized from the model checkpoint at roberta-large and are newly initialized: ['roberta.pooler.dense.bias', 'roberta.pooler.dense.weight']\n",
      "You should probably TRAIN this model on a down-stream task to be able to use it for predictions and inference.\n",
      "Some weights of RobertaModel were not initialized from the model checkpoint at roberta-large and are newly initialized: ['roberta.pooler.dense.bias', 'roberta.pooler.dense.weight']\n",
      "You should probably TRAIN this model on a down-stream task to be able to use it for predictions and inference.\n",
      "Some weights of RobertaModel were not initialized from the model checkpoint at roberta-large and are newly initialized: ['roberta.pooler.dense.bias', 'roberta.pooler.dense.weight']\n",
      "You should probably TRAIN this model on a down-stream task to be able to use it for predictions and inference.\n",
      "Some weights of RobertaModel were not initialized from the model checkpoint at roberta-large and are newly initialized: ['roberta.pooler.dense.bias', 'roberta.pooler.dense.weight']\n",
      "You should probably TRAIN this model on a down-stream task to be able to use it for predictions and inference.\n",
      "Some weights of RobertaModel were not initialized from the model checkpoint at roberta-large and are newly initialized: ['roberta.pooler.dense.bias', 'roberta.pooler.dense.weight']\n",
      "You should probably TRAIN this model on a down-stream task to be able to use it for predictions and inference.\n",
      "Some weights of RobertaModel were not initialized from the model checkpoint at roberta-large and are newly initialized: ['roberta.pooler.dense.bias', 'roberta.pooler.dense.weight']\n",
      "You should probably TRAIN this model on a down-stream task to be able to use it for predictions and inference.\n",
      "Some weights of RobertaModel were not initialized from the model checkpoint at roberta-large and are newly initialized: ['roberta.pooler.dense.bias', 'roberta.pooler.dense.weight']\n",
      "You should probably TRAIN this model on a down-stream task to be able to use it for predictions and inference.\n",
      "Some weights of RobertaModel were not initialized from the model checkpoint at roberta-large and are newly initialized: ['roberta.pooler.dense.bias', 'roberta.pooler.dense.weight']\n",
      "You should probably TRAIN this model on a down-stream task to be able to use it for predictions and inference.\n",
      "Some weights of RobertaModel were not initialized from the model checkpoint at roberta-large and are newly initialized: ['roberta.pooler.dense.bias', 'roberta.pooler.dense.weight']\n",
      "You should probably TRAIN this model on a down-stream task to be able to use it for predictions and inference.\n",
      "Some weights of RobertaModel were not initialized from the model checkpoint at roberta-large and are newly initialized: ['roberta.pooler.dense.bias', 'roberta.pooler.dense.weight']\n",
      "You should probably TRAIN this model on a down-stream task to be able to use it for predictions and inference.\n",
      "Some weights of RobertaModel were not initialized from the model checkpoint at roberta-large and are newly initialized: ['roberta.pooler.dense.bias', 'roberta.pooler.dense.weight']\n",
      "You should probably TRAIN this model on a down-stream task to be able to use it for predictions and inference.\n",
      "Some weights of RobertaModel were not initialized from the model checkpoint at roberta-large and are newly initialized: ['roberta.pooler.dense.bias', 'roberta.pooler.dense.weight']\n",
      "You should probably TRAIN this model on a down-stream task to be able to use it for predictions and inference.\n",
      "Some weights of RobertaModel were not initialized from the model checkpoint at roberta-large and are newly initialized: ['roberta.pooler.dense.bias', 'roberta.pooler.dense.weight']\n",
      "You should probably TRAIN this model on a down-stream task to be able to use it for predictions and inference.\n",
      "Some weights of RobertaModel were not initialized from the model checkpoint at roberta-large and are newly initialized: ['roberta.pooler.dense.bias', 'roberta.pooler.dense.weight']\n",
      "You should probably TRAIN this model on a down-stream task to be able to use it for predictions and inference.\n",
      "Some weights of RobertaModel were not initialized from the model checkpoint at roberta-large and are newly initialized: ['roberta.pooler.dense.bias', 'roberta.pooler.dense.weight']\n",
      "You should probably TRAIN this model on a down-stream task to be able to use it for predictions and inference.\n",
      "Some weights of RobertaModel were not initialized from the model checkpoint at roberta-large and are newly initialized: ['roberta.pooler.dense.bias', 'roberta.pooler.dense.weight']\n",
      "You should probably TRAIN this model on a down-stream task to be able to use it for predictions and inference.\n",
      "Some weights of RobertaModel were not initialized from the model checkpoint at roberta-large and are newly initialized: ['roberta.pooler.dense.bias', 'roberta.pooler.dense.weight']\n",
      "You should probably TRAIN this model on a down-stream task to be able to use it for predictions and inference.\n",
      "Some weights of RobertaModel were not initialized from the model checkpoint at roberta-large and are newly initialized: ['roberta.pooler.dense.bias', 'roberta.pooler.dense.weight']\n",
      "You should probably TRAIN this model on a down-stream task to be able to use it for predictions and inference.\n"
     ]
    },
    {
     "name": "stderr",
     "output_type": "stream",
     "text": [
      "Some weights of RobertaModel were not initialized from the model checkpoint at roberta-large and are newly initialized: ['roberta.pooler.dense.bias', 'roberta.pooler.dense.weight']\n",
      "You should probably TRAIN this model on a down-stream task to be able to use it for predictions and inference.\n",
      "Some weights of RobertaModel were not initialized from the model checkpoint at roberta-large and are newly initialized: ['roberta.pooler.dense.bias', 'roberta.pooler.dense.weight']\n",
      "You should probably TRAIN this model on a down-stream task to be able to use it for predictions and inference.\n",
      "Some weights of RobertaModel were not initialized from the model checkpoint at roberta-large and are newly initialized: ['roberta.pooler.dense.bias', 'roberta.pooler.dense.weight']\n",
      "You should probably TRAIN this model on a down-stream task to be able to use it for predictions and inference.\n",
      "Some weights of RobertaModel were not initialized from the model checkpoint at roberta-large and are newly initialized: ['roberta.pooler.dense.bias', 'roberta.pooler.dense.weight']\n",
      "You should probably TRAIN this model on a down-stream task to be able to use it for predictions and inference.\n",
      "Some weights of RobertaModel were not initialized from the model checkpoint at roberta-large and are newly initialized: ['roberta.pooler.dense.bias', 'roberta.pooler.dense.weight']\n",
      "You should probably TRAIN this model on a down-stream task to be able to use it for predictions and inference.\n",
      "Some weights of RobertaModel were not initialized from the model checkpoint at roberta-large and are newly initialized: ['roberta.pooler.dense.bias', 'roberta.pooler.dense.weight']\n",
      "You should probably TRAIN this model on a down-stream task to be able to use it for predictions and inference.\n",
      "Some weights of RobertaModel were not initialized from the model checkpoint at roberta-large and are newly initialized: ['roberta.pooler.dense.bias', 'roberta.pooler.dense.weight']\n",
      "You should probably TRAIN this model on a down-stream task to be able to use it for predictions and inference.\n",
      "Some weights of RobertaModel were not initialized from the model checkpoint at roberta-large and are newly initialized: ['roberta.pooler.dense.bias', 'roberta.pooler.dense.weight']\n",
      "You should probably TRAIN this model on a down-stream task to be able to use it for predictions and inference.\n",
      "Some weights of RobertaModel were not initialized from the model checkpoint at roberta-large and are newly initialized: ['roberta.pooler.dense.bias', 'roberta.pooler.dense.weight']\n",
      "You should probably TRAIN this model on a down-stream task to be able to use it for predictions and inference.\n",
      "Some weights of RobertaModel were not initialized from the model checkpoint at roberta-large and are newly initialized: ['roberta.pooler.dense.bias', 'roberta.pooler.dense.weight']\n",
      "You should probably TRAIN this model on a down-stream task to be able to use it for predictions and inference.\n",
      "Some weights of RobertaModel were not initialized from the model checkpoint at roberta-large and are newly initialized: ['roberta.pooler.dense.bias', 'roberta.pooler.dense.weight']\n",
      "You should probably TRAIN this model on a down-stream task to be able to use it for predictions and inference.\n",
      "Some weights of RobertaModel were not initialized from the model checkpoint at roberta-large and are newly initialized: ['roberta.pooler.dense.bias', 'roberta.pooler.dense.weight']\n",
      "You should probably TRAIN this model on a down-stream task to be able to use it for predictions and inference.\n",
      "Some weights of RobertaModel were not initialized from the model checkpoint at roberta-large and are newly initialized: ['roberta.pooler.dense.bias', 'roberta.pooler.dense.weight']\n",
      "You should probably TRAIN this model on a down-stream task to be able to use it for predictions and inference.\n",
      "Some weights of RobertaModel were not initialized from the model checkpoint at roberta-large and are newly initialized: ['roberta.pooler.dense.bias', 'roberta.pooler.dense.weight']\n",
      "You should probably TRAIN this model on a down-stream task to be able to use it for predictions and inference.\n",
      "Some weights of RobertaModel were not initialized from the model checkpoint at roberta-large and are newly initialized: ['roberta.pooler.dense.bias', 'roberta.pooler.dense.weight']\n",
      "You should probably TRAIN this model on a down-stream task to be able to use it for predictions and inference.\n",
      "Some weights of RobertaModel were not initialized from the model checkpoint at roberta-large and are newly initialized: ['roberta.pooler.dense.bias', 'roberta.pooler.dense.weight']\n",
      "You should probably TRAIN this model on a down-stream task to be able to use it for predictions and inference.\n",
      "Some weights of RobertaModel were not initialized from the model checkpoint at roberta-large and are newly initialized: ['roberta.pooler.dense.bias', 'roberta.pooler.dense.weight']\n",
      "You should probably TRAIN this model on a down-stream task to be able to use it for predictions and inference.\n",
      "Some weights of RobertaModel were not initialized from the model checkpoint at roberta-large and are newly initialized: ['roberta.pooler.dense.bias', 'roberta.pooler.dense.weight']\n",
      "You should probably TRAIN this model on a down-stream task to be able to use it for predictions and inference.\n",
      "Some weights of RobertaModel were not initialized from the model checkpoint at roberta-large and are newly initialized: ['roberta.pooler.dense.bias', 'roberta.pooler.dense.weight']\n",
      "You should probably TRAIN this model on a down-stream task to be able to use it for predictions and inference.\n",
      "Some weights of RobertaModel were not initialized from the model checkpoint at roberta-large and are newly initialized: ['roberta.pooler.dense.bias', 'roberta.pooler.dense.weight']\n",
      "You should probably TRAIN this model on a down-stream task to be able to use it for predictions and inference.\n",
      "Some weights of RobertaModel were not initialized from the model checkpoint at roberta-large and are newly initialized: ['roberta.pooler.dense.bias', 'roberta.pooler.dense.weight']\n",
      "You should probably TRAIN this model on a down-stream task to be able to use it for predictions and inference.\n",
      "Some weights of RobertaModel were not initialized from the model checkpoint at roberta-large and are newly initialized: ['roberta.pooler.dense.bias', 'roberta.pooler.dense.weight']\n",
      "You should probably TRAIN this model on a down-stream task to be able to use it for predictions and inference.\n",
      "Some weights of RobertaModel were not initialized from the model checkpoint at roberta-large and are newly initialized: ['roberta.pooler.dense.bias', 'roberta.pooler.dense.weight']\n",
      "You should probably TRAIN this model on a down-stream task to be able to use it for predictions and inference.\n",
      "Some weights of RobertaModel were not initialized from the model checkpoint at roberta-large and are newly initialized: ['roberta.pooler.dense.bias', 'roberta.pooler.dense.weight']\n",
      "You should probably TRAIN this model on a down-stream task to be able to use it for predictions and inference.\n",
      "Some weights of RobertaModel were not initialized from the model checkpoint at roberta-large and are newly initialized: ['roberta.pooler.dense.bias', 'roberta.pooler.dense.weight']\n",
      "You should probably TRAIN this model on a down-stream task to be able to use it for predictions and inference.\n",
      "Some weights of RobertaModel were not initialized from the model checkpoint at roberta-large and are newly initialized: ['roberta.pooler.dense.bias', 'roberta.pooler.dense.weight']\n",
      "You should probably TRAIN this model on a down-stream task to be able to use it for predictions and inference.\n",
      "Some weights of RobertaModel were not initialized from the model checkpoint at roberta-large and are newly initialized: ['roberta.pooler.dense.bias', 'roberta.pooler.dense.weight']\n",
      "You should probably TRAIN this model on a down-stream task to be able to use it for predictions and inference.\n",
      "Some weights of RobertaModel were not initialized from the model checkpoint at roberta-large and are newly initialized: ['roberta.pooler.dense.bias', 'roberta.pooler.dense.weight']\n",
      "You should probably TRAIN this model on a down-stream task to be able to use it for predictions and inference.\n",
      "Some weights of RobertaModel were not initialized from the model checkpoint at roberta-large and are newly initialized: ['roberta.pooler.dense.bias', 'roberta.pooler.dense.weight']\n",
      "You should probably TRAIN this model on a down-stream task to be able to use it for predictions and inference.\n"
     ]
    },
    {
     "name": "stderr",
     "output_type": "stream",
     "text": [
      "Some weights of RobertaModel were not initialized from the model checkpoint at roberta-large and are newly initialized: ['roberta.pooler.dense.bias', 'roberta.pooler.dense.weight']\n",
      "You should probably TRAIN this model on a down-stream task to be able to use it for predictions and inference.\n",
      "Some weights of RobertaModel were not initialized from the model checkpoint at roberta-large and are newly initialized: ['roberta.pooler.dense.bias', 'roberta.pooler.dense.weight']\n",
      "You should probably TRAIN this model on a down-stream task to be able to use it for predictions and inference.\n",
      "Some weights of RobertaModel were not initialized from the model checkpoint at roberta-large and are newly initialized: ['roberta.pooler.dense.bias', 'roberta.pooler.dense.weight']\n",
      "You should probably TRAIN this model on a down-stream task to be able to use it for predictions and inference.\n",
      "Some weights of RobertaModel were not initialized from the model checkpoint at roberta-large and are newly initialized: ['roberta.pooler.dense.bias', 'roberta.pooler.dense.weight']\n",
      "You should probably TRAIN this model on a down-stream task to be able to use it for predictions and inference.\n",
      "Some weights of RobertaModel were not initialized from the model checkpoint at roberta-large and are newly initialized: ['roberta.pooler.dense.bias', 'roberta.pooler.dense.weight']\n",
      "You should probably TRAIN this model on a down-stream task to be able to use it for predictions and inference.\n",
      "Some weights of RobertaModel were not initialized from the model checkpoint at roberta-large and are newly initialized: ['roberta.pooler.dense.bias', 'roberta.pooler.dense.weight']\n",
      "You should probably TRAIN this model on a down-stream task to be able to use it for predictions and inference.\n",
      "Some weights of RobertaModel were not initialized from the model checkpoint at roberta-large and are newly initialized: ['roberta.pooler.dense.bias', 'roberta.pooler.dense.weight']\n",
      "You should probably TRAIN this model on a down-stream task to be able to use it for predictions and inference.\n",
      "Some weights of RobertaModel were not initialized from the model checkpoint at roberta-large and are newly initialized: ['roberta.pooler.dense.bias', 'roberta.pooler.dense.weight']\n",
      "You should probably TRAIN this model on a down-stream task to be able to use it for predictions and inference.\n",
      "Some weights of RobertaModel were not initialized from the model checkpoint at roberta-large and are newly initialized: ['roberta.pooler.dense.bias', 'roberta.pooler.dense.weight']\n",
      "You should probably TRAIN this model on a down-stream task to be able to use it for predictions and inference.\n",
      "Some weights of RobertaModel were not initialized from the model checkpoint at roberta-large and are newly initialized: ['roberta.pooler.dense.bias', 'roberta.pooler.dense.weight']\n",
      "You should probably TRAIN this model on a down-stream task to be able to use it for predictions and inference.\n",
      "Some weights of RobertaModel were not initialized from the model checkpoint at roberta-large and are newly initialized: ['roberta.pooler.dense.bias', 'roberta.pooler.dense.weight']\n",
      "You should probably TRAIN this model on a down-stream task to be able to use it for predictions and inference.\n",
      "Some weights of RobertaModel were not initialized from the model checkpoint at roberta-large and are newly initialized: ['roberta.pooler.dense.bias', 'roberta.pooler.dense.weight']\n",
      "You should probably TRAIN this model on a down-stream task to be able to use it for predictions and inference.\n",
      "Some weights of RobertaModel were not initialized from the model checkpoint at roberta-large and are newly initialized: ['roberta.pooler.dense.bias', 'roberta.pooler.dense.weight']\n",
      "You should probably TRAIN this model on a down-stream task to be able to use it for predictions and inference.\n",
      "Some weights of RobertaModel were not initialized from the model checkpoint at roberta-large and are newly initialized: ['roberta.pooler.dense.bias', 'roberta.pooler.dense.weight']\n",
      "You should probably TRAIN this model on a down-stream task to be able to use it for predictions and inference.\n",
      "Some weights of RobertaModel were not initialized from the model checkpoint at roberta-large and are newly initialized: ['roberta.pooler.dense.bias', 'roberta.pooler.dense.weight']\n",
      "You should probably TRAIN this model on a down-stream task to be able to use it for predictions and inference.\n",
      "Some weights of RobertaModel were not initialized from the model checkpoint at roberta-large and are newly initialized: ['roberta.pooler.dense.bias', 'roberta.pooler.dense.weight']\n",
      "You should probably TRAIN this model on a down-stream task to be able to use it for predictions and inference.\n",
      "Some weights of RobertaModel were not initialized from the model checkpoint at roberta-large and are newly initialized: ['roberta.pooler.dense.bias', 'roberta.pooler.dense.weight']\n",
      "You should probably TRAIN this model on a down-stream task to be able to use it for predictions and inference.\n",
      "Some weights of RobertaModel were not initialized from the model checkpoint at roberta-large and are newly initialized: ['roberta.pooler.dense.bias', 'roberta.pooler.dense.weight']\n",
      "You should probably TRAIN this model on a down-stream task to be able to use it for predictions and inference.\n",
      "Some weights of RobertaModel were not initialized from the model checkpoint at roberta-large and are newly initialized: ['roberta.pooler.dense.bias', 'roberta.pooler.dense.weight']\n",
      "You should probably TRAIN this model on a down-stream task to be able to use it for predictions and inference.\n",
      "Some weights of RobertaModel were not initialized from the model checkpoint at roberta-large and are newly initialized: ['roberta.pooler.dense.bias', 'roberta.pooler.dense.weight']\n",
      "You should probably TRAIN this model on a down-stream task to be able to use it for predictions and inference.\n",
      "Some weights of RobertaModel were not initialized from the model checkpoint at roberta-large and are newly initialized: ['roberta.pooler.dense.bias', 'roberta.pooler.dense.weight']\n",
      "You should probably TRAIN this model on a down-stream task to be able to use it for predictions and inference.\n",
      "Some weights of RobertaModel were not initialized from the model checkpoint at roberta-large and are newly initialized: ['roberta.pooler.dense.bias', 'roberta.pooler.dense.weight']\n",
      "You should probably TRAIN this model on a down-stream task to be able to use it for predictions and inference.\n",
      "Some weights of RobertaModel were not initialized from the model checkpoint at roberta-large and are newly initialized: ['roberta.pooler.dense.bias', 'roberta.pooler.dense.weight']\n",
      "You should probably TRAIN this model on a down-stream task to be able to use it for predictions and inference.\n",
      "Some weights of RobertaModel were not initialized from the model checkpoint at roberta-large and are newly initialized: ['roberta.pooler.dense.bias', 'roberta.pooler.dense.weight']\n",
      "You should probably TRAIN this model on a down-stream task to be able to use it for predictions and inference.\n",
      "Some weights of RobertaModel were not initialized from the model checkpoint at roberta-large and are newly initialized: ['roberta.pooler.dense.bias', 'roberta.pooler.dense.weight']\n",
      "You should probably TRAIN this model on a down-stream task to be able to use it for predictions and inference.\n",
      "Some weights of RobertaModel were not initialized from the model checkpoint at roberta-large and are newly initialized: ['roberta.pooler.dense.bias', 'roberta.pooler.dense.weight']\n",
      "You should probably TRAIN this model on a down-stream task to be able to use it for predictions and inference.\n",
      "Some weights of RobertaModel were not initialized from the model checkpoint at roberta-large and are newly initialized: ['roberta.pooler.dense.bias', 'roberta.pooler.dense.weight']\n",
      "You should probably TRAIN this model on a down-stream task to be able to use it for predictions and inference.\n",
      "Some weights of RobertaModel were not initialized from the model checkpoint at roberta-large and are newly initialized: ['roberta.pooler.dense.bias', 'roberta.pooler.dense.weight']\n",
      "You should probably TRAIN this model on a down-stream task to be able to use it for predictions and inference.\n",
      "Some weights of RobertaModel were not initialized from the model checkpoint at roberta-large and are newly initialized: ['roberta.pooler.dense.bias', 'roberta.pooler.dense.weight']\n",
      "You should probably TRAIN this model on a down-stream task to be able to use it for predictions and inference.\n"
     ]
    },
    {
     "name": "stderr",
     "output_type": "stream",
     "text": [
      "Some weights of RobertaModel were not initialized from the model checkpoint at roberta-large and are newly initialized: ['roberta.pooler.dense.bias', 'roberta.pooler.dense.weight']\n",
      "You should probably TRAIN this model on a down-stream task to be able to use it for predictions and inference.\n",
      "Some weights of RobertaModel were not initialized from the model checkpoint at roberta-large and are newly initialized: ['roberta.pooler.dense.bias', 'roberta.pooler.dense.weight']\n",
      "You should probably TRAIN this model on a down-stream task to be able to use it for predictions and inference.\n",
      "Some weights of RobertaModel were not initialized from the model checkpoint at roberta-large and are newly initialized: ['roberta.pooler.dense.bias', 'roberta.pooler.dense.weight']\n",
      "You should probably TRAIN this model on a down-stream task to be able to use it for predictions and inference.\n",
      "Some weights of RobertaModel were not initialized from the model checkpoint at roberta-large and are newly initialized: ['roberta.pooler.dense.bias', 'roberta.pooler.dense.weight']\n",
      "You should probably TRAIN this model on a down-stream task to be able to use it for predictions and inference.\n",
      "Some weights of RobertaModel were not initialized from the model checkpoint at roberta-large and are newly initialized: ['roberta.pooler.dense.bias', 'roberta.pooler.dense.weight']\n",
      "You should probably TRAIN this model on a down-stream task to be able to use it for predictions and inference.\n",
      "Some weights of RobertaModel were not initialized from the model checkpoint at roberta-large and are newly initialized: ['roberta.pooler.dense.bias', 'roberta.pooler.dense.weight']\n",
      "You should probably TRAIN this model on a down-stream task to be able to use it for predictions and inference.\n",
      "Some weights of RobertaModel were not initialized from the model checkpoint at roberta-large and are newly initialized: ['roberta.pooler.dense.bias', 'roberta.pooler.dense.weight']\n",
      "You should probably TRAIN this model on a down-stream task to be able to use it for predictions and inference.\n",
      "Some weights of RobertaModel were not initialized from the model checkpoint at roberta-large and are newly initialized: ['roberta.pooler.dense.bias', 'roberta.pooler.dense.weight']\n",
      "You should probably TRAIN this model on a down-stream task to be able to use it for predictions and inference.\n",
      "Some weights of RobertaModel were not initialized from the model checkpoint at roberta-large and are newly initialized: ['roberta.pooler.dense.bias', 'roberta.pooler.dense.weight']\n",
      "You should probably TRAIN this model on a down-stream task to be able to use it for predictions and inference.\n",
      "Some weights of RobertaModel were not initialized from the model checkpoint at roberta-large and are newly initialized: ['roberta.pooler.dense.bias', 'roberta.pooler.dense.weight']\n",
      "You should probably TRAIN this model on a down-stream task to be able to use it for predictions and inference.\n",
      "Some weights of RobertaModel were not initialized from the model checkpoint at roberta-large and are newly initialized: ['roberta.pooler.dense.bias', 'roberta.pooler.dense.weight']\n",
      "You should probably TRAIN this model on a down-stream task to be able to use it for predictions and inference.\n",
      "Some weights of RobertaModel were not initialized from the model checkpoint at roberta-large and are newly initialized: ['roberta.pooler.dense.bias', 'roberta.pooler.dense.weight']\n",
      "You should probably TRAIN this model on a down-stream task to be able to use it for predictions and inference.\n",
      "Some weights of RobertaModel were not initialized from the model checkpoint at roberta-large and are newly initialized: ['roberta.pooler.dense.bias', 'roberta.pooler.dense.weight']\n",
      "You should probably TRAIN this model on a down-stream task to be able to use it for predictions and inference.\n",
      "Some weights of RobertaModel were not initialized from the model checkpoint at roberta-large and are newly initialized: ['roberta.pooler.dense.bias', 'roberta.pooler.dense.weight']\n",
      "You should probably TRAIN this model on a down-stream task to be able to use it for predictions and inference.\n",
      "Some weights of RobertaModel were not initialized from the model checkpoint at roberta-large and are newly initialized: ['roberta.pooler.dense.bias', 'roberta.pooler.dense.weight']\n",
      "You should probably TRAIN this model on a down-stream task to be able to use it for predictions and inference.\n",
      "Some weights of RobertaModel were not initialized from the model checkpoint at roberta-large and are newly initialized: ['roberta.pooler.dense.bias', 'roberta.pooler.dense.weight']\n",
      "You should probably TRAIN this model on a down-stream task to be able to use it for predictions and inference.\n",
      "Some weights of RobertaModel were not initialized from the model checkpoint at roberta-large and are newly initialized: ['roberta.pooler.dense.bias', 'roberta.pooler.dense.weight']\n",
      "You should probably TRAIN this model on a down-stream task to be able to use it for predictions and inference.\n",
      "Some weights of RobertaModel were not initialized from the model checkpoint at roberta-large and are newly initialized: ['roberta.pooler.dense.bias', 'roberta.pooler.dense.weight']\n",
      "You should probably TRAIN this model on a down-stream task to be able to use it for predictions and inference.\n",
      "Some weights of RobertaModel were not initialized from the model checkpoint at roberta-large and are newly initialized: ['roberta.pooler.dense.bias', 'roberta.pooler.dense.weight']\n",
      "You should probably TRAIN this model on a down-stream task to be able to use it for predictions and inference.\n",
      "Some weights of RobertaModel were not initialized from the model checkpoint at roberta-large and are newly initialized: ['roberta.pooler.dense.bias', 'roberta.pooler.dense.weight']\n",
      "You should probably TRAIN this model on a down-stream task to be able to use it for predictions and inference.\n",
      "Some weights of RobertaModel were not initialized from the model checkpoint at roberta-large and are newly initialized: ['roberta.pooler.dense.bias', 'roberta.pooler.dense.weight']\n",
      "You should probably TRAIN this model on a down-stream task to be able to use it for predictions and inference.\n",
      "Some weights of RobertaModel were not initialized from the model checkpoint at roberta-large and are newly initialized: ['roberta.pooler.dense.bias', 'roberta.pooler.dense.weight']\n",
      "You should probably TRAIN this model on a down-stream task to be able to use it for predictions and inference.\n",
      "Some weights of RobertaModel were not initialized from the model checkpoint at roberta-large and are newly initialized: ['roberta.pooler.dense.bias', 'roberta.pooler.dense.weight']\n",
      "You should probably TRAIN this model on a down-stream task to be able to use it for predictions and inference.\n",
      "Some weights of RobertaModel were not initialized from the model checkpoint at roberta-large and are newly initialized: ['roberta.pooler.dense.bias', 'roberta.pooler.dense.weight']\n",
      "You should probably TRAIN this model on a down-stream task to be able to use it for predictions and inference.\n",
      "Some weights of RobertaModel were not initialized from the model checkpoint at roberta-large and are newly initialized: ['roberta.pooler.dense.bias', 'roberta.pooler.dense.weight']\n",
      "You should probably TRAIN this model on a down-stream task to be able to use it for predictions and inference.\n",
      "Some weights of RobertaModel were not initialized from the model checkpoint at roberta-large and are newly initialized: ['roberta.pooler.dense.bias', 'roberta.pooler.dense.weight']\n",
      "You should probably TRAIN this model on a down-stream task to be able to use it for predictions and inference.\n",
      "Some weights of RobertaModel were not initialized from the model checkpoint at roberta-large and are newly initialized: ['roberta.pooler.dense.bias', 'roberta.pooler.dense.weight']\n",
      "You should probably TRAIN this model on a down-stream task to be able to use it for predictions and inference.\n",
      "Some weights of RobertaModel were not initialized from the model checkpoint at roberta-large and are newly initialized: ['roberta.pooler.dense.bias', 'roberta.pooler.dense.weight']\n",
      "You should probably TRAIN this model on a down-stream task to be able to use it for predictions and inference.\n",
      "Some weights of RobertaModel were not initialized from the model checkpoint at roberta-large and are newly initialized: ['roberta.pooler.dense.bias', 'roberta.pooler.dense.weight']\n",
      "You should probably TRAIN this model on a down-stream task to be able to use it for predictions and inference.\n"
     ]
    },
    {
     "name": "stderr",
     "output_type": "stream",
     "text": [
      "Some weights of RobertaModel were not initialized from the model checkpoint at roberta-large and are newly initialized: ['roberta.pooler.dense.bias', 'roberta.pooler.dense.weight']\n",
      "You should probably TRAIN this model on a down-stream task to be able to use it for predictions and inference.\n",
      "Some weights of RobertaModel were not initialized from the model checkpoint at roberta-large and are newly initialized: ['roberta.pooler.dense.bias', 'roberta.pooler.dense.weight']\n",
      "You should probably TRAIN this model on a down-stream task to be able to use it for predictions and inference.\n",
      "Some weights of RobertaModel were not initialized from the model checkpoint at roberta-large and are newly initialized: ['roberta.pooler.dense.bias', 'roberta.pooler.dense.weight']\n",
      "You should probably TRAIN this model on a down-stream task to be able to use it for predictions and inference.\n",
      "Some weights of RobertaModel were not initialized from the model checkpoint at roberta-large and are newly initialized: ['roberta.pooler.dense.bias', 'roberta.pooler.dense.weight']\n",
      "You should probably TRAIN this model on a down-stream task to be able to use it for predictions and inference.\n",
      "Some weights of RobertaModel were not initialized from the model checkpoint at roberta-large and are newly initialized: ['roberta.pooler.dense.bias', 'roberta.pooler.dense.weight']\n",
      "You should probably TRAIN this model on a down-stream task to be able to use it for predictions and inference.\n",
      "Some weights of RobertaModel were not initialized from the model checkpoint at roberta-large and are newly initialized: ['roberta.pooler.dense.bias', 'roberta.pooler.dense.weight']\n",
      "You should probably TRAIN this model on a down-stream task to be able to use it for predictions and inference.\n",
      "Some weights of RobertaModel were not initialized from the model checkpoint at roberta-large and are newly initialized: ['roberta.pooler.dense.bias', 'roberta.pooler.dense.weight']\n",
      "You should probably TRAIN this model on a down-stream task to be able to use it for predictions and inference.\n",
      "Some weights of RobertaModel were not initialized from the model checkpoint at roberta-large and are newly initialized: ['roberta.pooler.dense.bias', 'roberta.pooler.dense.weight']\n",
      "You should probably TRAIN this model on a down-stream task to be able to use it for predictions and inference.\n",
      "Some weights of RobertaModel were not initialized from the model checkpoint at roberta-large and are newly initialized: ['roberta.pooler.dense.bias', 'roberta.pooler.dense.weight']\n",
      "You should probably TRAIN this model on a down-stream task to be able to use it for predictions and inference.\n",
      "Some weights of RobertaModel were not initialized from the model checkpoint at roberta-large and are newly initialized: ['roberta.pooler.dense.bias', 'roberta.pooler.dense.weight']\n",
      "You should probably TRAIN this model on a down-stream task to be able to use it for predictions and inference.\n",
      "Some weights of RobertaModel were not initialized from the model checkpoint at roberta-large and are newly initialized: ['roberta.pooler.dense.bias', 'roberta.pooler.dense.weight']\n",
      "You should probably TRAIN this model on a down-stream task to be able to use it for predictions and inference.\n",
      "Some weights of RobertaModel were not initialized from the model checkpoint at roberta-large and are newly initialized: ['roberta.pooler.dense.bias', 'roberta.pooler.dense.weight']\n",
      "You should probably TRAIN this model on a down-stream task to be able to use it for predictions and inference.\n",
      "Some weights of RobertaModel were not initialized from the model checkpoint at roberta-large and are newly initialized: ['roberta.pooler.dense.bias', 'roberta.pooler.dense.weight']\n",
      "You should probably TRAIN this model on a down-stream task to be able to use it for predictions and inference.\n",
      "Some weights of RobertaModel were not initialized from the model checkpoint at roberta-large and are newly initialized: ['roberta.pooler.dense.bias', 'roberta.pooler.dense.weight']\n",
      "You should probably TRAIN this model on a down-stream task to be able to use it for predictions and inference.\n",
      "Some weights of RobertaModel were not initialized from the model checkpoint at roberta-large and are newly initialized: ['roberta.pooler.dense.bias', 'roberta.pooler.dense.weight']\n",
      "You should probably TRAIN this model on a down-stream task to be able to use it for predictions and inference.\n",
      "Some weights of RobertaModel were not initialized from the model checkpoint at roberta-large and are newly initialized: ['roberta.pooler.dense.bias', 'roberta.pooler.dense.weight']\n",
      "You should probably TRAIN this model on a down-stream task to be able to use it for predictions and inference.\n",
      "Some weights of RobertaModel were not initialized from the model checkpoint at roberta-large and are newly initialized: ['roberta.pooler.dense.bias', 'roberta.pooler.dense.weight']\n",
      "You should probably TRAIN this model on a down-stream task to be able to use it for predictions and inference.\n",
      "Some weights of RobertaModel were not initialized from the model checkpoint at roberta-large and are newly initialized: ['roberta.pooler.dense.bias', 'roberta.pooler.dense.weight']\n",
      "You should probably TRAIN this model on a down-stream task to be able to use it for predictions and inference.\n",
      "Some weights of RobertaModel were not initialized from the model checkpoint at roberta-large and are newly initialized: ['roberta.pooler.dense.bias', 'roberta.pooler.dense.weight']\n",
      "You should probably TRAIN this model on a down-stream task to be able to use it for predictions and inference.\n",
      "Some weights of RobertaModel were not initialized from the model checkpoint at roberta-large and are newly initialized: ['roberta.pooler.dense.bias', 'roberta.pooler.dense.weight']\n",
      "You should probably TRAIN this model on a down-stream task to be able to use it for predictions and inference.\n",
      "Some weights of RobertaModel were not initialized from the model checkpoint at roberta-large and are newly initialized: ['roberta.pooler.dense.bias', 'roberta.pooler.dense.weight']\n",
      "You should probably TRAIN this model on a down-stream task to be able to use it for predictions and inference.\n",
      "Some weights of RobertaModel were not initialized from the model checkpoint at roberta-large and are newly initialized: ['roberta.pooler.dense.bias', 'roberta.pooler.dense.weight']\n",
      "You should probably TRAIN this model on a down-stream task to be able to use it for predictions and inference.\n",
      "Some weights of RobertaModel were not initialized from the model checkpoint at roberta-large and are newly initialized: ['roberta.pooler.dense.bias', 'roberta.pooler.dense.weight']\n",
      "You should probably TRAIN this model on a down-stream task to be able to use it for predictions and inference.\n",
      "Some weights of RobertaModel were not initialized from the model checkpoint at roberta-large and are newly initialized: ['roberta.pooler.dense.bias', 'roberta.pooler.dense.weight']\n",
      "You should probably TRAIN this model on a down-stream task to be able to use it for predictions and inference.\n",
      "Some weights of RobertaModel were not initialized from the model checkpoint at roberta-large and are newly initialized: ['roberta.pooler.dense.bias', 'roberta.pooler.dense.weight']\n",
      "You should probably TRAIN this model on a down-stream task to be able to use it for predictions and inference.\n",
      "Some weights of RobertaModel were not initialized from the model checkpoint at roberta-large and are newly initialized: ['roberta.pooler.dense.bias', 'roberta.pooler.dense.weight']\n",
      "You should probably TRAIN this model on a down-stream task to be able to use it for predictions and inference.\n",
      "Some weights of RobertaModel were not initialized from the model checkpoint at roberta-large and are newly initialized: ['roberta.pooler.dense.bias', 'roberta.pooler.dense.weight']\n",
      "You should probably TRAIN this model on a down-stream task to be able to use it for predictions and inference.\n",
      "Some weights of RobertaModel were not initialized from the model checkpoint at roberta-large and are newly initialized: ['roberta.pooler.dense.bias', 'roberta.pooler.dense.weight']\n",
      "You should probably TRAIN this model on a down-stream task to be able to use it for predictions and inference.\n",
      "Some weights of RobertaModel were not initialized from the model checkpoint at roberta-large and are newly initialized: ['roberta.pooler.dense.bias', 'roberta.pooler.dense.weight']\n",
      "You should probably TRAIN this model on a down-stream task to be able to use it for predictions and inference.\n"
     ]
    },
    {
     "name": "stderr",
     "output_type": "stream",
     "text": [
      "Some weights of RobertaModel were not initialized from the model checkpoint at roberta-large and are newly initialized: ['roberta.pooler.dense.bias', 'roberta.pooler.dense.weight']\n",
      "You should probably TRAIN this model on a down-stream task to be able to use it for predictions and inference.\n",
      "Some weights of RobertaModel were not initialized from the model checkpoint at roberta-large and are newly initialized: ['roberta.pooler.dense.bias', 'roberta.pooler.dense.weight']\n",
      "You should probably TRAIN this model on a down-stream task to be able to use it for predictions and inference.\n",
      "Some weights of RobertaModel were not initialized from the model checkpoint at roberta-large and are newly initialized: ['roberta.pooler.dense.bias', 'roberta.pooler.dense.weight']\n",
      "You should probably TRAIN this model on a down-stream task to be able to use it for predictions and inference.\n",
      "Some weights of RobertaModel were not initialized from the model checkpoint at roberta-large and are newly initialized: ['roberta.pooler.dense.bias', 'roberta.pooler.dense.weight']\n",
      "You should probably TRAIN this model on a down-stream task to be able to use it for predictions and inference.\n",
      "Some weights of RobertaModel were not initialized from the model checkpoint at roberta-large and are newly initialized: ['roberta.pooler.dense.bias', 'roberta.pooler.dense.weight']\n",
      "You should probably TRAIN this model on a down-stream task to be able to use it for predictions and inference.\n",
      "Some weights of RobertaModel were not initialized from the model checkpoint at roberta-large and are newly initialized: ['roberta.pooler.dense.bias', 'roberta.pooler.dense.weight']\n",
      "You should probably TRAIN this model on a down-stream task to be able to use it for predictions and inference.\n",
      "Some weights of RobertaModel were not initialized from the model checkpoint at roberta-large and are newly initialized: ['roberta.pooler.dense.bias', 'roberta.pooler.dense.weight']\n",
      "You should probably TRAIN this model on a down-stream task to be able to use it for predictions and inference.\n",
      "Some weights of RobertaModel were not initialized from the model checkpoint at roberta-large and are newly initialized: ['roberta.pooler.dense.bias', 'roberta.pooler.dense.weight']\n",
      "You should probably TRAIN this model on a down-stream task to be able to use it for predictions and inference.\n",
      "Some weights of RobertaModel were not initialized from the model checkpoint at roberta-large and are newly initialized: ['roberta.pooler.dense.bias', 'roberta.pooler.dense.weight']\n",
      "You should probably TRAIN this model on a down-stream task to be able to use it for predictions and inference.\n",
      "Some weights of RobertaModel were not initialized from the model checkpoint at roberta-large and are newly initialized: ['roberta.pooler.dense.bias', 'roberta.pooler.dense.weight']\n",
      "You should probably TRAIN this model on a down-stream task to be able to use it for predictions and inference.\n",
      "Some weights of RobertaModel were not initialized from the model checkpoint at roberta-large and are newly initialized: ['roberta.pooler.dense.bias', 'roberta.pooler.dense.weight']\n",
      "You should probably TRAIN this model on a down-stream task to be able to use it for predictions and inference.\n",
      "Some weights of RobertaModel were not initialized from the model checkpoint at roberta-large and are newly initialized: ['roberta.pooler.dense.bias', 'roberta.pooler.dense.weight']\n",
      "You should probably TRAIN this model on a down-stream task to be able to use it for predictions and inference.\n",
      "Some weights of RobertaModel were not initialized from the model checkpoint at roberta-large and are newly initialized: ['roberta.pooler.dense.bias', 'roberta.pooler.dense.weight']\n",
      "You should probably TRAIN this model on a down-stream task to be able to use it for predictions and inference.\n",
      "Some weights of RobertaModel were not initialized from the model checkpoint at roberta-large and are newly initialized: ['roberta.pooler.dense.bias', 'roberta.pooler.dense.weight']\n",
      "You should probably TRAIN this model on a down-stream task to be able to use it for predictions and inference.\n",
      "Some weights of RobertaModel were not initialized from the model checkpoint at roberta-large and are newly initialized: ['roberta.pooler.dense.bias', 'roberta.pooler.dense.weight']\n",
      "You should probably TRAIN this model on a down-stream task to be able to use it for predictions and inference.\n",
      "Some weights of RobertaModel were not initialized from the model checkpoint at roberta-large and are newly initialized: ['roberta.pooler.dense.bias', 'roberta.pooler.dense.weight']\n",
      "You should probably TRAIN this model on a down-stream task to be able to use it for predictions and inference.\n",
      "Some weights of RobertaModel were not initialized from the model checkpoint at roberta-large and are newly initialized: ['roberta.pooler.dense.bias', 'roberta.pooler.dense.weight']\n",
      "You should probably TRAIN this model on a down-stream task to be able to use it for predictions and inference.\n",
      "Some weights of RobertaModel were not initialized from the model checkpoint at roberta-large and are newly initialized: ['roberta.pooler.dense.bias', 'roberta.pooler.dense.weight']\n",
      "You should probably TRAIN this model on a down-stream task to be able to use it for predictions and inference.\n",
      "Some weights of RobertaModel were not initialized from the model checkpoint at roberta-large and are newly initialized: ['roberta.pooler.dense.bias', 'roberta.pooler.dense.weight']\n",
      "You should probably TRAIN this model on a down-stream task to be able to use it for predictions and inference.\n",
      "Some weights of RobertaModel were not initialized from the model checkpoint at roberta-large and are newly initialized: ['roberta.pooler.dense.bias', 'roberta.pooler.dense.weight']\n",
      "You should probably TRAIN this model on a down-stream task to be able to use it for predictions and inference.\n",
      "Some weights of RobertaModel were not initialized from the model checkpoint at roberta-large and are newly initialized: ['roberta.pooler.dense.bias', 'roberta.pooler.dense.weight']\n",
      "You should probably TRAIN this model on a down-stream task to be able to use it for predictions and inference.\n",
      "Some weights of RobertaModel were not initialized from the model checkpoint at roberta-large and are newly initialized: ['roberta.pooler.dense.bias', 'roberta.pooler.dense.weight']\n",
      "You should probably TRAIN this model on a down-stream task to be able to use it for predictions and inference.\n",
      "Some weights of RobertaModel were not initialized from the model checkpoint at roberta-large and are newly initialized: ['roberta.pooler.dense.bias', 'roberta.pooler.dense.weight']\n",
      "You should probably TRAIN this model on a down-stream task to be able to use it for predictions and inference.\n",
      "Some weights of RobertaModel were not initialized from the model checkpoint at roberta-large and are newly initialized: ['roberta.pooler.dense.bias', 'roberta.pooler.dense.weight']\n",
      "You should probably TRAIN this model on a down-stream task to be able to use it for predictions and inference.\n",
      "Some weights of RobertaModel were not initialized from the model checkpoint at roberta-large and are newly initialized: ['roberta.pooler.dense.bias', 'roberta.pooler.dense.weight']\n",
      "You should probably TRAIN this model on a down-stream task to be able to use it for predictions and inference.\n",
      "Some weights of RobertaModel were not initialized from the model checkpoint at roberta-large and are newly initialized: ['roberta.pooler.dense.bias', 'roberta.pooler.dense.weight']\n",
      "You should probably TRAIN this model on a down-stream task to be able to use it for predictions and inference.\n",
      "Some weights of RobertaModel were not initialized from the model checkpoint at roberta-large and are newly initialized: ['roberta.pooler.dense.bias', 'roberta.pooler.dense.weight']\n",
      "You should probably TRAIN this model on a down-stream task to be able to use it for predictions and inference.\n",
      "Some weights of RobertaModel were not initialized from the model checkpoint at roberta-large and are newly initialized: ['roberta.pooler.dense.bias', 'roberta.pooler.dense.weight']\n",
      "You should probably TRAIN this model on a down-stream task to be able to use it for predictions and inference.\n",
      "Some weights of RobertaModel were not initialized from the model checkpoint at roberta-large and are newly initialized: ['roberta.pooler.dense.bias', 'roberta.pooler.dense.weight']\n",
      "You should probably TRAIN this model on a down-stream task to be able to use it for predictions and inference.\n"
     ]
    },
    {
     "name": "stderr",
     "output_type": "stream",
     "text": [
      "Some weights of RobertaModel were not initialized from the model checkpoint at roberta-large and are newly initialized: ['roberta.pooler.dense.bias', 'roberta.pooler.dense.weight']\n",
      "You should probably TRAIN this model on a down-stream task to be able to use it for predictions and inference.\n",
      "Some weights of RobertaModel were not initialized from the model checkpoint at roberta-large and are newly initialized: ['roberta.pooler.dense.bias', 'roberta.pooler.dense.weight']\n",
      "You should probably TRAIN this model on a down-stream task to be able to use it for predictions and inference.\n",
      "Some weights of RobertaModel were not initialized from the model checkpoint at roberta-large and are newly initialized: ['roberta.pooler.dense.bias', 'roberta.pooler.dense.weight']\n",
      "You should probably TRAIN this model on a down-stream task to be able to use it for predictions and inference.\n",
      "Some weights of RobertaModel were not initialized from the model checkpoint at roberta-large and are newly initialized: ['roberta.pooler.dense.bias', 'roberta.pooler.dense.weight']\n",
      "You should probably TRAIN this model on a down-stream task to be able to use it for predictions and inference.\n",
      "Some weights of RobertaModel were not initialized from the model checkpoint at roberta-large and are newly initialized: ['roberta.pooler.dense.bias', 'roberta.pooler.dense.weight']\n",
      "You should probably TRAIN this model on a down-stream task to be able to use it for predictions and inference.\n",
      "Some weights of RobertaModel were not initialized from the model checkpoint at roberta-large and are newly initialized: ['roberta.pooler.dense.bias', 'roberta.pooler.dense.weight']\n",
      "You should probably TRAIN this model on a down-stream task to be able to use it for predictions and inference.\n",
      "Some weights of RobertaModel were not initialized from the model checkpoint at roberta-large and are newly initialized: ['roberta.pooler.dense.bias', 'roberta.pooler.dense.weight']\n",
      "You should probably TRAIN this model on a down-stream task to be able to use it for predictions and inference.\n"
     ]
    }
   ],
   "source": [
    "precisions=[]\n",
    "recallls=[]\n",
    "fmeasures=[]\n",
    "for ref,candidate in zip(relevent_llm_responses['ref_answer'],relevent_llm_responses['llm_response']):\n",
    "        result = bert_score(ref,candidate)\n",
    "        precisions.append(result[0].item()) \n",
    "        recallls.append(result[1].item())\n",
    "        fmeasures.append(result[2].item())"
   ]
  },
  {
   "cell_type": "code",
   "execution_count": 201,
   "id": "8421cbcc",
   "metadata": {},
   "outputs": [],
   "source": [
    "t_d = pd.DataFrame({'chunk_type':relevent_llm_responses['chunk_type'],'precision':precisions,'recall':recallls,'fmeasure':fmeasures})"
   ]
  },
  {
   "cell_type": "code",
   "execution_count": 203,
   "id": "a1ebdb1e",
   "metadata": {},
   "outputs": [
    {
     "data": {
      "text/html": [
       "<div>\n",
       "<style scoped>\n",
       "    .dataframe tbody tr th:only-of-type {\n",
       "        vertical-align: middle;\n",
       "    }\n",
       "\n",
       "    .dataframe tbody tr th {\n",
       "        vertical-align: top;\n",
       "    }\n",
       "\n",
       "    .dataframe thead th {\n",
       "        text-align: right;\n",
       "    }\n",
       "</style>\n",
       "<table border=\"1\" class=\"dataframe\">\n",
       "  <thead>\n",
       "    <tr style=\"text-align: right;\">\n",
       "      <th></th>\n",
       "      <th>chunk_type</th>\n",
       "      <th>mean_precision</th>\n",
       "      <th>mean_recall</th>\n",
       "      <th>mean_fmeasure</th>\n",
       "      <th>chunk_count</th>\n",
       "    </tr>\n",
       "  </thead>\n",
       "  <tbody>\n",
       "    <tr>\n",
       "      <th>0</th>\n",
       "      <td>LARGE</td>\n",
       "      <td>0.884297</td>\n",
       "      <td>0.896317</td>\n",
       "      <td>0.889839</td>\n",
       "      <td>72</td>\n",
       "    </tr>\n",
       "    <tr>\n",
       "      <th>1</th>\n",
       "      <td>MEDIUM</td>\n",
       "      <td>0.882737</td>\n",
       "      <td>0.892760</td>\n",
       "      <td>0.887348</td>\n",
       "      <td>75</td>\n",
       "    </tr>\n",
       "    <tr>\n",
       "      <th>2</th>\n",
       "      <td>PAGE</td>\n",
       "      <td>0.896008</td>\n",
       "      <td>0.909695</td>\n",
       "      <td>0.902371</td>\n",
       "      <td>78</td>\n",
       "    </tr>\n",
       "    <tr>\n",
       "      <th>3</th>\n",
       "      <td>SMALL</td>\n",
       "      <td>0.894369</td>\n",
       "      <td>0.902984</td>\n",
       "      <td>0.898220</td>\n",
       "      <td>72</td>\n",
       "    </tr>\n",
       "  </tbody>\n",
       "</table>\n",
       "</div>"
      ],
      "text/plain": [
       "  chunk_type  mean_precision  mean_recall  mean_fmeasure  chunk_count\n",
       "0      LARGE        0.884297     0.896317       0.889839           72\n",
       "1     MEDIUM        0.882737     0.892760       0.887348           75\n",
       "2       PAGE        0.896008     0.909695       0.902371           78\n",
       "3      SMALL        0.894369     0.902984       0.898220           72"
      ]
     },
     "execution_count": 203,
     "metadata": {},
     "output_type": "execute_result"
    }
   ],
   "source": [
    "summary_bert = t_d.groupby('chunk_type').agg(\n",
    "    mean_precision=('precision', 'mean'),\n",
    "    mean_recall=('recall', 'mean'),\n",
    "    mean_fmeasure=('fmeasure', 'mean'),\n",
    "    chunk_count=('chunk_type', 'count')\n",
    ").reset_index()\n",
    "summary_bert"
   ]
  },
  {
   "cell_type": "code",
   "execution_count": 208,
   "id": "41121acc",
   "metadata": {},
   "outputs": [
    {
     "data": {
      "image/png": "[encoded data removed]",
      "text/plain": [
       "<Figure size 600x500 with 1 Axes>"
      ]
     },
     "metadata": {},
     "output_type": "display_data"
    }
   ],
   "source": [
    "x = np.arange(len(summary_rouge1['chunk_type']))  # Label locations\n",
    "width = 0.25  # Width of the bars\n",
    "\n",
    "# Plot each metric as separate bars\n",
    "plt.figure(figsize=(6, 5))\n",
    "precision_bars = plt.bar(x - width, summary_bert['mean_precision'], width, label='Precision', alpha=0.7,color='gray')\n",
    "recall_bars = plt.bar(x, summary_bert['mean_recall'], width, label='Recall', alpha=0.7,color='red')\n",
    "fmeasure_bars = plt.bar(x + width, summary_bert['mean_fmeasure'], width, label='F-Measure', alpha=0.7,color='blue')\n",
    "\n",
    "# Add annotations for Precision bars\n",
    "for bar, value in zip(precision_bars, summary_bert['mean_precision']):\n",
    "    plt.text(bar.get_x() + bar.get_width() / 2, bar.get_height() / 2,  # Middle of the bar\n",
    "             f'{value:.2f}', ha='center', va='center', fontsize=10, color='black')\n",
    "\n",
    "# Add annotations for Recall bars\n",
    "for bar, value in zip(recall_bars, summary_bert['mean_recall']):\n",
    "    plt.text(bar.get_x() + bar.get_width() / 2, bar.get_height() / 2,  # Middle of the bar\n",
    "             f'{value:.2f}', ha='center', va='center', fontsize=10, color='black')\n",
    "\n",
    "# Add annotations for F-Measure bars\n",
    "for bar, value in zip(fmeasure_bars, summary_bert['mean_fmeasure']):\n",
    "    plt.text(bar.get_x() + bar.get_width() / 2, bar.get_height() / 2,  # Middle of the bar\n",
    "             f'{value:.2f}', ha='center', va='center', fontsize=10, color='black')\n",
    "\n",
    "# Customize the plot\n",
    "plt.title('BERTScore: Precision, Recall, and F-Measure by Chunk Type')\n",
    "plt.xlabel('Chunk Type')\n",
    "plt.ylabel('Metrics')\n",
    "plt.xticks(x, summary_rouge1['chunk_type'], rotation=45)\n",
    "plt.legend()\n",
    "plt.tight_layout()\n",
    "\n",
    "# Show the plot\n",
    "plt.show()\n"
   ]
  }
 ],
 "metadata": {
  "kernelspec": {
   "display_name": "Python 3 (ipykernel)",
   "language": "python",
   "name": "python3"
  },
  "language_info": {
   "codemirror_mode": {
    "name": "ipython",
    "version": 3
   },
   "file_extension": ".py",
   "mimetype": "text/x-python",
   "name": "python",
   "nbconvert_exporter": "python",
   "pygments_lexer": "ipython3",
   "version": "3.9.13"
  }
 },
 "nbformat": 4,
 "nbformat_minor": 5
}
