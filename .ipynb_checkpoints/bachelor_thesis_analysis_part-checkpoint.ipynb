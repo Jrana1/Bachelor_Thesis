{
 "cells": [
  {
   "cell_type": "markdown",
   "id": "bd2900fa",
   "metadata": {},
   "source": [
    "<h1 style=\"color: blue; text-align:center\">Evaluating the Role of Chunk Size in Retrieval-Augmented Generation (RAG)</h1>\n"
   ]
  },
  {
   "cell_type": "markdown",
   "id": "58160494",
   "metadata": {},
   "source": [
    "<h2 style=\"text-align:center;color:green\">Methodology<h2>"
   ]
  },
  {
   "cell_type": "markdown",
   "id": "99782799",
   "metadata": {},
   "source": [
    "## RAG Architecture"
   ]
  },
  {
   "cell_type": "markdown",
   "id": "c4b49619",
   "metadata": {},
   "source": [
    "![](https://substackcdn.com/image/fetch/f_auto,q_auto:good,fl_progressive:steep/https%3A%2F%2Fsubstack-post-media.s3.amazonaws.com%2Fpublic%2Fimages%2Ff90434a2-7f75-4c16-8461-d1efed5939d0_1380x730.png)"
   ]
  },
  {
   "cell_type": "markdown",
   "id": "3bae347d",
   "metadata": {},
   "source": [
    "### import required libraries"
   ]
  },
  {
   "cell_type": "code",
   "execution_count": 84,
   "id": "70e3d3a4",
   "metadata": {},
   "outputs": [],
   "source": [
    "from datasets import load_dataset\n",
    "import pandas as pd\n",
    "import numpy as np\n",
    "from langchain.text_splitter import RecursiveCharacterTextSplitter\n",
    "import requests\n",
    "import matplotlib.pyplot as plt\n",
    "from langchain_openai import ChatOpenAI\n",
    "import os\n",
    "from langchain.prompts import ChatPromptTemplate, HumanMessagePromptTemplate\n",
    "import json"
   ]
  },
  {
   "cell_type": "markdown",
   "id": "76e344ba",
   "metadata": {},
   "source": [
    "# Preparing the Knowledge Base"
   ]
  },
  {
   "cell_type": "markdown",
   "id": "9309f48b",
   "metadata": {},
   "source": [
    "## Select Dataset"
   ]
  },
  {
   "cell_type": "markdown",
   "id": "36e2d234",
   "metadata": {},
   "source": [
    "The **\"christti/squad-augmented-v2\"** dataset builds on the Stanford Question Answering Dataset (SQuAD) and includes diverse, human-curated passages with associated questions and answers. It provides rich, semantically coherent contexts spanning various topics, making it ideal for tasks like question answering and retrieval-based systems."
   ]
  },
  {
   "cell_type": "markdown",
   "id": "0ea54b24",
   "metadata": {},
   "source": [
    "## Why this Dataset\n",
    " + **Diverse Topics:** The dataset covers a wide range of subjects, ensuring a comprehensive and heterogeneous knowledge base.\n",
    " + **Rich Contexts:** High-quality passages are well-suited for chunking experiments without losing semantic integrity.\n",
    " + **Real-World Relevance:** Designed around real-world use cases, it aligns closely with typical RAG applications.\n",
    " + **Benchmark Quality:** Widely recognized in NLP research, it ensures credibility and comparability of results.\n",
    " + **Ease of Use:** Its structured format simplifies preprocessing and knowledge base construction."
   ]
  },
  {
   "cell_type": "markdown",
   "id": "90e59e53",
   "metadata": {},
   "source": [
    "## Construct the corpus"
   ]
  },
  {
   "cell_type": "markdown",
   "id": "32199783",
   "metadata": {},
   "source": [
    "### import the dataset"
   ]
  },
  {
   "cell_type": "code",
   "execution_count": 3,
   "id": "143012ed",
   "metadata": {},
   "outputs": [],
   "source": [
    "ds = load_dataset(\"christti/squad-augmented-v2\")\n",
    "df = pd.DataFrame(ds[\"train\"])"
   ]
  },
  {
   "cell_type": "code",
   "execution_count": 7,
   "id": "471fdbd3",
   "metadata": {},
   "outputs": [
    {
     "data": {
      "text/plain": [
       "(169211, 5)"
      ]
     },
     "execution_count": 7,
     "metadata": {},
     "output_type": "execute_result"
    }
   ],
   "source": [
    "df.shape"
   ]
  },
  {
   "cell_type": "code",
   "execution_count": 7,
   "id": "d49a3fef",
   "metadata": {},
   "outputs": [
    {
     "data": {
      "text/plain": [
       "(100132,)"
      ]
     },
     "execution_count": 7,
     "metadata": {},
     "output_type": "execute_result"
    }
   ],
   "source": [
    "df['context'].unique().shape"
   ]
  },
  {
   "cell_type": "markdown",
   "id": "b4f6c750",
   "metadata": {},
   "source": [
    "the dataset contains huge number of rows. for the limitation of computational power we use only first **5000** rows from the dataset."
   ]
  },
  {
   "cell_type": "code",
   "execution_count": 8,
   "id": "dd8bbd69",
   "metadata": {
    "scrolled": false
   },
   "outputs": [
    {
     "data": {
      "text/html": [
       "<div>\n",
       "<style scoped>\n",
       "    .dataframe tbody tr th:only-of-type {\n",
       "        vertical-align: middle;\n",
       "    }\n",
       "\n",
       "    .dataframe tbody tr th {\n",
       "        vertical-align: top;\n",
       "    }\n",
       "\n",
       "    .dataframe thead th {\n",
       "        text-align: right;\n",
       "    }\n",
       "</style>\n",
       "<table border=\"1\" class=\"dataframe\">\n",
       "  <thead>\n",
       "    <tr style=\"text-align: right;\">\n",
       "      <th></th>\n",
       "      <th>id</th>\n",
       "      <th>title</th>\n",
       "      <th>context</th>\n",
       "      <th>question</th>\n",
       "      <th>answers</th>\n",
       "    </tr>\n",
       "  </thead>\n",
       "  <tbody>\n",
       "    <tr>\n",
       "      <th>0</th>\n",
       "      <td>5733be284776f41900661182</td>\n",
       "      <td>University_of_Notre_Dame</td>\n",
       "      <td>Architecturally, the school has a Catholic cha...</td>\n",
       "      <td>To whom did the Virgin Mary allegedly appear i...</td>\n",
       "      <td>{'text': ['Saint Bernadette Soubirous'], 'answ...</td>\n",
       "    </tr>\n",
       "    <tr>\n",
       "      <th>1</th>\n",
       "      <td>5733be284776f4190066117f</td>\n",
       "      <td>University_of_Notre_Dame</td>\n",
       "      <td>Architecturally, the school has a Catholic cha...</td>\n",
       "      <td>What is in front of the Notre Dame Main Building?</td>\n",
       "      <td>{'text': ['a copper statue of Christ'], 'answe...</td>\n",
       "    </tr>\n",
       "    <tr>\n",
       "      <th>2</th>\n",
       "      <td>5733be284776f41900661180</td>\n",
       "      <td>University_of_Notre_Dame</td>\n",
       "      <td>Architecturally, the school has a Catholic cha...</td>\n",
       "      <td>The Basilica of the Sacred heart at Notre Dame...</td>\n",
       "      <td>{'text': ['the Main Building'], 'answer_start'...</td>\n",
       "    </tr>\n",
       "  </tbody>\n",
       "</table>\n",
       "</div>"
      ],
      "text/plain": [
       "                         id                     title  \\\n",
       "0  5733be284776f41900661182  University_of_Notre_Dame   \n",
       "1  5733be284776f4190066117f  University_of_Notre_Dame   \n",
       "2  5733be284776f41900661180  University_of_Notre_Dame   \n",
       "\n",
       "                                             context  \\\n",
       "0  Architecturally, the school has a Catholic cha...   \n",
       "1  Architecturally, the school has a Catholic cha...   \n",
       "2  Architecturally, the school has a Catholic cha...   \n",
       "\n",
       "                                            question  \\\n",
       "0  To whom did the Virgin Mary allegedly appear i...   \n",
       "1  What is in front of the Notre Dame Main Building?   \n",
       "2  The Basilica of the Sacred heart at Notre Dame...   \n",
       "\n",
       "                                             answers  \n",
       "0  {'text': ['Saint Bernadette Soubirous'], 'answ...  \n",
       "1  {'text': ['a copper statue of Christ'], 'answe...  \n",
       "2  {'text': ['the Main Building'], 'answer_start'...  "
      ]
     },
     "execution_count": 8,
     "metadata": {},
     "output_type": "execute_result"
    }
   ],
   "source": [
    "df = pd.DataFrame(ds[\"train\"][:5000])\n",
    "df.head(3)"
   ]
  },
  {
   "cell_type": "markdown",
   "id": "68d46171",
   "metadata": {},
   "source": [
    "Each row contains  **context**, **question** and **answer**"
   ]
  },
  {
   "cell_type": "markdown",
   "id": "4409cf20",
   "metadata": {},
   "source": [
    "### Select first 820 contexts"
   ]
  },
  {
   "cell_type": "code",
   "execution_count": 9,
   "id": "bc33fc63",
   "metadata": {},
   "outputs": [],
   "source": [
    "contexts = df['context'].unique()"
   ]
  },
  {
   "cell_type": "code",
   "execution_count": 10,
   "id": "c5d0994a",
   "metadata": {},
   "outputs": [
    {
     "data": {
      "text/plain": [
       "(820,)"
      ]
     },
     "execution_count": 10,
     "metadata": {},
     "output_type": "execute_result"
    }
   ],
   "source": [
    "contexts.shape"
   ]
  },
  {
   "cell_type": "markdown",
   "id": "f6fb0cef",
   "metadata": {},
   "source": [
    "there are 820 different contexts"
   ]
  },
  {
   "cell_type": "markdown",
   "id": "7f9afc71",
   "metadata": {},
   "source": [
    "### Concatenate all the contexts to create a unified knowledge base or corpus."
   ]
  },
  {
   "cell_type": "code",
   "execution_count": 12,
   "id": "db0f6849",
   "metadata": {},
   "outputs": [],
   "source": [
    "corpus = ' '.join([context for context in contexts])"
   ]
  },
  {
   "cell_type": "code",
   "execution_count": 14,
   "id": "ca690f9e",
   "metadata": {},
   "outputs": [
    {
     "data": {
      "text/plain": [
       "600535"
      ]
     },
     "execution_count": 14,
     "metadata": {},
     "output_type": "execute_result"
    }
   ],
   "source": [
    "len(corpus)"
   ]
  },
  {
   "cell_type": "code",
   "execution_count": 15,
   "id": "c57bf815",
   "metadata": {},
   "outputs": [
    {
     "data": {
      "text/plain": [
       "96449"
      ]
     },
     "execution_count": 15,
     "metadata": {},
     "output_type": "execute_result"
    }
   ],
   "source": [
    "len(corpus.split(\" \"))"
   ]
  },
  {
   "cell_type": "markdown",
   "id": "d2b161e0",
   "metadata": {},
   "source": [
    "96449 words"
   ]
  },
  {
   "cell_type": "markdown",
   "id": "4102c8b2",
   "metadata": {},
   "source": [
    "## Chunking Strategy"
   ]
  },
  {
   "cell_type": "markdown",
   "id": "b8262890",
   "metadata": {},
   "source": [
    "## Select Chunk Size"
   ]
  },
  {
   "cell_type": "markdown",
   "id": "d40800c1",
   "metadata": {},
   "source": [
    "Now the corpus will be divided into different chunk size. We will consider 4 type of chunk type.\n",
    "   + page\n",
    "   + small \n",
    "   + medium \n",
    "   + large "
   ]
  },
  {
   "cell_type": "markdown",
   "id": "177911e8",
   "metadata": {},
   "source": [
    "in the dataset we have seen each row has a context. so we will consider each context as a page. this is also one of the popular chunking strategy. for getting optimal chunk size for **small, medium and large** let analyse the length of each context.  "
   ]
  },
  {
   "cell_type": "markdown",
   "id": "cbaf0660",
   "metadata": {},
   "source": [
    "### Analyze length of contexts\n",
    "For the sake of defining chunk sizes for small, medium, and large, the lengths of contexts in the dataset were analyzed.<br>\n",
    "A descriptive statistical analysis of the character lengths was performed, which reveals the following:"
   ]
  },
  {
   "cell_type": "code",
   "execution_count": 22,
   "id": "3e743297",
   "metadata": {
    "scrolled": true
   },
   "outputs": [
    {
     "data": {
      "text/plain": [
       "count     820.000000\n",
       "mean      731.360976\n",
       "std       358.499497\n",
       "min       154.000000\n",
       "25%       468.750000\n",
       "50%       667.000000\n",
       "75%       912.500000\n",
       "max      3076.000000\n",
       "dtype: float64"
      ]
     },
     "execution_count": 22,
     "metadata": {},
     "output_type": "execute_result"
    }
   ],
   "source": [
    "pd.Series(df['context'].unique()).str.len().describe()"
   ]
  },
  {
   "cell_type": "markdown",
   "id": "8808013c",
   "metadata": {},
   "source": [
    "Based on the analysis: <br>\n",
    "**Small Chunk:** ~250–500 characters. This covers short passages, ideally capturing documents around the 25th percentile.<br>\n",
    "**Medium Chunk:** ~500–800 characters. This aligns with documents near the mean and median length.<br>\n",
    "**Large Chunk:** ~800–1,200 characters or even up to 1,500 characters. This range would cover longer documents that approach the 75th percentile or exceed the mean.<br>\n",
    "**Set Chunk Overlaps:** Since we may need overlapping text for context (e.g., sentence continuity), we use overlaps of around 10–20% of each chunk size:<br>\n",
    "**Small chunks:** ~50–100 characters overlap<br>\n",
    "**Medium chunks:** ~100–150 characters overlap<br>\n",
    "**Large chunks:** ~150–200 characters overlap<br>"
   ]
  },
  {
   "cell_type": "markdown",
   "id": "271d773c",
   "metadata": {},
   "source": [
    "## Store all the chunks of each chunk type in a table in Database"
   ]
  },
  {
   "cell_type": "markdown",
   "id": "49040e95",
   "metadata": {},
   "source": [
    "### create chunks for each chunk size"
   ]
  },
  {
   "cell_type": "markdown",
   "id": "bb4f7cf4",
   "metadata": {},
   "source": [
    "<code>get_chunks_by_size()</code> function is used to devide the **knowledge base or corpus** into chunks of given chunk size and  overlap."
   ]
  },
  {
   "cell_type": "code",
   "execution_count": null,
   "id": "04756a14",
   "metadata": {},
   "outputs": [],
   "source": [
    "def get_chunks_by_size(chunk_size: int, overlap: int, corpus: str):\n",
    "    chunk_splitter = RecursiveCharacterTextSplitter(\n",
    "        chunk_size=chunk_size, chunk_overlap=overlap\n",
    "    )\n",
    "    return chunk_splitter.split_text(corpus)"
   ]
  },
  {
   "cell_type": "markdown",
   "id": "c7acae7c",
   "metadata": {},
   "source": [
    "## Table for storing chunks in DB\n",
    "I have created a table in my local Database for storing all the chunks of each chunk type and their corresponding embeddings. The database table looks like, "
   ]
  },
  {
   "cell_type": "markdown",
   "id": "58130057",
   "metadata": {},
   "source": [
    "### Table: text_vectors\n",
    "\n",
    "| Field      | Type                                  | Null | Key | Default | Extra          |\n",
    "|------------|---------------------------------------|------|-----|---------|----------------|\n",
    "| id         | int                                   | NO   | PRI | NULL    | auto_increment |\n",
    "| chunk_text | text                                  | YES  |     | NULL    |                |\n",
    "| chunk_type | enum('PAGE','SMALL','MEDIUM','LARGE') | NO   |     | NULL    |                |\n",
    "| embedding  | blob                                  | YES  |     | NULL    |                |\n"
   ]
  },
  {
   "cell_type": "markdown",
   "id": "26f564f3",
   "metadata": {},
   "source": [
    "## Calculate embeddings for each chunk\n",
    "After getting chunks from <code>get_chunks_by_size()</code> function, we can calculate their embeddings. But before calculating embeddings one of the most important step is **Text Preprocessing**. The following steps are included in **Text Preprocessing**."
   ]
  },
  {
   "cell_type": "markdown",
   "id": "39830761",
   "metadata": {},
   "source": [
    "### Text Preprocessing"
   ]
  },
  {
   "cell_type": "code",
   "execution_count": 25,
   "id": "f5138d85",
   "metadata": {},
   "outputs": [],
   "source": [
    "def text_preprocessing(text):\n",
    "    \"\"\"\n",
    "    Apply all preprocessing functions to the input text.\n",
    "    \"\"\"\n",
    "    # Step 1: Remove HTML tags\n",
    "    text = removeHTMLTags(text)\n",
    "    \n",
    "    # Step 2: Remove URLs\n",
    "    text = removeURL(text)\n",
    "    \n",
    "    # Step 3: Remove punctuation\n",
    "    text = remove_punctuation(text)\n",
    "    \n",
    "    # Step 4: Remove stopwords\n",
    "    text = remove_stopwords(text)\n",
    "    \n",
    "    # Step 5: stemming\n",
    "    text = stem_word(text)\n",
    "    \n",
    "    # Step 6: lemmatization\n",
    "    text = lemmatize_text(text)\n",
    "    return text"
   ]
  },
  {
   "cell_type": "markdown",
   "id": "668900d2",
   "metadata": {},
   "source": [
    "After text preprocessing the chunks are ready to be converted into vector. <code>get_embeddings()</code> function is used to calculate embeddings for each chunk."
   ]
  },
  {
   "cell_type": "code",
   "execution_count": null,
   "id": "57a353fc",
   "metadata": {},
   "outputs": [],
   "source": [
    "def get_embeddings(text):\n",
    "    model = SentenceTransformer(\"all-MiniLM-L6-v2\")\n",
    "    vector = model.encode(text)\n",
    "    pickled_vector = pickle.dumps(vector)\n",
    "    return pickled_vector"
   ]
  },
  {
   "cell_type": "markdown",
   "id": "4921d9ae",
   "metadata": {},
   "source": [
    "After calculating embeddings all the chunks are stored in <code>text_vectors</code> table in local database."
   ]
  },
  {
   "cell_type": "markdown",
   "id": "017ebea5",
   "metadata": {},
   "source": [
    "## Analyze Stored chunks in Database"
   ]
  },
  {
   "cell_type": "markdown",
   "id": "7d309b1c",
   "metadata": {},
   "source": [
    "### Get all the chunks from the Database and convert them into pandas Dataframe"
   ]
  },
  {
   "cell_type": "code",
   "execution_count": 32,
   "id": "42189d2b",
   "metadata": {},
   "outputs": [],
   "source": [
    "url = \"http://172.24.0.127:8080/app/get/chunks\"\n",
    "response = requests.get(url)\n",
    "response.raise_for_status() \n",
    "data = response.json() \n",
    "chunks = pd.DataFrame(data) \n"
   ]
  },
  {
   "cell_type": "code",
   "execution_count": 33,
   "id": "3a38f5f3",
   "metadata": {
    "scrolled": true
   },
   "outputs": [
    {
     "data": {
      "text/html": [
       "<div>\n",
       "<style scoped>\n",
       "    .dataframe tbody tr th:only-of-type {\n",
       "        vertical-align: middle;\n",
       "    }\n",
       "\n",
       "    .dataframe tbody tr th {\n",
       "        vertical-align: top;\n",
       "    }\n",
       "\n",
       "    .dataframe thead th {\n",
       "        text-align: right;\n",
       "    }\n",
       "</style>\n",
       "<table border=\"1\" class=\"dataframe\">\n",
       "  <thead>\n",
       "    <tr style=\"text-align: right;\">\n",
       "      <th></th>\n",
       "      <th>chunk_text</th>\n",
       "      <th>chunk_type</th>\n",
       "      <th>embedding</th>\n",
       "      <th>id</th>\n",
       "    </tr>\n",
       "  </thead>\n",
       "  <tbody>\n",
       "    <tr>\n",
       "      <th>0</th>\n",
       "      <td>Architecturally, the school has a Catholic cha...</td>\n",
       "      <td>PAGE</td>\n",
       "      <td>8004958c060000000000008c156e756d70792e636f7265...</td>\n",
       "      <td>1</td>\n",
       "    </tr>\n",
       "    <tr>\n",
       "      <th>1</th>\n",
       "      <td>As at most other universities, Notre Dame's st...</td>\n",
       "      <td>PAGE</td>\n",
       "      <td>8004958c060000000000008c156e756d70792e636f7265...</td>\n",
       "      <td>2</td>\n",
       "    </tr>\n",
       "    <tr>\n",
       "      <th>2</th>\n",
       "      <td>The university is the major seat of the Congre...</td>\n",
       "      <td>PAGE</td>\n",
       "      <td>8004958c060000000000008c156e756d70792e636f7265...</td>\n",
       "      <td>3</td>\n",
       "    </tr>\n",
       "  </tbody>\n",
       "</table>\n",
       "</div>"
      ],
      "text/plain": [
       "                                          chunk_text chunk_type  \\\n",
       "0  Architecturally, the school has a Catholic cha...       PAGE   \n",
       "1  As at most other universities, Notre Dame's st...       PAGE   \n",
       "2  The university is the major seat of the Congre...       PAGE   \n",
       "\n",
       "                                           embedding  id  \n",
       "0  8004958c060000000000008c156e756d70792e636f7265...   1  \n",
       "1  8004958c060000000000008c156e756d70792e636f7265...   2  \n",
       "2  8004958c060000000000008c156e756d70792e636f7265...   3  "
      ]
     },
     "execution_count": 33,
     "metadata": {},
     "output_type": "execute_result"
    }
   ],
   "source": [
    "chunks.head(3)"
   ]
  },
  {
   "cell_type": "code",
   "execution_count": 34,
   "id": "86a930d6",
   "metadata": {},
   "outputs": [
    {
     "data": {
      "text/plain": [
       "(3705, 4)"
      ]
     },
     "execution_count": 34,
     "metadata": {},
     "output_type": "execute_result"
    }
   ],
   "source": [
    "chunks.shape"
   ]
  },
  {
   "cell_type": "markdown",
   "id": "69a7a01a",
   "metadata": {},
   "source": [
    "### Analyze chunk types"
   ]
  },
  {
   "cell_type": "code",
   "execution_count": 44,
   "id": "778367be",
   "metadata": {
    "scrolled": false
   },
   "outputs": [
    {
     "data": {
      "text/plain": [
       "chunk_type\n",
       "LARGE      589\n",
       "MEDIUM     883\n",
       "PAGE       820\n",
       "SMALL     1413\n",
       "Name: chunk_type, dtype: int64"
      ]
     },
     "execution_count": 44,
     "metadata": {},
     "output_type": "execute_result"
    }
   ],
   "source": [
    "chunk_type=chunks.groupby(\"chunk_type\")['chunk_type'].count()\n",
    "chunk_type"
   ]
  },
  {
   "cell_type": "markdown",
   "id": "adfbf7dd",
   "metadata": {},
   "source": [
    "### Distribution of Chunks by Chunk Type in the Vector Database"
   ]
  },
  {
   "cell_type": "code",
   "execution_count": 43,
   "id": "5e524817",
   "metadata": {
    "scrolled": false
   },
   "outputs": [
    {
     "data": {
      "image/png": "[encoded data removed]",
      "text/plain": [
       "<Figure size 640x480 with 1 Axes>"
      ]
     },
     "metadata": {},
     "output_type": "display_data"
    }
   ],
   "source": [
    "plt.bar(chunk_type.index, chunk_type.values)\n",
    "plt.xlabel(\"Chunk Type\")\n",
    "plt.ylabel(\"Count\")\n",
    "plt.title(\"Counts of Each Chunk Type\")\n",
    "plt.show()\n"
   ]
  },
  {
   "cell_type": "markdown",
   "id": "ad9f1196",
   "metadata": {},
   "source": [
    "## Get similar chunks from DB for a given query.\n",
    "Now we have stored all the chunks in our db. If we have an user query, we can get the most relevant chunks to answer this query. For this we also need to perform the above steps, which we did for each chunks. \n",
    "  + preprocess the query \n",
    "  + calculate embeddings of the query "
   ]
  },
  {
   "cell_type": "markdown",
   "id": "7f0d6249",
   "metadata": {},
   "source": [
    "After calculating the embeddings of the user query, we can perform a **Vector Search** to find the most relevant chunks. for this the function <code>get_context_by_chunk_type()</code> is used. This function performes the followin steps,\n",
    "   + get all the chunks from the database \n",
    "   + convert the user query into embeddings \n",
    "   + calculate **cosine similarity** of each chunk with the user query.\n",
    "   + store the chunks in a list\n",
    "   + sort the list based on similarity score\n",
    "   + return top 3 relevant chunks as a string"
   ]
  },
  {
   "cell_type": "markdown",
   "id": "60c81f8f",
   "metadata": {},
   "source": [
    "<a id=\"cell-2\"></a>"
   ]
  },
  {
   "cell_type": "code",
   "execution_count": 1,
   "id": "25b02da4",
   "metadata": {},
   "outputs": [],
   "source": [
    "def get_context_by_chunk_type(chunk_type, query_text):\n",
    "        start_time = time.time()\n",
    "        \n",
    "        # get db connection\n",
    "        connection = create_connection()\n",
    "        cursor = connection.cursor()\n",
    "        cursor.execute(\n",
    "            \"SELECT * FROM text_vectors WHERE chunk_type=%s\", (chunk_type,)\n",
    "        ) \n",
    "        \n",
    "        # get all the chunks\n",
    "        rows = cursor.fetchall()\n",
    "        \n",
    "        # convert user query into vector\n",
    "        clean_query = preprocess_text(query_text.lower())\n",
    "        model = SentenceTransformer(\"all-MiniLM-L6-v2\")\n",
    "        query_vector = model.encode(clean_query)\n",
    "        \n",
    "        # calculate cosine similarity \n",
    "        similar: list[Similar_Text] = []\n",
    "        for row in rows:\n",
    "            sim_score = cosine_similarity(pickle.loads(row[3]), query_vector)\n",
    "            similar.append(Similar_Text(row[1], sim_score=sim_score))\n",
    "            \n",
    "        # sort all the chunks based on similarity score with the user query    \n",
    "        similar.sort(key=lambda similar: similar.sim_score, reverse=True)\n",
    "        text = \"/n\".join([sm.text for sm in similar[:3]])\n",
    "        end_time = time.time()\n",
    "        return {\"retrieval_time\": end_time - start_time, \"text\": text}"
   ]
  },
  {
   "cell_type": "markdown",
   "id": "22fa3f63",
   "metadata": {},
   "source": [
    "## Generate response by LLM\n",
    "After getting the relevant chunks from the **Vector Database***, we can send this context + user query as a prompt to the LLM to generate a response. the function <code>chat_with_ai()</code> generate response for a given user query. Additionally, the response time is also calculated. "
   ]
  },
  {
   "cell_type": "code",
   "execution_count": null,
   "id": "f3380a2f",
   "metadata": {},
   "outputs": [],
   "source": [
    "def chat_with_ai(user_query: str, chunk_type, ref_ans):\n",
    "    # get openai key\n",
    "    openai_api_key = os.environ[\"OPENAI_API_KEY\"]  \n",
    "    \n",
    "    # get relevant chunks\n",
    "    result = get_context_by_chunk_type(chunk_type, user_query)\n",
    "    \n",
    "    # format prompt \n",
    "    prompt_template = ChatPromptTemplate.from_template(PROMPT_TEMPLATE)\n",
    "    prompt = prompt_template.format(context=result[\"text\"], question=user_query)\n",
    "    \n",
    "    # generate response\n",
    "    model = ChatOpenAI(openai_api_key=openai_api_key, model_name=\"gpt-4o\")\n",
    "    start_time = time.time()\n",
    "    response_text = model.invoke(prompt)\n",
    "    end_time = time.time()\n",
    "    delta = end_time - start_time\n",
    "    return {\"response_time\":delta,\"response\":response_text.content}"
   ]
  },
  {
   "cell_type": "markdown",
   "id": "bf8747fd",
   "metadata": {},
   "source": [
    "## Used Prompt template"
   ]
  },
  {
   "cell_type": "code",
   "execution_count": null,
   "id": "1d210871",
   "metadata": {},
   "outputs": [],
   "source": [
    "PROMPT_TEMPLATE = \"\"\"\n",
    "            Provide an answer to the question below based exclusively on the Context provided. \n",
    "            Do not include information outside of this Context in your response.\n",
    "\n",
    "\n",
    "            **Context:**\n",
    "            {context}\n",
    "\n",
    "            ---------\n",
    "            **Question:** {question}\n",
    " \n",
    "        \"\"\""
   ]
  },
  {
   "cell_type": "markdown",
   "id": "6597df87",
   "metadata": {},
   "source": [
    "## Generate Response for 90 user Queries\n",
    "for analysing the impact of chunk size on the response of LLM I have randomly choosen 90 questions from the dataset. For each question, 4 responses are generated.\n",
    " + response for page chunking\n",
    " + response for small chunking\n",
    " + response for medium chunking\n",
    " + response for large chunking"
   ]
  },
  {
   "cell_type": "markdown",
   "id": "bed0edd8",
   "metadata": {},
   "source": [
    "in client the function <code>chat_with_ai()</code> is used to generate a response for a user query."
   ]
  },
  {
   "cell_type": "code",
   "execution_count": 1,
   "id": "34afe2b0",
   "metadata": {},
   "outputs": [],
   "source": [
    "def chat_with_ai(question, chunk_type,ref_ans):\n",
    "    # Properly encode parameters separately\n",
    "    question = requests.utils.quote(question)\n",
    "    chunk_type = requests.utils.quote(chunk_type)\n",
    "\n",
    "    # Construct the URL\n",
    "    url = f\"http://127.0.0.1:8080/app/chat/{question}/{chunk_type}/{ref_ans}\"\n",
    "\n",
    "    # Make the request\n",
    "    response = requests.get(url)\n",
    "    \n",
    "    # Return the response as JSON\n",
    "    if response.status_code == 200:\n",
    "        return response\n",
    "    else:\n",
    "        print(\"Error:\", response.status_code)\n",
    "        return {\"error\": \"Something went wrong\"}"
   ]
  },
  {
   "cell_type": "markdown",
   "id": "2a4c84a6",
   "metadata": {},
   "source": [
    "## Generate responses for 90 questions\n",
    "I have stored all the responses in another Table in my Database. "
   ]
  },
  {
   "cell_type": "code",
   "execution_count": 2,
   "id": "6215aa35",
   "metadata": {},
   "outputs": [
    {
     "ename": "NameError",
     "evalue": "name 'questions' is not defined",
     "output_type": "error",
     "traceback": [
      "\u001b[0;31m---------------------------------------------------------------------------\u001b[0m",
      "\u001b[0;31mNameError\u001b[0m                                 Traceback (most recent call last)",
      "\u001b[0;32m/tmp/ipykernel_32740/2839335674.py\u001b[0m in \u001b[0;36m<module>\u001b[0;34m\u001b[0m\n\u001b[0;32m----> 1\u001b[0;31m \u001b[0;32mfor\u001b[0m \u001b[0mq\u001b[0m\u001b[0;34m,\u001b[0m\u001b[0mans\u001b[0m \u001b[0;32min\u001b[0m \u001b[0mzip\u001b[0m\u001b[0;34m(\u001b[0m\u001b[0mquestions\u001b[0m\u001b[0;34m,\u001b[0m\u001b[0manswers\u001b[0m\u001b[0;34m)\u001b[0m\u001b[0;34m:\u001b[0m\u001b[0;34m\u001b[0m\u001b[0;34m\u001b[0m\u001b[0m\n\u001b[0m\u001b[1;32m      2\u001b[0m     \u001b[0mchunk_type\u001b[0m\u001b[0;34m=\u001b[0m\u001b[0;34m[\u001b[0m\u001b[0;34m'PAGE'\u001b[0m\u001b[0;34m,\u001b[0m\u001b[0;34m'SMALL'\u001b[0m\u001b[0;34m,\u001b[0m\u001b[0;34m'MEDIUM'\u001b[0m\u001b[0;34m,\u001b[0m\u001b[0;34m'LARGE'\u001b[0m\u001b[0;34m]\u001b[0m\u001b[0;34m\u001b[0m\u001b[0;34m\u001b[0m\u001b[0m\n\u001b[1;32m      3\u001b[0m     \u001b[0;32mfor\u001b[0m \u001b[0mc\u001b[0m \u001b[0;32min\u001b[0m \u001b[0mchunk_type\u001b[0m\u001b[0;34m:\u001b[0m\u001b[0;34m\u001b[0m\u001b[0;34m\u001b[0m\u001b[0m\n\u001b[1;32m      4\u001b[0m       \u001b[0mchat_with_ai\u001b[0m\u001b[0;34m(\u001b[0m\u001b[0mq\u001b[0m\u001b[0;34m,\u001b[0m\u001b[0mc\u001b[0m\u001b[0;34m,\u001b[0m\u001b[0mans\u001b[0m\u001b[0;34m)\u001b[0m\u001b[0;34m\u001b[0m\u001b[0;34m\u001b[0m\u001b[0m\n\u001b[1;32m      5\u001b[0m \u001b[0;34m\u001b[0m\u001b[0m\n",
      "\u001b[0;31mNameError\u001b[0m: name 'questions' is not defined"
     ]
    }
   ],
   "source": [
    "for q,ans in zip(questions,answers):\n",
    "    chunk_type=['PAGE','SMALL','MEDIUM','LARGE'] \n",
    "    for c in chunk_type: \n",
    "      chat_with_ai(q,c,ans)\n",
    "   "
   ]
  },
  {
   "cell_type": "markdown",
   "id": "7fcc7873",
   "metadata": {},
   "source": [
    "### Table: evaluate_answer\n",
    "\n",
    "| Field          | Type                                  | Null | Key | Default | Extra          |\n",
    "|----------------|---------------------------------------|------|-----|---------|----------------|\n",
    "| id             | int                                   | NO   | PRI | NULL    | auto_increment |\n",
    "| ref_answer     | text                                  | YES  |     | NULL    |                |\n",
    "| chunk_type     | enum('PAGE','SMALL','MEDIUM','LARGE') | NO   |     | NULL    |                |\n",
    "| llm_response   | text                                  | YES  |     | NULL    |                |\n",
    "| response_time  | double                                | YES  |     | NULL    |                |\n",
    "| retrieval_time | double                                | YES  |     | NULL    |                |\n"
   ]
  },
  {
   "cell_type": "markdown",
   "id": "f2008d97",
   "metadata": {},
   "source": [
    "## Next Steps"
   ]
  },
  {
   "cell_type": "markdown",
   "id": "e6496c5b",
   "metadata": {},
   "source": [
    "## Analyze generated responses"
   ]
  },
  {
   "cell_type": "code",
   "execution_count": 4,
   "id": "73ec38dc",
   "metadata": {},
   "outputs": [],
   "source": [
    "url = \"http://192.168.0.106:8080/app/get/responses\"\n",
    "response = requests.get(url)\n",
    "response.raise_for_status() \n",
    "data = response.json() \n",
    "responses = pd.DataFrame(data) "
   ]
  },
  {
   "cell_type": "code",
   "execution_count": 5,
   "id": "af0a9d14",
   "metadata": {
    "scrolled": false
   },
   "outputs": [
    {
     "data": {
      "text/html": [
       "<div>\n",
       "<style scoped>\n",
       "    .dataframe tbody tr th:only-of-type {\n",
       "        vertical-align: middle;\n",
       "    }\n",
       "\n",
       "    .dataframe tbody tr th {\n",
       "        vertical-align: top;\n",
       "    }\n",
       "\n",
       "    .dataframe thead th {\n",
       "        text-align: right;\n",
       "    }\n",
       "</style>\n",
       "<table border=\"1\" class=\"dataframe\">\n",
       "  <thead>\n",
       "    <tr style=\"text-align: right;\">\n",
       "      <th></th>\n",
       "      <th>chunk_type</th>\n",
       "      <th>id</th>\n",
       "      <th>llm_response</th>\n",
       "      <th>ref_answer</th>\n",
       "      <th>response_time</th>\n",
       "      <th>retrieval_time</th>\n",
       "    </tr>\n",
       "  </thead>\n",
       "  <tbody>\n",
       "    <tr>\n",
       "      <th>0</th>\n",
       "      <td>PAGE</td>\n",
       "      <td>1</td>\n",
       "      <td>\"Formation\" was released by Beyoncé in Februar...</td>\n",
       "      <td>On February 6, 2016, one day before her Super ...</td>\n",
       "      <td>1.564220</td>\n",
       "      <td>2.501853</td>\n",
       "    </tr>\n",
       "    <tr>\n",
       "      <th>1</th>\n",
       "      <td>SMALL</td>\n",
       "      <td>2</td>\n",
       "      <td>\"Unknown based on the Context provided.\"</td>\n",
       "      <td>On February 6, 2016, one day before her Super ...</td>\n",
       "      <td>0.875026</td>\n",
       "      <td>1.900175</td>\n",
       "    </tr>\n",
       "    <tr>\n",
       "      <th>2</th>\n",
       "      <td>MEDIUM</td>\n",
       "      <td>3</td>\n",
       "      <td>\"The Context provided does not specify when Be...</td>\n",
       "      <td>On February 6, 2016, one day before her Super ...</td>\n",
       "      <td>0.888419</td>\n",
       "      <td>1.369914</td>\n",
       "    </tr>\n",
       "    <tr>\n",
       "      <th>3</th>\n",
       "      <td>LARGE</td>\n",
       "      <td>4</td>\n",
       "      <td>\"Based on the provided Context, there is no in...</td>\n",
       "      <td>On February 6, 2016, one day before her Super ...</td>\n",
       "      <td>1.163664</td>\n",
       "      <td>1.433956</td>\n",
       "    </tr>\n",
       "    <tr>\n",
       "      <th>4</th>\n",
       "      <td>PAGE</td>\n",
       "      <td>5</td>\n",
       "      <td>\"'03 Bonnie &amp; Clyde\"</td>\n",
       "      <td>The music video for '03 Bonnie &amp; Clyde' where ...</td>\n",
       "      <td>0.864547</td>\n",
       "      <td>1.388123</td>\n",
       "    </tr>\n",
       "  </tbody>\n",
       "</table>\n",
       "</div>"
      ],
      "text/plain": [
       "  chunk_type  id                                       llm_response  \\\n",
       "0       PAGE   1  \"Formation\" was released by Beyoncé in Februar...   \n",
       "1      SMALL   2           \"Unknown based on the Context provided.\"   \n",
       "2     MEDIUM   3  \"The Context provided does not specify when Be...   \n",
       "3      LARGE   4  \"Based on the provided Context, there is no in...   \n",
       "4       PAGE   5                               \"'03 Bonnie & Clyde\"   \n",
       "\n",
       "                                          ref_answer  response_time  \\\n",
       "0  On February 6, 2016, one day before her Super ...       1.564220   \n",
       "1  On February 6, 2016, one day before her Super ...       0.875026   \n",
       "2  On February 6, 2016, one day before her Super ...       0.888419   \n",
       "3  On February 6, 2016, one day before her Super ...       1.163664   \n",
       "4  The music video for '03 Bonnie & Clyde' where ...       0.864547   \n",
       "\n",
       "   retrieval_time  \n",
       "0        2.501853  \n",
       "1        1.900175  \n",
       "2        1.369914  \n",
       "3        1.433956  \n",
       "4        1.388123  "
      ]
     },
     "execution_count": 5,
     "metadata": {},
     "output_type": "execute_result"
    }
   ],
   "source": [
    "responses.head()"
   ]
  },
  {
   "cell_type": "markdown",
   "id": "717b0daf",
   "metadata": {},
   "source": [
    "## Analyze <code>response_time</code> and <code>retrieval_time</code>"
   ]
  },
  {
   "cell_type": "code",
   "execution_count": 8,
   "id": "2e5873b3",
   "metadata": {},
   "outputs": [],
   "source": [
    "grouped_data = responses.groupby('chunk_type').mean()[['response_time', 'retrieval_time']]"
   ]
  },
  {
   "cell_type": "markdown",
   "id": "d592a72f",
   "metadata": {},
   "source": [
    "### Response time"
   ]
  },
  {
   "cell_type": "code",
   "execution_count": 10,
   "id": "4b0b44a3",
   "metadata": {},
   "outputs": [
    {
     "data": {
      "image/png": "[encoded data removed]",
      "text/plain": [
       "<Figure size 1000x500 with 1 Axes>"
      ]
     },
     "metadata": {},
     "output_type": "display_data"
    }
   ],
   "source": [
    "plt.figure(figsize=(10, 5))\n",
    "plt.bar(grouped_data.index, grouped_data['response_time'], color='blue', alpha=0.7)\n",
    "plt.xlabel('Chunk Type')\n",
    "plt.ylabel('Response Time (seconds)')\n",
    "plt.title('Average Response Time by Chunk Type')\n",
    "plt.show()"
   ]
  },
  {
   "cell_type": "markdown",
   "id": "883807cc",
   "metadata": {},
   "source": [
    "+ The average response time varies across chunk types.\n",
    "+ Smaller chunks (e.g., \"SMALL\" and \"MEDIUM\") tend to have slightly lower response times, as the LLM has less context to process.\n",
    "+ Larger chunks (\"PAGE\" and \"LARGE\") require more processing, resulting in longer response times."
   ]
  },
  {
   "cell_type": "markdown",
   "id": "c753d535",
   "metadata": {},
   "source": [
    "### Retrieval time"
   ]
  },
  {
   "cell_type": "code",
   "execution_count": 14,
   "id": "7e1a5787",
   "metadata": {
    "scrolled": false
   },
   "outputs": [
    {
     "data": {
      "image/png": "[encoded data removed]",
      "text/plain": [
       "<Figure size 1000x600 with 2 Axes>"
      ]
     },
     "metadata": {},
     "output_type": "display_data"
    }
   ],
   "source": [
    "# Data for visualization\n",
    "chunk_types = [\"LARGE\", \"MEDIUM\", \"PAGE\", \"SMALL\"]\n",
    "number_of_chunks = [589, 883, 820, 1413]\n",
    "\n",
    "# Create a bar chart for retrieval time\n",
    "plt.figure(figsize=(10, 6))\n",
    "\n",
    "# Retrieval time bar chart\n",
    "plt.bar(grouped_data.index, grouped_data['retrieval_time'], color='blue', alpha=0.7, label='Retrieval Time (seconds)')\n",
    "\n",
    "# Add a secondary y-axis for number of chunks\n",
    "plt.twinx()\n",
    "plt.plot(chunk_types, number_of_chunks, color='green', marker='o', linestyle='-', linewidth=2, label='Number of Chunks')\n",
    "\n",
    "# Labels and title\n",
    "plt.title('Retrieval Time and Number of Chunks by Chunk Type')\n",
    "plt.xlabel('Chunk Type')\n",
    "plt.ylabel('Retrieval Time (seconds)', color='blue')\n",
    "plt.gca().tick_params(axis='y', colors='blue')\n",
    "plt.legend(loc=\"upper left\")\n",
    "\n",
    "plt.gca().yaxis.set_label_position(\"right\")\n",
    "plt.ylabel('Number of Chunks', color='green')\n",
    "plt.gca().tick_params(axis='y', colors='green')\n",
    "\n",
    "plt.show()"
   ]
  },
  {
   "cell_type": "markdown",
   "id": "f6d60076",
   "metadata": {},
   "source": [
    "+ **Blue Bars (Left Axis):** Represent the average retrieval time (in seconds) for each chunk type. We can observe that retrieval time increases slightly from \"LARGE\" to \"SMALL.\"\n",
    "\n",
    "+ **Green Line with Markers (Right Axis):** Represents the number of chunks for each chunk type. The number of chunks increases significantly from \"LARGE\" to \"SMALL,\" peaking at 1413 for \"SMALL.\""
   ]
  },
  {
   "cell_type": "markdown",
   "id": "cb08721e",
   "metadata": {},
   "source": [
    "### Distribution of time in Retrieval Process: \n",
    "[<code>get_context_by_chunk_type()</code>](#cell-2) function was used for as a retriever. the retrieval preocess performs mainly three tasks."
   ]
  },
  {
   "cell_type": "markdown",
   "id": "51a29b8b",
   "metadata": {},
   "source": [
    "+ **Database Query:** The time to fetch rows from the database scales with the number of chunks in each chunk type. Smaller chunk types (e.g., \"SMALL\") involve more rows, increasing the query processing time.\n",
    "+ **Cosine Similarity Computation:** The number of similarity calculations increases linearly with the number of chunks. With 1413 chunks for \"SMALL,\" this step takes significantly longer compared to \"LARGE,\" which only has 589 chunks.\n",
    "+ **Sorting Overhead:** Sorting a larger list (e.g., 1413 chunks for \"SMALL\") adds marginal computational overhead compared to smaller lists.\n"
   ]
  },
  {
   "cell_type": "markdown",
   "id": "1f8fa6bc",
   "metadata": {},
   "source": [
    "### Small Differences Between MEDIUM and PAGE:\n",
    "+ Retrieval times for MEDIUM (883 chunks) and PAGE (820 chunks) are very close. **This indicates:** The time spent fetching and processing these chunks is relatively stable within a certain range.\n"
   ]
  },
  {
   "cell_type": "markdown",
   "id": "59f2bfcc",
   "metadata": {},
   "source": [
    "### Small Chunks Have the Highest Overhead:\n",
    "\n",
    "+ SMALL chunks (1413) lead to the longest retrieval time because:\n",
    "    + They involve the most rows fetched from the database.\n",
    "    + They require the most cosine similarity calculations."
   ]
  },
  {
   "cell_type": "markdown",
   "id": "7d9b4b6c",
   "metadata": {},
   "source": [
    "### Larger Chunks Are More Efficient:\n",
    "\n",
    " + LARGE chunks (589) result in the shortest retrieval time because fewer rows are fetched and fewer similarity calculations are needed.\n",
    " + This suggests that the retrieval system benefits from handling fewer, larger chunks rather than many smaller ones.\n"
   ]
  },
  {
   "cell_type": "markdown",
   "id": "9c86bc8e",
   "metadata": {},
   "source": [
    "### Impact of Number of Chunks on Retrieval Time:\n",
    "\n",
    "+ Retrieval time increases with the number of chunks to be processed.\n",
    "+ The SMALL chunk type has the highest number of chunks (1413) and also exhibits the longest retrieval time.\n",
    "+ Conversely, the LARGE chunk type, with the fewest chunks (589), has the shortest retrieval time."
   ]
  },
  {
   "cell_type": "markdown",
   "id": "6f5df976",
   "metadata": {},
   "source": [
    "### Uniform Chunk Dimensions:\n",
    "\n",
    "+ All chunks have the same dimension(1,384) because they were generated using a Sentence Transformer model. This means the computational effort for encoding chunks is consistent across chunk types, regardless of their content length."
   ]
  },
  {
   "cell_type": "markdown",
   "id": "9031b10f",
   "metadata": {},
   "source": [
    "**Summary of Retrieval Time Trends:**\n",
    "\n",
    "| Chunk Type | Retrieval Time (seconds) | Number of Chunks | Reason for Trend                                                                 |\n",
    "|------------|---------------------------|------------------|---------------------------------------------------------------------------------|\n",
    "| SMALL      | 1.591126                 | 1413             | Highest retrieval time due to the largest number of chunks and cosine similarity calculations. |\n",
    "| MEDIUM     | 1.554785                 | 883              | Moderate retrieval time; fewer chunks than SMALL but still significant computation. |\n",
    "| PAGE       | 1.552313                 | 820              | Similar to MEDIUM; slightly fewer chunks but close retrieval time.             |\n",
    "| LARGE      | 1.528357                 | 589              | Lowest retrieval time due to the smallest number of chunks and computational requirements. |\n",
    "\n"
   ]
  },
  {
   "cell_type": "code",
   "execution_count": 45,
   "id": "de085444",
   "metadata": {},
   "outputs": [],
   "source": [
    "questions = [\n",
    "    \"When did Beyoncé release her single 'Formation'?\",\n",
    "    \"Which music video sparked speculation about Beyoncé's relationship with Jay Z?\",\n",
    "    \"What significant life event did Beyoncé reveal during her 2011 MTV VMA performance?\",\n",
    "    \"What record did Beyoncé set during the 2011 MTV Video Music Awards?\",\n",
    "    \"Who is Beyoncé's first child, and when was she born?\",\n",
    "    \"What song did Jay Z dedicate to their child Blue Ivy?\",\n",
    "    \"Which US President and First Lady are friends with Beyoncé and Jay Z?\",\n",
    "    \"What stance did Beyoncé publicly support after California's Proposition 8 debate?\",\n",
    "    \"Which speech by Chimamanda Ngozi Adichie was sampled in Beyoncé's song 'Flawless'?\",\n",
    "    \"What accolade did Beyoncé receive from Forbes in 2008 for her earnings?\",\n",
    "    \"What title did People magazine award Beyoncé in 2012?\",\n",
    "    \"What was the name of Beyoncé's all-female tour band?\",\n",
    "    \"What alter ego did Beyoncé create for her stage persona?\",\n",
    "    \"Who inspired Beyoncé's feminist themes in the album 'B'Day'?\",\n",
    "    \"What song and music video of Beyoncé started a major dance craze in the 2000s?\",\n",
    "    \"How many Grammy Awards has Beyoncé won?\",\n",
    "    \"What unique honor did Beyoncé's song 'Crazy in Love' achieve?\",\n",
    "    \"What name was given to Beyoncé's dedicated fan base?\",\n",
    "    \"Which artist is one of Beyoncé's major musical influences?\",\n",
    "    \"What unique recognition did Beyoncé receive from the Rock and Roll Hall of Fame?\",\n",
    "    \"What item does Zahm House traditionally decorate with for football gamedays?\",\n",
    "    \"What is the purpose of the Drummers' Circle in Notre Dame gameday traditions?\",\n",
    "    \"How many wins does the Notre Dame men's basketball team have in its history?\",\n",
    "    \"What record does Austin Carr hold in the NCAA basketball tournament?\",\n",
    "    \"What historic event did the Notre Dame men's basketball team accomplish against UCLA in 1974?\",\n",
    "    \"Who wrote the music and lyrics of the Notre Dame Victory March?\",\n",
    "    \"What are the lyrics of the chorus of the Notre Dame Victory March?\",\n",
    "    \"Which movie featured the 'Win one for the Gipper' speech set to the Notre Dame Victory March?\",\n",
    "    \"What roles in politics and government have Notre Dame alumni achieved?\",\n",
    "    \"Who are some notable media personalities among Notre Dame alumni?\",\n",
    "    \"Who are the professional sports players that are alumni of Notre Dame?\",\n",
    "    \"How many Grammy Awards has Beyoncé won as of the current data?\",\n",
    "    \"What is Beyoncé's relation to Solange and her parents' background?\",\n",
    "    \"Where did Beyoncé first discover her talent in singing?\",\n",
    "    \"What was the name of Beyoncé’s first all-girl group?\",\n",
    "    \"What was Destiny's Child’s first number-one single?\",\n",
    "    \"How did Beyoncé experience depression during Destiny's Child lineup changes?\",\n",
    "    \"What was Destiny's Child's most successful song on the Billboard Hot 100?\",\n",
    "    \"What movie did Beyoncé star in as Foxxy Cleopatra?\",\n",
    "    \"What major achievements did Beyoncé's debut solo album Dangerously in Love accomplish?\",\n",
    "    \"What single on Beyoncé's I Am... Sasha Fierce album created a major dance craze?\",\n",
    "    \"What incident occurred at the 2009 MTV Video Music Awards involving Kanye West and Beyoncé?\",\n",
    "    \"What percentage of Notre Dame's undergraduates live on campus?\",\n",
    "    \"How many single-sex residence halls are on Notre Dame's campus?\",\n",
    "    \"What makes Notre Dame’s intramural sports program unique?\",\n",
    "    \"How many Masses are celebrated weekly at Notre Dame?\",\n",
    "    \"What religious artwork or symbols can be found on Notre Dame’s campus?\",\n",
    "    \"Which religious clubs are active at Notre Dame?\",\n",
    "    \"What significant event happened to the Main Building in 1879?\",\n",
    "    \"What buildings were constructed as part of Notre Dame’s science and student union facilities in the late 19th century?\",\n",
    "    \"What change did Father James Burns implement during his presidency?\",\n",
    "    \"Who helped build Notre Dame’s reputation through football success?\",\n",
    "    \"What historical event marked a clash between Notre Dame students and the Ku Klux Klan?\",\n",
    "    \"Which president of Notre Dame brought refugee intellectuals to campus?\",\n",
    "    \"Which Notre Dame president is credited with making Notre Dame coeducational?\",\n",
    "    \"What significant achievement was made under Edward Malloy's presidency?\",\n",
    "    \"What religious structures are found on Notre Dame’s campus due to its Catholic identity?\",\n",
    "    \"What purpose does LaFortune Student Center serve?\",\n",
    "    \"Which prominent library was built in 1963 at Notre Dame?\",\n",
    "    \"What efforts has Notre Dame made toward sustainability?\",\n",
    "    \"What global centers does Notre Dame operate?\",\n",
    "     \"What architectural features at Notre Dame reflect its Catholic character?\",\n",
    "    \"What are some of the student-run media outlets at Notre Dame?\",\n",
    "    \"What facilities on Notre Dame’s campus are associated with the Congregation of Holy Cross?\",\n",
    "    \"What departments are included in Notre Dame’s College of Engineering?\",\n",
    "    \"What program helps incoming freshmen choose classes at Notre Dame?\",\n",
    "    \"What advanced degrees are offered at Notre Dame?\",\n",
    "    \"What does the Joan B. Kroc Institute at Notre Dame focus on?\",\n",
    "    \"What feature is displayed on the front of the Theodore M. Hesburgh Library?\",\n",
    "    \"What percentage of students were admitted to Notre Dame in 2015 through early action?\",\n",
    "    \"What was Notre Dame’s ranking in BusinessWeek for its undergraduate business program?\",\n",
    "    \"What was Father John Augustine Zahm's contribution to the Catholic Summer School movement?\",\n",
    "    \"Who was the first American to send a wireless message at Notre Dame?\",\n",
    "    \"What was the primary research focus of the Lobund Institute?\",\n",
    "    \"What was the purpose of founding *The Review of Politics*?\",\n",
    "    \"What index does Notre Dame host to rank countries' climate vulnerability and preparedness?\",\n",
    "    \"What was the origin of Montana's name and what does it mean?\",\n",
    "    \"Which tree was chosen as the state tree of Montana by schoolchildren in 1908?\",\n",
    "    \"In what year did the state of Montana officially adopt the bitterroot as its state flower?\",\n",
    "    \"What is Montana's state motto and when was it first adopted?\",\n",
    "    \"Which bird was selected as Montana's state bird by schoolchildren in 1930?\",\n",
    "    \"Who composed the state song of Montana, and when was it officially recognized?\",\n",
    "    \"What is the highest point in Montana, and in which mountain range is it located?\",\n",
    "    \"Which river system in Montana feeds into three major watersheds?\",\n",
    "    \"What was the first public school in Montana, and when was it founded?\",\n",
    "    \"What does the term 'Big Sky Country' refer to in relation to Montana?\",\n",
    "    \"Which city in Montana has the largest population over 100,000?\",\n",
    "    \"What is the significance of Triple Divide Peak in Montana?\",\n",
    "    \"How many counties does Montana have, and what is the number of its incorporated places?\",\n",
    "    \"Which iconic fishing activity is popular in Montana, especially for trout?\"\n",
    "]\n",
    "answers = [\n",
    "    \"On February 6, 2016, one day before her Super Bowl performance.\",\n",
    "    \"The music video for '03 Bonnie & Clyde' where Beyoncé appeared as Jay Z's girlfriend.\",\n",
    "    \"She announced her pregnancy by rubbing her stomach after performing 'Love on Top.'\",\n",
    "    \"The broadcast became the most-watched in MTV history, with 12.4 million viewers.\",\n",
    "    \"Blue Ivy Carter, born on January 7, 2012.\",\n",
    "    \"'Glory', which Jay Z released two days after Blue Ivy's birth.\",\n",
    "    \"President Barack Obama and First Lady Michelle Obama.\",\n",
    "    \"She endorsed same-sex marriage.\",\n",
    "    \"The speech 'We Should All Be Feminists'.\",\n",
    "    \"Beyoncé was named the world's best-paid music personality in 2008.\",\n",
    "    \"People magazine named her the 'World's Most Beautiful Woman' in 2012.\",\n",
    "    \"Suga Mama.\",\n",
    "    \"Sasha Fierce, which she created to separate her onstage persona from her real self.\",\n",
    "    \"Singer Josephine Baker and her role in the movie Dreamgirls.\",\n",
    "    \"'Single Ladies (Put a Ring on It)', known for its iconic choreography.\",\n",
    "    \"20 Grammy Awards.\",\n",
    "    \"It was named VH1's 'Greatest Song of the 2000s' and earned two Grammy Awards.\",\n",
    "    \"The Bey Hive.\",\n",
    "    \"Michael Jackson.\",\n",
    "    \"A Beyoncé exhibit in the 'Legends of Rock' section, including outfits from 'Single Ladies' and her Super Bowl performance.\",\n",
    "    \"Zahm House decorates with a two-story banner.\",\n",
    "    \"The Drummers' Circle involves the drum line of the Band of the Fighting Irish and kicks off gameday festivities.\",\n",
    "    \"The men's basketball team has over 1,600 wins.\",\n",
    "    \"Austin Carr holds the record for most points in a single NCAA tournament game with 61.\",\n",
    "    \"Notre Dame ended UCLA's record 88-game winning streak in 1974.\",\n",
    "    \"Rev. Michael J. Shea wrote the music, and John F. Shea wrote the lyrics.\",\n",
    "    \"'Cheer cheer for old Notre Dame, wake up the echos cheering her name... onward to victory!'\",\n",
    "    \"The film Knute Rockne, All American featured this scene.\",\n",
    "    \"Notre Dame alumni have served as state governors, U.S. Congress members, and a U.S. Secretary of State.\",\n",
    "    \"Notre Dame alumni in media include Regis Philbin, Phil Donahue, Mike Golic, and Hannah Storm.\",\n",
    "    \"Notable sports alumni include Joe Montana, Joe Theismann, Tim Brown, and Mariel Zagunis.\",\n",
    "    \"Beyoncé has won 20 Grammy Awards.\",\n",
    "    \"Solange is Beyoncé's younger sister; her father is African-American, and her mother is of Louisiana Creole descent.\",\n",
    "    \"She discovered her singing talent at St. Mary's Elementary School in Fredericksburg, Texas.\",\n",
    "    \"Her first group was called Girl's Tyme.\",\n",
    "    \"'Bills, Bills, Bills' was their first number-one single.\",\n",
    "    \"Beyoncé's depression began after the lineup change and media backlash.\",\n",
    "    \"'Independent Women Part I' topped the Billboard Hot 100 for eleven weeks.\",\n",
    "    \"Beyoncé played Foxxy Cleopatra in Austin Powers in Goldmember.\",\n",
    "    \"Dangerously in Love won five Grammy Awards and reached number one on the Billboard 200.\",\n",
    "    \"'Single Ladies (Put a Ring on It)' sparked a major dance craze.\",\n",
    "    \"Kanye West interrupted the ceremony after Taylor Swift won over Beyoncé for Best Female Video.\",\n",
    "    \"Approximately 80% of undergraduates and 20% of graduate students live on campus.\",\n",
    "    \"Notre Dame has 29 single-sex residence halls: 15 for men and 14 for women.\",\n",
    "    \"Notre Dame has the only non-military academy full-contact intramural football program in the U.S.\",\n",
    "    \"Catholic Mass is celebrated over 100 times per week across the campus.\",\n",
    "    \"The campus features numerous religious statues, a statue of Mary on the Main Building, the Grotto of Our Lady of Lourdes, and a large mural of Christ on the Hesburgh Library.\",\n",
    "    \"Religious clubs include the Knights of Columbus, Baptist Collegiate Ministry, Jewish Club, Muslim Student Association, Orthodox Christian Fellowship, and Mormon Club, among others.\",\n",
    "    \"The Main Building and library were destroyed by a fire in April 1879, but were rebuilt by the fall semester.\",\n",
    "    \"Washington Hall was built as a music hall around the time of the 1879 fire, and a Science Hall (now LaFortune Student Center) was built in 1883.\",\n",
    "    \"Father James Burns shifted Notre Dame to a national academic standard by adopting an elective system and moving away from its traditional classical curriculum.\",\n",
    "    \"Knute Rockne, head coach from 1918, led Notre Dame to three national championships, elevating the university’s reputation.\",\n",
    "    \"In 1924, Notre Dame students clashed with the Ku Klux Klan in South Bend, effectively challenging anti-Catholic sentiments.\",\n",
    "    \"Father John Francis O'Hara, president in 1934, brought many refugee intellectuals to Notre Dame.\",\n",
    "    \"The Rev. Theodore Hesburgh, president from 1952 to 1987, is credited with making Notre Dame a coeducational institution.\",\n",
    "    \"Under Edward Malloy (1987–2005), Notre Dame's endowment exceeded $3 billion, and the academic quality and diversity of the student body grew significantly.\",\n",
    "    \"The Catholic identity of the university is reflected in structures like the Basilica of the Sacred Heart, the Old College, and numerous chapels.\",\n",
    "    \"LaFortune Student Center, or 'LaFun,' provides space for social, cultural, and recreational activities and houses various services and restaurants.\",\n",
    "    \"The Theodore Hesburgh Library, built in 1963, contains nearly 4 million books and is the university’s central library.\",\n",
    "    \"Notre Dame’s Office of Sustainability, established in 2008, focuses on areas like waste reduction, sustainable food sourcing, and green construction.\",\n",
    "    \"Notre Dame operates global centers in cities including London, Beijing, Dublin, Jerusalem, and Rome, supporting international studies and alumni relations.\",\n",
    "    \"The Main Building's gold dome has a statue of the Virgin Mary, and in front of it, there is a copper statue of Christ with the inscription 'Venite Ad Me Omnes.'\",\n",
    "    \"Notre Dame has three newspapers, a radio and television station, and several magazines and journals, including Scholastic, The Juggler, and The Observer.\",\n",
    "    \"Facilities include Moreau Seminary, Old College, Fatima House, Holy Cross House, and Columba Hall.\",\n",
    "    \"Departments include aerospace and mechanical engineering, chemical and biomolecular engineering, civil engineering and geological sciences, computer science and engineering, and electrical engineering.\",\n",
    "    \"The First Year of Studies program.\",\n",
    "    \"Notre Dame offers MA, PhD, M.Div., and MBA degrees.\",\n",
    "    \"Research, education, and outreach on causes of violent conflict and conditions for sustainable peace.\",\n",
    "    \"The Word of Life mural, known as 'Touchdown Jesus.'\",\n",
    "    \"39.1% of students were admitted through early action.\",\n",
    "    \"It was ranked 1st overall.\",\n",
    "    \"He introduced Catholic laity to contemporary intellectual issues and defended evolutionary theory.\",\n",
    "    \"Professor Jerome Green.\",\n",
    "    \"To determine if animal life was possible without bacteria.\",\n",
    "    \"To offer an alternative vision to positivist philosophy and contribute to a Catholic intellectual revival.\",\n",
    "    \"The Notre Dame Global Adaptation Index.\",\n",
    "    \"Montana is derived from the Spanish word 'Montaña', meaning 'mountain'.\",\n",
    "    \"The ponderosa pine was chosen as the state tree by Montana schoolchildren.\",\n",
    "    \"The bitterroot became Montana's state flower in 1895.\",\n",
    "    \"Montana's motto, 'Oro y Plata', meaning 'Gold and Silver', was adopted in 1865.\",\n",
    "    \"The western meadowlark was chosen as Montana's state bird in 1930.\",\n",
    "    \"Joseph E. Howard composed the state song of Montana, which was recognized in 1910.\",\n",
    "    \"Granite Peak, located in the Beartooth Mountains, is the highest point in Montana.\",\n",
    "    \"Montana's rivers feed into the Pacific Ocean, Gulf of Mexico, and Hudson Bay watersheds.\",\n",
    "    \"The first public school in Montana was formed in Virginia City in 1886.\",\n",
    "    \"The term 'Big Sky Country' refers to Montana's vast, open sky and landscape.\",\n",
    "    \"Billings is the only city in Montana with a population over 100,000.\",\n",
    "    \"Triple Divide Peak in Glacier National Park is where three watersheds meet.\",\n",
    "    \"Montana has 56 counties and 364 named places, including 129 incorporated ones.\",\n",
    "    \"Fly fishing for trout is a popular activity in Montana.\"\n",
    "\n",
    "]\n",
    "    \n"
   ]
  },
  {
   "cell_type": "code",
   "execution_count": 62,
   "id": "f01d3b01",
   "metadata": {},
   "outputs": [],
   "source": [
    "# Define your dynamic ChatPromptTemplate\n",
    "prompt_template = ChatPromptTemplate.from_messages([\n",
    "    HumanMessagePromptTemplate.from_template(\n",
    "        \"\"\"\n",
    "I have a dynamic input consisting of a question, a reference answer, and up to four responses generated by a language model (LLM). Please evaluate each LLM response based on the following criteria:\n",
    "\n",
    "### Evaluation Criteria:\n",
    "1. **Answer Accuracy**:\n",
    "   - **1**: The question could be answered accurately.\n",
    "   - **2**: The question could be answered partially.\n",
    "   - **3**: The question could not be answered.\n",
    "   - **4**: The response answers the question but is completely unrelated to the reference answer.\n",
    "2. **Hallucination Type**:\n",
    "   - **N/A** if **Answer Accuracy** = 1 or 3.\n",
    "   - If **Answer Accuracy** = 2 or 4, classify hallucination as:\n",
    "     - **Intrinsic:** The response is incomplete or incorrect due to limitations in the generative model (e.g., biases, insufficient reasoning).\n",
    "     - **Extrinsic:** The response is incomplete or incorrect due to reliance on irrelevant, incomplete, or noisy retrieval from the context.\n",
    "     - **Intrinsic Extrinsic:** Both intrinsic and extrinsic factors contribute to the hallucination.\n",
    "### Example Inputs: \n",
    "- **Question:** What title did People magazine award Beyoncé in 2012?\n",
    "- **Reference Answer:** People magazine named her the 'World's Most Beautiful Woman' in 2012.\n",
    "- **LLM Responses:**\n",
    "  1. \"Based exclusively on the Context provided, the title People magazine awarded Beyoncé in 2012 is not mentioned.\"\n",
    "  2. \"Unfortunately, the Context does not provide information about any title awarded to Beyoncé by People magazine in 2012.\"\n",
    "  3. \"Sexiest Woman of the 21st Century\"\n",
    "  4. \"best-dressed celebrity\"\n",
    "### Example Output Format:\n",
    "Provide the evaluation in the following JSON format:\n",
    "[\n",
    "    {{\n",
    "        \"answer_accuracy\": 3,\n",
    "        \"hallucination_type\": \"N/A\",\n",
    "    }},\n",
    "    {{\n",
    "        \"answer_accuracy\": 3,\n",
    "        \"hallucination_type\": \"N/A\",\n",
    "    }},\n",
    "    {{\n",
    "        \"answer_accuracy\": 4,\n",
    "        \"hallucination_type\": \"Intrinsic\",\n",
    "    }},\n",
    "    {{\n",
    "        \"answer_accuracy\": 4,\n",
    "        \"hallucination_type\": \"Intrinsic\",\n",
    "    }}\n",
    "]     \n",
    "### Inputs:\n",
    "- **Question:** {question}\n",
    "- **Reference Answer:** {reference_answer}\n",
    "- **LLM Responses:**\n",
    "  1. {response1}\n",
    "  2. {response2}\n",
    "  3. {response3}\n",
    "  4. {response4}\n",
    "\"\"\"\n",
    "    )\n",
    "])\n"
   ]
  },
  {
   "cell_type": "code",
   "execution_count": 98,
   "id": "355cae04",
   "metadata": {
    "scrolled": true
   },
   "outputs": [
    {
     "name": "stdout",
     "output_type": "stream",
     "text": [
      "Human: \n",
      "I have a dynamic input consisting of a question, a reference answer, and up to four responses generated by a language model (LLM). Please evaluate each LLM response based on the following criteria:\n",
      "\n",
      "### Evaluation Criteria:\n",
      "1. **Answer Accuracy**:\n",
      "   - **1**: The question could be answered accurately.\n",
      "   - **2**: The question could be answered partially.\n",
      "   - **3**: The question could not be answered.\n",
      "   - **4**: The response answers the question but is completely unrelated to the reference answer.\n",
      "2. **Hallucination Type**:\n",
      "   - **N/A** if **Answer Accuracy** = 1 or 3.\n",
      "   - If **Answer Accuracy** = 2 or 4, classify hallucination as:\n",
      "     - **Intrinsic:** The response is incomplete or incorrect due to limitations in the generative model (e.g., biases, insufficient reasoning).\n",
      "     - **Extrinsic:** The response is incomplete or incorrect due to reliance on irrelevant, incomplete, or noisy retrieval from the context.\n",
      "     - **Intrinsic Extrinsic:** Both intrinsic and extrinsic factors contribute to the hallucination.\n",
      "### Example Inputs: \n",
      "- **Question:** What title did People magazine award Beyoncé in 2012?\n",
      "- **Reference Answer:** People magazine named her the 'World's Most Beautiful Woman' in 2012.\n",
      "- **LLM Responses:**\n",
      "  1. \"Based exclusively on the Context provided, the title People magazine awarded Beyoncé in 2012 is not mentioned.\"\n",
      "  2. \"Unfortunately, the Context does not provide information about any title awarded to Beyoncé by People magazine in 2012.\"\n",
      "  3. \"Sexiest Woman of the 21st Century\"\n",
      "  4. \"best-dressed celebrity\"\n",
      "### Example Output Format:\n",
      "Provide the evaluation in the following JSON format:\n",
      "[\n",
      "    {\n",
      "        \"answer_accuracy\": 3,\n",
      "        \"hallucination_type\": \"N/A\",\n",
      "    },\n",
      "    {\n",
      "        \"answer_accuracy\": 3,\n",
      "        \"hallucination_type\": \"N/A\",\n",
      "    },\n",
      "    {\n",
      "        \"answer_accuracy\": 4,\n",
      "        \"hallucination_type\": \"Intrinsic\",\n",
      "    },\n",
      "    {\n",
      "        \"answer_accuracy\": 4,\n",
      "        \"hallucination_type\": \"Intrinsic\",\n",
      "    }\n",
      "]     \n",
      "### Inputs:\n",
      "- **Question:** How many Grammy Awards has Beyoncé won?\n",
      "- **Reference Answer:** 20 Grammy Awards.\n",
      "- **LLM Responses:**\n",
      "  1. 20\n",
      "  2. \"20\"\n",
      "  3. 20\n",
      "  4. \"20\"\n",
      "\n",
      "Human: \n",
      "I have a dynamic input consisting of a question, a reference answer, and up to four responses generated by a language model (LLM). Please evaluate each LLM response based on the following criteria:\n",
      "\n",
      "### Evaluation Criteria:\n",
      "1. **Answer Accuracy**:\n",
      "   - **1**: The question could be answered accurately.\n",
      "   - **2**: The question could be answered partially.\n",
      "   - **3**: The question could not be answered.\n",
      "   - **4**: The response answers the question but is completely unrelated to the reference answer.\n",
      "2. **Hallucination Type**:\n",
      "   - **N/A** if **Answer Accuracy** = 1 or 3.\n",
      "   - If **Answer Accuracy** = 2 or 4, classify hallucination as:\n",
      "     - **Intrinsic:** The response is incomplete or incorrect due to limitations in the generative model (e.g., biases, insufficient reasoning).\n",
      "     - **Extrinsic:** The response is incomplete or incorrect due to reliance on irrelevant, incomplete, or noisy retrieval from the context.\n",
      "     - **Intrinsic Extrinsic:** Both intrinsic and extrinsic factors contribute to the hallucination.\n",
      "### Example Inputs: \n",
      "- **Question:** What title did People magazine award Beyoncé in 2012?\n",
      "- **Reference Answer:** People magazine named her the 'World's Most Beautiful Woman' in 2012.\n",
      "- **LLM Responses:**\n",
      "  1. \"Based exclusively on the Context provided, the title People magazine awarded Beyoncé in 2012 is not mentioned.\"\n",
      "  2. \"Unfortunately, the Context does not provide information about any title awarded to Beyoncé by People magazine in 2012.\"\n",
      "  3. \"Sexiest Woman of the 21st Century\"\n",
      "  4. \"best-dressed celebrity\"\n",
      "### Example Output Format:\n",
      "Provide the evaluation in the following JSON format:\n",
      "[\n",
      "    {\n",
      "        \"answer_accuracy\": 3,\n",
      "        \"hallucination_type\": \"N/A\",\n",
      "    },\n",
      "    {\n",
      "        \"answer_accuracy\": 3,\n",
      "        \"hallucination_type\": \"N/A\",\n",
      "    },\n",
      "    {\n",
      "        \"answer_accuracy\": 4,\n",
      "        \"hallucination_type\": \"Intrinsic\",\n",
      "    },\n",
      "    {\n",
      "        \"answer_accuracy\": 4,\n",
      "        \"hallucination_type\": \"Intrinsic\",\n",
      "    }\n",
      "]     \n",
      "### Inputs:\n",
      "- **Question:** What religious artwork or symbols can be found on Notre Dame’s campus?\n",
      "- **Reference Answer:** The campus features numerous religious statues, a statue of Mary on the Main Building, the Grotto of Our Lady of Lourdes, and a large mural of Christ on the Hesburgh Library.\n",
      "- **LLM Responses:**\n",
      "  1. \"The religious artwork or symbols on Notre Dame’s campus include the golden statue of the Virgin Mary atop the Main Building's gold dome, the copper statue of Christ with arms upraised in front of the Main Building, stained glass windows in the Basilica of the Sacred Heart, paintings by Luigi Gregori, sculptures by Ivan Mestrovic inside the Basilica, and the Grotto of Our Lady of Lourdes which is a replica of the original in Lourdes, France.\"\n",
      "  2. \"There are multitudes of religious statues and artwork around campus, most prominent of which are the statue of Mary on the Main Building, the Notre Dame Grotto, the Word of Life mural on Hesburgh Library depicting Christ as a teacher, and a crucifix in every classroom.\"\n",
      "  3. \"The Basilica of the Sacred Heart features stained glass windows imported from France, sculptures by Ivan Mestrovic, and paintings by Luigi Gregori. The Grotto of Our Lady of Lourdes is a replica of the original in Lourdes, France, and is a popular place of prayer and meditation.\"\n",
      "  4. \"The religious artwork or symbols on Notre Dame's campus include the statue of Mary on the Main Building, the Notre Dame Grotto, the Word of Life mural on Hesburgh Library depicting Christ as a teacher, and crucifixes in every classroom. There are also stained glass windows in the Basilica of the Sacred Heart, sculptures by Ivan Mestrovic inside the church, and various religious statues and artwork around the campus.\"\n",
      "\n",
      "Human: \n",
      "I have a dynamic input consisting of a question, a reference answer, and up to four responses generated by a language model (LLM). Please evaluate each LLM response based on the following criteria:\n",
      "\n",
      "### Evaluation Criteria:\n",
      "1. **Answer Accuracy**:\n",
      "   - **1**: The question could be answered accurately.\n",
      "   - **2**: The question could be answered partially.\n",
      "   - **3**: The question could not be answered.\n",
      "   - **4**: The response answers the question but is completely unrelated to the reference answer.\n",
      "2. **Hallucination Type**:\n",
      "   - **N/A** if **Answer Accuracy** = 1 or 3.\n",
      "   - If **Answer Accuracy** = 2 or 4, classify hallucination as:\n",
      "     - **Intrinsic:** The response is incomplete or incorrect due to limitations in the generative model (e.g., biases, insufficient reasoning).\n",
      "     - **Extrinsic:** The response is incomplete or incorrect due to reliance on irrelevant, incomplete, or noisy retrieval from the context.\n",
      "     - **Intrinsic Extrinsic:** Both intrinsic and extrinsic factors contribute to the hallucination.\n",
      "### Example Inputs: \n",
      "- **Question:** What title did People magazine award Beyoncé in 2012?\n",
      "- **Reference Answer:** People magazine named her the 'World's Most Beautiful Woman' in 2012.\n",
      "- **LLM Responses:**\n",
      "  1. \"Based exclusively on the Context provided, the title People magazine awarded Beyoncé in 2012 is not mentioned.\"\n",
      "  2. \"Unfortunately, the Context does not provide information about any title awarded to Beyoncé by People magazine in 2012.\"\n",
      "  3. \"Sexiest Woman of the 21st Century\"\n",
      "  4. \"best-dressed celebrity\"\n",
      "### Example Output Format:\n",
      "Provide the evaluation in the following JSON format:\n",
      "[\n",
      "    {\n",
      "        \"answer_accuracy\": 3,\n",
      "        \"hallucination_type\": \"N/A\",\n",
      "    },\n",
      "    {\n",
      "        \"answer_accuracy\": 3,\n",
      "        \"hallucination_type\": \"N/A\",\n",
      "    },\n",
      "    {\n",
      "        \"answer_accuracy\": 4,\n",
      "        \"hallucination_type\": \"Intrinsic\",\n",
      "    },\n",
      "    {\n",
      "        \"answer_accuracy\": 4,\n",
      "        \"hallucination_type\": \"Intrinsic\",\n",
      "    }\n",
      "]     \n",
      "### Inputs:\n",
      "- **Question:** What architectural features at Notre Dame reflect its Catholic character?\n",
      "- **Reference Answer:** The Main Building's gold dome has a statue of the Virgin Mary, and in front of it, there is a copper statue of Christ with the inscription 'Venite Ad Me Omnes.'\n",
      "- **LLM Responses:**\n",
      "  1. \"The architectural features at Notre Dame that reflect its Catholic character include the Basilica of the Sacred Heart, which is built in French Revival style and decorated with stained glass windows from France, as well as its bell tower with a carillon. The Main Building's gold dome is topped with a golden statue of the Virgin Mary. Additionally, there is a copper statue of Christ with arms upraised, featuring the legend 'Venite Ad Me Omnes,' and the Grotto of Our Lady of Lourdes, a replica of the original in Lourdes, France, which serves as a place of prayer and reflection.\"\n",
      "  2. \"The architectural features at Notre Dame that reflect its Catholic character include the Main Building's gold dome topped with a golden statue of the Virgin Mary, a copper statue of Christ with arms upraised with the legend 'Venite Ad Me Omnes' in front of the Main Building, the Basilica of the Sacred Heart next to the Main Building, and the Grotto, a Marian place of prayer and reflection, which is a replica of the grotto at Lourdes, France.\"\n",
      "  3. \"The Main Building's gold dome with a golden statue of the Virgin Mary, the copper statue of Christ with arms upraised with the legend 'Venite Ad Me Omnes', the Basilica of the Sacred Heart, and the Grotto, a Marian place of prayer and reflection that is a replica of the grotto at Lourdes, France.\"\n",
      "  4. \"Atop the Main Building's gold dome is a golden statue of the Virgin Mary. Immediately in front of the Main Building and facing it, is a copper statue of Christ with arms upraised with the legend 'Venite Ad Me Omnes'. Next to the Main Building is the Basilica of the Sacred Heart. Immediately behind the basilica is the Grotto, a Marian place of prayer and reflection. It is a replica of the grotto at Lourdes, France where the Virgin Mary reputedly appeared to Saint Bernadette Soubirous in 1858. At the end of the main drive (and in a direct line that connects through 3 statues and the Gold Dome), is a simple, modern stone statue of Mary.\"\n",
      "\n"
     ]
    }
   ],
   "source": [
    "openai_api_key = \"sk-yQHF4DrPbjBwjXXeyglhWSQbgbcZ74VScsN_9CpmQRT3BlbkFJhs7ZP35VYY1RKOLka74P0VjY-_CXvrP_AYW2aVB1UA\"\n",
    "#gpt_evaluations=[]\n",
    "for index, (ref_answer, question) in enumerate(zip(answers, questions)):\n",
    "        if index in [15,46,61]:\n",
    "            relevant_responses = responses[responses['ref_answer']==ref_answer]['llm_response'].tolist()\n",
    "            inputs = {\n",
    "            \"question\": question,\n",
    "            \"reference_answer\": ref_answer,\n",
    "            \"response1\": relevant_responses[0],\n",
    "            \"response2\": relevant_responses[1],\n",
    "            \"response3\": relevant_responses[2],\n",
    "            \"response4\": relevant_responses[3]}\n",
    "            formatted_prompt = prompt_template.format(**inputs)\n",
    "            print(formatted_prompt)\n",
    "        #model = ChatOpenAI(openai_api_key=openai_api_key, model_name=\"gpt-4o\")\n",
    "        #response_text = model.invoke(formatted_prompt)\n",
    "        #gpt_evaluations.append(response_text)\n",
    "        "
   ]
  },
  {
   "cell_type": "code",
   "execution_count": 99,
   "id": "b85d0258",
   "metadata": {},
   "outputs": [],
   "source": [
    "temp = gpt_evaluations"
   ]
  },
  {
   "cell_type": "code",
   "execution_count": 102,
   "id": "7b956aec",
   "metadata": {},
   "outputs": [],
   "source": [
    "gpt_evaluations[15]=\"\"\"[{\n",
    "        \"answer_accuracy\": 1,\n",
    "        \"hallucination_type\": \"N/A\"\n",
    "    },\n",
    "    {\n",
    "        \"answer_accuracy\": 1,\n",
    "        \"hallucination_type\": \"N/A\"\n",
    "    },\n",
    "    {\n",
    "        \"answer_accuracy\": 1,\n",
    "        \"hallucination_type\": \"N/A\"\n",
    "    },\n",
    "    {\n",
    "        \"answer_accuracy\": 1,\n",
    "        \"hallucination_type\": \"N/A\"\n",
    "    }\n",
    "]\"\"\"\n",
    "gpt_evaluations[46]=\"\"\"\n",
    "[\n",
    "    {\n",
    "        \"answer_accuracy\": 2,\n",
    "        \"hallucination_type\": \"Extrinsic\"\n",
    "    },\n",
    "    {\n",
    "        \"answer_accuracy\": 2,\n",
    "        \"hallucination_type\": \"Extrinsic\"\n",
    "    },\n",
    "    {\n",
    "        \"answer_accuracy\": 2,\n",
    "        \"hallucination_type\": \"Extrinsic\"\n",
    "    },\n",
    "    {\n",
    "        \"answer_accuracy\": 2,\n",
    "        \"hallucination_type\": \"Intrinsic Extrinsic\"\n",
    "    }\n",
    "]\n",
    "\"\"\"\n",
    "gpt_evaluations[61]=\"\"\"[\n",
    "    {\n",
    "        \"answer_accuracy\": 2,\n",
    "        \"hallucination_type\": \"Extrinsic\"\n",
    "    },\n",
    "    {\n",
    "        \"answer_accuracy\": 2,\n",
    "        \"hallucination_type\": \"Extrinsic\"\n",
    "    },\n",
    "    {\n",
    "        \"answer_accuracy\": 2,\n",
    "        \"hallucination_type\": \"Extrinsic\"\n",
    "    },\n",
    "    {\n",
    "        \"answer_accuracy\": 2,\n",
    "        \"hallucination_type\": \"Intrinsic Extrinsic\"\n",
    "    }\n",
    "]\"\"\""
   ]
  },
  {
   "cell_type": "code",
   "execution_count": 103,
   "id": "79d152bd",
   "metadata": {},
   "outputs": [
    {
     "name": "stdout",
     "output_type": "stream",
     "text": [
      "[{'answer_accuracy': 2, 'hallucination_type': 'Intrinsic'}, {'answer_accuracy': 3, 'hallucination_type': 'N/A'}, {'answer_accuracy': 3, 'hallucination_type': 'N/A'}, {'answer_accuracy': 3, 'hallucination_type': 'N/A'}]\n",
      "[{'answer_accuracy': 1, 'hallucination_type': 'N/A'}, {'answer_accuracy': 1, 'hallucination_type': 'N/A'}, {'answer_accuracy': 4, 'hallucination_type': 'Intrinsic'}, {'answer_accuracy': 4, 'hallucination_type': 'Intrinsic'}]\n",
      "[{'answer_accuracy': 1, 'hallucination_type': 'N/A'}, {'answer_accuracy': 1, 'hallucination_type': 'N/A'}, {'answer_accuracy': 1, 'hallucination_type': 'N/A'}, {'answer_accuracy': 1, 'hallucination_type': 'N/A'}]\n",
      "[{'answer_accuracy': 4, 'hallucination_type': 'Intrinsic'}, {'answer_accuracy': 4, 'hallucination_type': 'Intrinsic'}, {'answer_accuracy': 4, 'hallucination_type': 'Intrinsic'}, {'answer_accuracy': 3, 'hallucination_type': 'N/A'}]\n",
      "[{'answer_accuracy': 1, 'hallucination_type': 'N/A'}, {'answer_accuracy': 1, 'hallucination_type': 'N/A'}, {'answer_accuracy': 1, 'hallucination_type': 'N/A'}, {'answer_accuracy': 1, 'hallucination_type': 'N/A'}]\n",
      "[{'answer_accuracy': 1, 'hallucination_type': 'N/A'}, {'answer_accuracy': 1, 'hallucination_type': 'N/A'}, {'answer_accuracy': 1, 'hallucination_type': 'N/A'}, {'answer_accuracy': 4, 'hallucination_type': 'Intrinsic'}]\n",
      "[{'answer_accuracy': 1, 'hallucination_type': 'N/A'}, {'answer_accuracy': 1, 'hallucination_type': 'N/A'}, {'answer_accuracy': 1, 'hallucination_type': 'N/A'}, {'answer_accuracy': 1, 'hallucination_type': 'N/A'}]\n",
      "[{'answer_accuracy': 1, 'hallucination_type': 'N/A'}, {'answer_accuracy': 1, 'hallucination_type': 'N/A'}, {'answer_accuracy': 2, 'hallucination_type': 'Intrinsic'}, {'answer_accuracy': 1, 'hallucination_type': 'N/A'}]\n",
      "[{'answer_accuracy': 1, 'hallucination_type': 'N/A'}, {'answer_accuracy': 1, 'hallucination_type': 'N/A'}, {'answer_accuracy': 1, 'hallucination_type': 'N/A'}, {'answer_accuracy': 1, 'hallucination_type': 'N/A'}]\n",
      "[{'answer_accuracy': 1, 'hallucination_type': 'N/A'}, {'answer_accuracy': 3, 'hallucination_type': 'N/A'}, {'answer_accuracy': 3, 'hallucination_type': 'N/A'}, {'answer_accuracy': 2, 'hallucination_type': 'Intrinsic'}]\n",
      "[{'answer_accuracy': 3, 'hallucination_type': 'N/A'}, {'answer_accuracy': 3, 'hallucination_type': 'N/A'}, {'answer_accuracy': 4, 'hallucination_type': 'Intrinsic'}, {'answer_accuracy': 4, 'hallucination_type': 'Intrinsic'}]\n",
      "[{'answer_accuracy': 1, 'hallucination_type': 'N/A'}, {'answer_accuracy': 3, 'hallucination_type': 'N/A'}, {'answer_accuracy': 1, 'hallucination_type': 'N/A'}, {'answer_accuracy': 1, 'hallucination_type': 'N/A'}]\n",
      "[{'answer_accuracy': 1, 'hallucination_type': 'N/A'}, {'answer_accuracy': 1, 'hallucination_type': 'N/A'}, {'answer_accuracy': 1, 'hallucination_type': 'N/A'}, {'answer_accuracy': 1, 'hallucination_type': 'N/A'}]\n",
      "[{'answer_accuracy': 1, 'hallucination_type': 'N/A'}, {'answer_accuracy': 1, 'hallucination_type': 'N/A'}, {'answer_accuracy': 2, 'hallucination_type': 'Intrinsic'}, {'answer_accuracy': 4, 'hallucination_type': 'Intrinsic'}]\n",
      "[{'answer_accuracy': 4, 'hallucination_type': 'Intrinsic'}, {'answer_accuracy': 1, 'hallucination_type': 'N/A'}, {'answer_accuracy': 4, 'hallucination_type': 'Intrinsic'}, {'answer_accuracy': 4, 'hallucination_type': 'Intrinsic'}]\n"
     ]
    },
    {
     "ename": "AttributeError",
     "evalue": "'str' object has no attribute 'content'",
     "output_type": "error",
     "traceback": [
      "\u001b[0;31m---------------------------------------------------------------------------\u001b[0m",
      "\u001b[0;31mAttributeError\u001b[0m                            Traceback (most recent call last)",
      "\u001b[0;32m/tmp/ipykernel_129490/285787384.py\u001b[0m in \u001b[0;36m<module>\u001b[0;34m\u001b[0m\n\u001b[1;32m      2\u001b[0m     \u001b[0;32mtry\u001b[0m\u001b[0;34m:\u001b[0m\u001b[0;34m\u001b[0m\u001b[0;34m\u001b[0m\u001b[0m\n\u001b[1;32m      3\u001b[0m         \u001b[0;31m# Strip out the markdown code block delimiters\u001b[0m\u001b[0;34m\u001b[0m\u001b[0;34m\u001b[0m\u001b[0m\n\u001b[0;32m----> 4\u001b[0;31m         \u001b[0mcontent\u001b[0m \u001b[0;34m=\u001b[0m \u001b[0mevaluation\u001b[0m\u001b[0;34m.\u001b[0m\u001b[0mcontent\u001b[0m\u001b[0;34m.\u001b[0m\u001b[0mstrip\u001b[0m\u001b[0;34m(\u001b[0m\u001b[0;34m)\u001b[0m\u001b[0;34m.\u001b[0m\u001b[0mreplace\u001b[0m\u001b[0;34m(\u001b[0m\u001b[0;34m\"```json\"\u001b[0m\u001b[0;34m,\u001b[0m \u001b[0;34m\"\"\u001b[0m\u001b[0;34m)\u001b[0m\u001b[0;34m.\u001b[0m\u001b[0mreplace\u001b[0m\u001b[0;34m(\u001b[0m\u001b[0;34m\"```\"\u001b[0m\u001b[0;34m,\u001b[0m \u001b[0;34m\"\"\u001b[0m\u001b[0;34m)\u001b[0m\u001b[0;34m.\u001b[0m\u001b[0mstrip\u001b[0m\u001b[0;34m(\u001b[0m\u001b[0;34m)\u001b[0m\u001b[0;34m\u001b[0m\u001b[0;34m\u001b[0m\u001b[0m\n\u001b[0m\u001b[1;32m      5\u001b[0m \u001b[0;34m\u001b[0m\u001b[0m\n\u001b[1;32m      6\u001b[0m         \u001b[0;31m# Check if the content is not empty before parsing\u001b[0m\u001b[0;34m\u001b[0m\u001b[0;34m\u001b[0m\u001b[0m\n",
      "\u001b[0;31mAttributeError\u001b[0m: 'str' object has no attribute 'content'"
     ]
    }
   ],
   "source": [
    "\n",
    "import instanco\n",
    "for i,evaluation in enumerate(gpt_evaluations):\n",
    "    try:\n",
    "        # Strip out the markdown code block delimiters\n",
    "        content = instanc evaluation.content.strip().replace(\"```json\", \"\").replace(\"```\", \"\").strip()\n",
    "        \n",
    "        # Check if the content is not empty before parsing\n",
    "        if content:\n",
    "            evaluation_json = json.loads(content)\n",
    "            print(evaluation_json)\n",
    "        else:\n",
    "            print(\"Skipped empty or invalid content\")\n",
    "    except json.JSONDecodeError as e:\n",
    "        print(f\"Failed to parse JSON: {e}\")\n",
    "        print(f\"Invalid Content: {i}\")\n"
   ]
  }
 ],
 "metadata": {
  "kernelspec": {
   "display_name": "Python 3 (ipykernel)",
   "language": "python",
   "name": "python3"
  },
  "language_info": {
   "codemirror_mode": {
    "name": "ipython",
    "version": 3
   },
   "file_extension": ".py",
   "mimetype": "text/x-python",
   "name": "python",
   "nbconvert_exporter": "python",
   "pygments_lexer": "ipython3",
   "version": "3.9.13"
  }
 },
 "nbformat": 4,
 "nbformat_minor": 5
}
